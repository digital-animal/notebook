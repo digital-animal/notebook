{
 "cells": [
  {
   "cell_type": "code",
   "execution_count": 1,
   "metadata": {},
   "outputs": [],
   "source": [
    "# REGULAR EXPRESSION by Tanim(Book)"
   ]
  },
  {
   "cell_type": "code",
   "execution_count": 18,
   "metadata": {},
   "outputs": [],
   "source": [
    "# example - 01\n",
    "# finding countries name ending with 'land'\n",
    "# using string split and endswith method with list comprehension\n",
    "\n",
    "s = \"\"\"Afganistan, America, Bangladesh, Canada, Denmark, England,\n",
    "Greenland, Iceland, Netherlands, New Zealand, Sweden, Switzerland\"\"\""
   ]
  },
  {
   "cell_type": "code",
   "execution_count": 19,
   "metadata": {},
   "outputs": [
    {
     "data": {
      "text/plain": [
       "['Afganistan',\n",
       " ' America',\n",
       " ' Bangladesh',\n",
       " ' Canada',\n",
       " ' Denmark',\n",
       " ' England',\n",
       " '\\nGreenland',\n",
       " ' Iceland',\n",
       " ' Netherlands',\n",
       " ' New Zealand',\n",
       " ' Sweden',\n",
       " ' Switzerland']"
      ]
     },
     "execution_count": 19,
     "metadata": {},
     "output_type": "execute_result"
    }
   ],
   "source": [
    "countries = s.split(',')\n",
    "countries"
   ]
  },
  {
   "cell_type": "code",
   "execution_count": 5,
   "metadata": {},
   "outputs": [
    {
     "data": {
      "text/plain": [
       "12"
      ]
     },
     "execution_count": 5,
     "metadata": {},
     "output_type": "execute_result"
    }
   ],
   "source": [
    "len(countries)"
   ]
  },
  {
   "cell_type": "code",
   "execution_count": 7,
   "metadata": {},
   "outputs": [],
   "source": [
    "li = [country for country in countries if country.endswith(\"land\")]"
   ]
  },
  {
   "cell_type": "code",
   "execution_count": 8,
   "metadata": {},
   "outputs": [
    {
     "data": {
      "text/plain": [
       "[' England', '\\nGreenland', ' Iceland', ' New Zealand', ' Switzerland']"
      ]
     },
     "execution_count": 8,
     "metadata": {},
     "output_type": "execute_result"
    }
   ],
   "source": [
    "li"
   ]
  },
  {
   "cell_type": "code",
   "execution_count": 9,
   "metadata": {},
   "outputs": [
    {
     "data": {
      "text/plain": [
       "5"
      ]
     },
     "execution_count": 9,
     "metadata": {},
     "output_type": "execute_result"
    }
   ],
   "source": [
    "len(li)"
   ]
  },
  {
   "cell_type": "code",
   "execution_count": 11,
   "metadata": {},
   "outputs": [],
   "source": [
    "li = [country for country in countries if country.endswith(\"land\") or country.endswith(\"lands\")]"
   ]
  },
  {
   "cell_type": "code",
   "execution_count": 12,
   "metadata": {},
   "outputs": [
    {
     "data": {
      "text/plain": [
       "[' England',\n",
       " '\\nGreenland',\n",
       " ' Iceland',\n",
       " ' Netherlands',\n",
       " ' New Zealand',\n",
       " ' Switzerland']"
      ]
     },
     "execution_count": 12,
     "metadata": {},
     "output_type": "execute_result"
    }
   ],
   "source": [
    "li"
   ]
  },
  {
   "cell_type": "code",
   "execution_count": 13,
   "metadata": {},
   "outputs": [
    {
     "data": {
      "text/plain": [
       "6"
      ]
     },
     "execution_count": 13,
     "metadata": {},
     "output_type": "execute_result"
    }
   ],
   "source": [
    "len(li)"
   ]
  },
  {
   "cell_type": "code",
   "execution_count": 20,
   "metadata": {},
   "outputs": [],
   "source": [
    "# using regular expression\n",
    "import re\n",
    "\n",
    "s = \"\"\"Afganistan, America, Bangladesh, Canada, Denmark, England,\n",
    "Greenland, Iceland, Netherlands, New Zealand, Sweden, Switzerland\"\"\"\n",
    "\n",
    "li = re.findall(r'(\\w+lands*)',s)"
   ]
  },
  {
   "cell_type": "code",
   "execution_count": 21,
   "metadata": {},
   "outputs": [
    {
     "data": {
      "text/plain": [
       "['England', 'Greenland', 'Iceland', 'Netherlands', 'Zealand', 'Switzerland']"
      ]
     },
     "execution_count": 21,
     "metadata": {},
     "output_type": "execute_result"
    }
   ],
   "source": [
    "li"
   ]
  },
  {
   "cell_type": "code",
   "execution_count": 25,
   "metadata": {},
   "outputs": [],
   "source": [
    "# example - 02\n",
    "# using re.search()\n",
    "import re\n",
    "\n",
    "match = re.search(\"Bangla\",\"Bangladesh\")"
   ]
  },
  {
   "cell_type": "code",
   "execution_count": 26,
   "metadata": {},
   "outputs": [
    {
     "data": {
      "text/plain": [
       "<re.Match object; span=(0, 6), match='Bangla'>"
      ]
     },
     "execution_count": 26,
     "metadata": {},
     "output_type": "execute_result"
    }
   ],
   "source": [
    "match"
   ]
  },
  {
   "cell_type": "code",
   "execution_count": 23,
   "metadata": {},
   "outputs": [
    {
     "data": {
      "text/plain": [
       "'Bangla'"
      ]
     },
     "execution_count": 23,
     "metadata": {},
     "output_type": "execute_result"
    }
   ],
   "source": [
    "match.group()"
   ]
  },
  {
   "cell_type": "code",
   "execution_count": 27,
   "metadata": {},
   "outputs": [
    {
     "data": {
      "text/plain": [
       "'desh'"
      ]
     },
     "execution_count": 27,
     "metadata": {},
     "output_type": "execute_result"
    }
   ],
   "source": [
    "match = re.search(\"desh\",\"Bangladesh\")\n",
    "match.group()"
   ]
  },
  {
   "cell_type": "code",
   "execution_count": 28,
   "metadata": {},
   "outputs": [
    {
     "data": {
      "text/plain": [
       "'des'"
      ]
     },
     "execution_count": 28,
     "metadata": {},
     "output_type": "execute_result"
    }
   ],
   "source": [
    "match = re.search(\"des\",\"Bangladesh\")\n",
    "match.group()"
   ]
  },
  {
   "cell_type": "code",
   "execution_count": 29,
   "metadata": {},
   "outputs": [
    {
     "ename": "AttributeError",
     "evalue": "'NoneType' object has no attribute 'group'",
     "output_type": "error",
     "traceback": [
      "\u001b[1;31m---------------------------------------------------------------------------\u001b[0m",
      "\u001b[1;31mAttributeError\u001b[0m                            Traceback (most recent call last)",
      "\u001b[1;32m<ipython-input-29-62116d989a14>\u001b[0m in \u001b[0;36m<module>\u001b[1;34m\u001b[0m\n\u001b[0;32m      1\u001b[0m \u001b[0mmatch\u001b[0m \u001b[1;33m=\u001b[0m \u001b[0mre\u001b[0m\u001b[1;33m.\u001b[0m\u001b[0msearch\u001b[0m\u001b[1;33m(\u001b[0m\u001b[1;34m\"dets\"\u001b[0m\u001b[1;33m,\u001b[0m\u001b[1;34m\"Bangladesh\"\u001b[0m\u001b[1;33m)\u001b[0m\u001b[1;33m\u001b[0m\u001b[1;33m\u001b[0m\u001b[0m\n\u001b[1;32m----> 2\u001b[1;33m \u001b[0mmatch\u001b[0m\u001b[1;33m.\u001b[0m\u001b[0mgroup\u001b[0m\u001b[1;33m(\u001b[0m\u001b[1;33m)\u001b[0m\u001b[1;33m\u001b[0m\u001b[1;33m\u001b[0m\u001b[0m\n\u001b[0m",
      "\u001b[1;31mAttributeError\u001b[0m: 'NoneType' object has no attribute 'group'"
     ]
    }
   ],
   "source": [
    "match = re.search(\"dets\",\"Bangladesh\")\n",
    "match.group() # must render error"
   ]
  },
  {
   "cell_type": "code",
   "execution_count": 30,
   "metadata": {},
   "outputs": [],
   "source": [
    "match"
   ]
  },
  {
   "cell_type": "code",
   "execution_count": 31,
   "metadata": {},
   "outputs": [
    {
     "data": {
      "text/plain": [
       "NoneType"
      ]
     },
     "execution_count": 31,
     "metadata": {},
     "output_type": "execute_result"
    }
   ],
   "source": [
    "type(match)"
   ]
  },
  {
   "cell_type": "code",
   "execution_count": 32,
   "metadata": {},
   "outputs": [
    {
     "data": {
      "text/plain": [
       "True"
      ]
     },
     "execution_count": 32,
     "metadata": {},
     "output_type": "execute_result"
    }
   ],
   "source": [
    "match is None"
   ]
  },
  {
   "cell_type": "code",
   "execution_count": 35,
   "metadata": {},
   "outputs": [
    {
     "data": {
      "text/plain": [
       "'B'"
      ]
     },
     "execution_count": 35,
     "metadata": {},
     "output_type": "execute_result"
    }
   ],
   "source": [
    "# example - 03\n",
    "import re\n",
    "s = \"Bangladesh\"\n",
    "match = re.search('.',s)\n",
    "match.group()"
   ]
  },
  {
   "cell_type": "code",
   "execution_count": 36,
   "metadata": {},
   "outputs": [
    {
     "data": {
      "text/plain": [
       "'Ban'"
      ]
     },
     "execution_count": 36,
     "metadata": {},
     "output_type": "execute_result"
    }
   ],
   "source": [
    "match = re.search('B.n',s)\n",
    "match.group()"
   ]
  },
  {
   "cell_type": "code",
   "execution_count": 37,
   "metadata": {},
   "outputs": [
    {
     "data": {
      "text/plain": [
       "'Bangla'"
      ]
     },
     "execution_count": 37,
     "metadata": {},
     "output_type": "execute_result"
    }
   ],
   "source": [
    "match = re.search('B.n...',s)\n",
    "match.group()"
   ]
  },
  {
   "cell_type": "code",
   "execution_count": 38,
   "metadata": {},
   "outputs": [
    {
     "data": {
      "text/plain": [
       "'Bangladesh'"
      ]
     },
     "execution_count": 38,
     "metadata": {},
     "output_type": "execute_result"
    }
   ],
   "source": [
    "# example - 04\n",
    "s = \"Bangladesh is our homeland\"\n",
    "match = re.search(\"..........\",s)\n",
    "match.group()"
   ]
  },
  {
   "cell_type": "code",
   "execution_count": 39,
   "metadata": {},
   "outputs": [
    {
     "data": {
      "text/plain": [
       "'Bangladesh is our homeland'"
      ]
     },
     "execution_count": 39,
     "metadata": {},
     "output_type": "execute_result"
    }
   ],
   "source": [
    "match = re.search('.*',s)\n",
    "match.group()"
   ]
  },
  {
   "cell_type": "code",
   "execution_count": 40,
   "metadata": {},
   "outputs": [
    {
     "data": {
      "text/plain": [
       "'our'"
      ]
     },
     "execution_count": 40,
     "metadata": {},
     "output_type": "execute_result"
    }
   ],
   "source": [
    "s = \"Bangladesh is our homeland\"\n",
    "match = re.search(\"o\\w\\w\",s)\n",
    "match.group()"
   ]
  },
  {
   "cell_type": "code",
   "execution_count": 46,
   "metadata": {},
   "outputs": [],
   "source": [
    "match = re.search(\"i\\w\\w\",s)\n",
    "match"
   ]
  },
  {
   "cell_type": "code",
   "execution_count": 47,
   "metadata": {},
   "outputs": [
    {
     "ename": "AttributeError",
     "evalue": "'NoneType' object has no attribute 'group'",
     "output_type": "error",
     "traceback": [
      "\u001b[1;31m---------------------------------------------------------------------------\u001b[0m",
      "\u001b[1;31mAttributeError\u001b[0m                            Traceback (most recent call last)",
      "\u001b[1;32m<ipython-input-47-9cb0cc278ba6>\u001b[0m in \u001b[0;36m<module>\u001b[1;34m\u001b[0m\n\u001b[1;32m----> 1\u001b[1;33m \u001b[0mmatch\u001b[0m\u001b[1;33m.\u001b[0m\u001b[0mgroup\u001b[0m\u001b[1;33m(\u001b[0m\u001b[1;33m)\u001b[0m \u001b[1;31m# no word starting with i and follwed by two non-whitespace character\u001b[0m\u001b[1;33m\u001b[0m\u001b[1;33m\u001b[0m\u001b[0m\n\u001b[0m",
      "\u001b[1;31mAttributeError\u001b[0m: 'NoneType' object has no attribute 'group'"
     ]
    }
   ],
   "source": [
    "match.group() # no word starting with i and follwed by two non-whitespace character"
   ]
  },
  {
   "cell_type": "code",
   "execution_count": 48,
   "metadata": {},
   "outputs": [
    {
     "data": {
      "text/plain": [
       "<re.Match object; span=(11, 13), match='is'>"
      ]
     },
     "execution_count": 48,
     "metadata": {},
     "output_type": "execute_result"
    }
   ],
   "source": [
    "match = re.search(\"i\\w\",s)\n",
    "match"
   ]
  },
  {
   "cell_type": "code",
   "execution_count": 49,
   "metadata": {},
   "outputs": [
    {
     "data": {
      "text/plain": [
       "'is'"
      ]
     },
     "execution_count": 49,
     "metadata": {},
     "output_type": "execute_result"
    }
   ],
   "source": [
    "match.group()"
   ]
  },
  {
   "cell_type": "code",
   "execution_count": 52,
   "metadata": {},
   "outputs": [
    {
     "data": {
      "text/plain": [
       "<re.Match object; span=(0, 10), match='Bangladesh'>"
      ]
     },
     "execution_count": 52,
     "metadata": {},
     "output_type": "execute_result"
    }
   ],
   "source": [
    "# example - 05\n",
    "s = \"Bangladesh is a beautiful country and it is our homelad\"\n",
    "match = re.search(\"B\\w+h\",s)\n",
    "match"
   ]
  },
  {
   "cell_type": "code",
   "execution_count": 51,
   "metadata": {},
   "outputs": [
    {
     "data": {
      "text/plain": [
       "'Bangladesh'"
      ]
     },
     "execution_count": 51,
     "metadata": {},
     "output_type": "execute_result"
    }
   ],
   "source": [
    "match.group()"
   ]
  },
  {
   "cell_type": "code",
   "execution_count": 53,
   "metadata": {},
   "outputs": [
    {
     "data": {
      "text/plain": [
       "<re.Match object; span=(0, 49), match='Bangladesh is a beautiful country and it is our h>"
      ]
     },
     "execution_count": 53,
     "metadata": {},
     "output_type": "execute_result"
    }
   ],
   "source": [
    "s = \"Bangladesh is a beautiful country and it is our homelad\"\n",
    "match = re.search(\"B.+h\",s)\n",
    "match"
   ]
  },
  {
   "cell_type": "code",
   "execution_count": 54,
   "metadata": {},
   "outputs": [
    {
     "data": {
      "text/plain": [
       "'Bangladesh is a beautiful country and it is our h'"
      ]
     },
     "execution_count": 54,
     "metadata": {},
     "output_type": "execute_result"
    }
   ],
   "source": [
    "match.group()"
   ]
  },
  {
   "cell_type": "code",
   "execution_count": 55,
   "metadata": {},
   "outputs": [
    {
     "data": {
      "text/plain": [
       "'01711371737'"
      ]
     },
     "execution_count": 55,
     "metadata": {},
     "output_type": "execute_result"
    }
   ],
   "source": [
    "# example - 06\n",
    "text = \"Phone Number: 01711371737\"\n",
    "match = re.search(\"\\d+\",text)\n",
    "match.group()"
   ]
  },
  {
   "cell_type": "code",
   "execution_count": 60,
   "metadata": {},
   "outputs": [
    {
     "data": {
      "text/plain": [
       "'5'"
      ]
     },
     "execution_count": 60,
     "metadata": {},
     "output_type": "execute_result"
    }
   ],
   "source": [
    "# example - 07\n",
    "text = \"House Number: 5, Phone Number: 01711371737\"\n",
    "match = re.search(\"\\d+\",text)\n",
    "match.group()"
   ]
  },
  {
   "cell_type": "code",
   "execution_count": 61,
   "metadata": {},
   "outputs": [
    {
     "data": {
      "text/plain": [
       "'01711371737'"
      ]
     },
     "execution_count": 61,
     "metadata": {},
     "output_type": "execute_result"
    }
   ],
   "source": [
    "# example - 08\n",
    "text = \"House Number: 5, Phone Number: 01711371737\"\n",
    "match = re.search(\"\\d{11}\",text)\n",
    "match.group()"
   ]
  },
  {
   "cell_type": "code",
   "execution_count": 62,
   "metadata": {},
   "outputs": [
    {
     "ename": "AttributeError",
     "evalue": "'NoneType' object has no attribute 'group'",
     "output_type": "error",
     "traceback": [
      "\u001b[1;31m---------------------------------------------------------------------------\u001b[0m",
      "\u001b[1;31mAttributeError\u001b[0m                            Traceback (most recent call last)",
      "\u001b[1;32m<ipython-input-62-0cd7fdd4a88c>\u001b[0m in \u001b[0;36m<module>\u001b[1;34m\u001b[0m\n\u001b[0;32m      2\u001b[0m \u001b[0mtext\u001b[0m \u001b[1;33m=\u001b[0m \u001b[1;34m\"House Number: 5, Phone Number: 01711 371737\"\u001b[0m\u001b[1;33m\u001b[0m\u001b[1;33m\u001b[0m\u001b[0m\n\u001b[0;32m      3\u001b[0m \u001b[0mmatch\u001b[0m \u001b[1;33m=\u001b[0m \u001b[0mre\u001b[0m\u001b[1;33m.\u001b[0m\u001b[0msearch\u001b[0m\u001b[1;33m(\u001b[0m\u001b[1;34m\"\\d{11}\"\u001b[0m\u001b[1;33m,\u001b[0m\u001b[0mtext\u001b[0m\u001b[1;33m)\u001b[0m\u001b[1;33m\u001b[0m\u001b[1;33m\u001b[0m\u001b[0m\n\u001b[1;32m----> 4\u001b[1;33m \u001b[0mmatch\u001b[0m\u001b[1;33m.\u001b[0m\u001b[0mgroup\u001b[0m\u001b[1;33m(\u001b[0m\u001b[1;33m)\u001b[0m\u001b[1;33m\u001b[0m\u001b[1;33m\u001b[0m\u001b[0m\n\u001b[0m",
      "\u001b[1;31mAttributeError\u001b[0m: 'NoneType' object has no attribute 'group'"
     ]
    }
   ],
   "source": [
    "# example - 09\n",
    "text = \"House Number: 5, Phone Number: 01711 371737\"\n",
    "match = re.search(\"\\d{11}\",text) # must lead to error because of space\n",
    "match.group()"
   ]
  },
  {
   "cell_type": "code",
   "execution_count": 64,
   "metadata": {},
   "outputs": [
    {
     "data": {
      "text/plain": [
       "'01711 371737'"
      ]
     },
     "execution_count": 64,
     "metadata": {},
     "output_type": "execute_result"
    }
   ],
   "source": [
    "# example - 10\n",
    "text = \"House Number: 5, Phone Number: 01711 371737\"\n",
    "match = re.search(\"\\d{5}\\s*\\d{6}\",text)\n",
    "match.group()"
   ]
  },
  {
   "cell_type": "code",
   "execution_count": 67,
   "metadata": {},
   "outputs": [
    {
     "data": {
      "text/plain": [
       "'01711371737'"
      ]
     },
     "execution_count": 67,
     "metadata": {},
     "output_type": "execute_result"
    }
   ],
   "source": [
    "# example - 11\n",
    "text = \"House Number: 5, Phone Number: 01711371737\"\n",
    "match = re.search(\"\\d{5}\\s?\\d{6}\",text)\n",
    "match.group()"
   ]
  },
  {
   "cell_type": "code",
   "execution_count": 68,
   "metadata": {},
   "outputs": [
    {
     "data": {
      "text/plain": [
       "['5', '01711371737']"
      ]
     },
     "execution_count": 68,
     "metadata": {},
     "output_type": "execute_result"
    }
   ],
   "source": [
    "# example - 12\n",
    "text = \"House Number: 5, Phone Number: 01711371737\"\n",
    "match = re.findall(r\"\\d+\",text)\n",
    "match"
   ]
  },
  {
   "cell_type": "code",
   "execution_count": 69,
   "metadata": {},
   "outputs": [],
   "source": [
    "# example - 13\n",
    "# retrieve valid phone numbers\n",
    "text = \"multiple phone number, 01711371505,01816123456,01910 492357,00000000000 123-123\""
   ]
  },
  {
   "cell_type": "code",
   "execution_count": 71,
   "metadata": {},
   "outputs": [
    {
     "data": {
      "text/plain": [
       "['01711371505', '01816123456', '01910492357', '00000000000']"
      ]
     },
     "execution_count": 71,
     "metadata": {},
     "output_type": "execute_result"
    }
   ],
   "source": [
    "result = re.findall(r\"\\d{5}\\s?\\d{6}\",text)\n",
    "result"
   ]
  },
  {
   "cell_type": "code",
   "execution_count": 73,
   "metadata": {},
   "outputs": [],
   "source": [
    "# example - 14\n",
    "text = \"multiple phone number, 01711371505,01816123456,01910 492357,00000000000 123-123\""
   ]
  },
  {
   "cell_type": "code",
   "execution_count": 74,
   "metadata": {},
   "outputs": [
    {
     "data": {
      "text/plain": [
       "['01711371505', '01816123456', '01910 492357']"
      ]
     },
     "execution_count": 74,
     "metadata": {},
     "output_type": "execute_result"
    }
   ],
   "source": [
    "result = re.findall(r\"01[56789]\\d{2}\\s?\\d{6}\",text)\n",
    "result"
   ]
  },
  {
   "cell_type": "code",
   "execution_count": 41,
   "metadata": {},
   "outputs": [],
   "source": [
    "# example - 15\n",
    "# dividing the strings into lines using regex\n",
    "import re\n",
    "\n",
    "text = \"\"\"Bangladesh is our country.\n",
    "Bangla is our language.\n",
    "Python is a programming Language.\"\"\""
   ]
  },
  {
   "cell_type": "code",
   "execution_count": 42,
   "metadata": {},
   "outputs": [
    {
     "data": {
      "text/plain": [
       "['Bangladesh is our country',\n",
       " '\\nBangla is our language',\n",
       " '\\nPython is a programming Language']"
      ]
     },
     "execution_count": 42,
     "metadata": {},
     "output_type": "execute_result"
    }
   ],
   "source": [
    "result = re.findall(r\"([A-Za-z0-9\\s]*).\",text)\n",
    "result"
   ]
  },
  {
   "cell_type": "code",
   "execution_count": 43,
   "metadata": {},
   "outputs": [
    {
     "data": {
      "text/plain": [
       "['Bangladesh is our country.',\n",
       " 'Bangla is our language.',\n",
       " 'Python is a programming Language.']"
      ]
     },
     "execution_count": 43,
     "metadata": {},
     "output_type": "execute_result"
    }
   ],
   "source": [
    "# alternative solution\n",
    "re.findall(r\"^.*?$\",text,re.M)"
   ]
  },
  {
   "cell_type": "code",
   "execution_count": 44,
   "metadata": {},
   "outputs": [
    {
     "data": {
      "text/plain": [
       "['Bangladesh is our country.',\n",
       " 'Bangla is our language.',\n",
       " 'Python is a programming Language.']"
      ]
     },
     "execution_count": 44,
     "metadata": {},
     "output_type": "execute_result"
    }
   ],
   "source": [
    "re.findall(r\"^.+?$\",text,re.M)"
   ]
  },
  {
   "cell_type": "code",
   "execution_count": 85,
   "metadata": {},
   "outputs": [],
   "source": [
    "# example - 16\n",
    "s = \"Bangla engish bangla\"\n",
    "result = re.findall(r\"bangla\",s)"
   ]
  },
  {
   "cell_type": "code",
   "execution_count": 86,
   "metadata": {},
   "outputs": [
    {
     "data": {
      "text/plain": [
       "['bangla']"
      ]
     },
     "execution_count": 86,
     "metadata": {},
     "output_type": "execute_result"
    }
   ],
   "source": [
    "result"
   ]
  },
  {
   "cell_type": "code",
   "execution_count": 87,
   "metadata": {},
   "outputs": [
    {
     "data": {
      "text/plain": [
       "[]"
      ]
     },
     "execution_count": 87,
     "metadata": {},
     "output_type": "execute_result"
    }
   ],
   "source": [
    "re.findall(r\"^english\",s)"
   ]
  },
  {
   "cell_type": "code",
   "execution_count": 88,
   "metadata": {},
   "outputs": [
    {
     "data": {
      "text/plain": [
       "['Bangla']"
      ]
     },
     "execution_count": 88,
     "metadata": {},
     "output_type": "execute_result"
    }
   ],
   "source": [
    "re.findall(r\"^Bangla\",s)"
   ]
  },
  {
   "cell_type": "code",
   "execution_count": 89,
   "metadata": {},
   "outputs": [
    {
     "data": {
      "text/plain": [
       "[]"
      ]
     },
     "execution_count": 89,
     "metadata": {},
     "output_type": "execute_result"
    }
   ],
   "source": [
    "re.findall(r\"^bangla\",s)"
   ]
  },
  {
   "cell_type": "code",
   "execution_count": 90,
   "metadata": {},
   "outputs": [
    {
     "data": {
      "text/plain": [
       "['Bangla']"
      ]
     },
     "execution_count": 90,
     "metadata": {},
     "output_type": "execute_result"
    }
   ],
   "source": [
    "re.findall(r\"^bangla\",s,re.IGNORECASE)"
   ]
  },
  {
   "cell_type": "code",
   "execution_count": 91,
   "metadata": {},
   "outputs": [
    {
     "data": {
      "text/plain": [
       "['Bangla']"
      ]
     },
     "execution_count": 91,
     "metadata": {},
     "output_type": "execute_result"
    }
   ],
   "source": [
    "re.findall(r\"^bangla\",s,re.I)"
   ]
  },
  {
   "cell_type": "code",
   "execution_count": 47,
   "metadata": {
    "scrolled": true
   },
   "outputs": [],
   "source": [
    "# example - 17\n",
    "# working with text files\n",
    "import re\n",
    "\n",
    "with open(\"gollum.txt\",\"r\") as f:\n",
    "    text = f.read() # file converted to a single string\n"
   ]
  },
  {
   "cell_type": "code",
   "execution_count": 48,
   "metadata": {},
   "outputs": [
    {
     "data": {
      "text/plain": [
       "'ï»¿well, what to say about gollum! i found gollum to be the most interesting character in lords of the rings.\\ngollum surprised me many times. he has multiple layers in his character. well, what to say about gollum! i found gollum to be the most interesting character in lords of the rings.\\ngollum surprised me many times. he has multiple layers in his character. i like a dialogue by him very much. the dialogue is,\"precious,my precious,they stole it from us,nasty hobbities\". the actual name of gollum is smegeol.\\nwell, what to say about gollum! i found gollum to be the most interesting character in lords of the rings.\\ngollum surprised me many times. he has multiple layers in his character. well, what to say about gollum! i found gollum to be the most interesting character in lords of the rings.\\ngollum surprised me many times. he has multiple layers in his character. i like a dialogue by him very much. the dialogue is,\"precious,my precious,they stole it from us,nasty hobbities\". the actual name of gollum is smegeol.'"
      ]
     },
     "execution_count": 48,
     "metadata": {},
     "output_type": "execute_result"
    }
   ],
   "source": [
    "text"
   ]
  },
  {
   "cell_type": "code",
   "execution_count": 49,
   "metadata": {},
   "outputs": [
    {
     "data": {
      "text/plain": [
       "[]"
      ]
     },
     "execution_count": 49,
     "metadata": {},
     "output_type": "execute_result"
    }
   ],
   "source": [
    "re.findall(r\"^.*?$\",text)"
   ]
  },
  {
   "cell_type": "code",
   "execution_count": 50,
   "metadata": {},
   "outputs": [
    {
     "data": {
      "text/plain": [
       "['ï»¿well, what to say about gollum! i found gollum to be the most interesting character in lords of the rings.',\n",
       " 'gollum surprised me many times. he has multiple layers in his character. well, what to say about gollum! i found gollum to be the most interesting character in lords of the rings.',\n",
       " 'gollum surprised me many times. he has multiple layers in his character. i like a dialogue by him very much. the dialogue is,\"precious,my precious,they stole it from us,nasty hobbities\". the actual name of gollum is smegeol.',\n",
       " 'well, what to say about gollum! i found gollum to be the most interesting character in lords of the rings.',\n",
       " 'gollum surprised me many times. he has multiple layers in his character. well, what to say about gollum! i found gollum to be the most interesting character in lords of the rings.',\n",
       " 'gollum surprised me many times. he has multiple layers in his character. i like a dialogue by him very much. the dialogue is,\"precious,my precious,they stole it from us,nasty hobbities\". the actual name of gollum is smegeol.']"
      ]
     },
     "execution_count": 50,
     "metadata": {},
     "output_type": "execute_result"
    }
   ],
   "source": [
    "re.findall(r\"^.*?$\",text,re.MULTILINE)"
   ]
  },
  {
   "cell_type": "code",
   "execution_count": 52,
   "metadata": {},
   "outputs": [],
   "source": [
    "# example - 18\n",
    "# finding strings from html list\n",
    "str1 = \"\"\"\n",
    " <ul>\n",
    "     <li>Ronaldo</li>\n",
    "     <li>Messi</li>\n",
    "     <li>Neymar</li>\n",
    "     <li>Hazard</li>\n",
    "     <li>Pogba</li>\n",
    " </ul>\n",
    "\"\"\""
   ]
  },
  {
   "cell_type": "code",
   "execution_count": 55,
   "metadata": {},
   "outputs": [
    {
     "data": {
      "text/plain": [
       "['Ronaldo', 'Messi', 'Neymar', 'Hazard', 'Pogba']"
      ]
     },
     "execution_count": 55,
     "metadata": {},
     "output_type": "execute_result"
    }
   ],
   "source": [
    "# result = re.findall(r\"<li>(.*)</li>\", str1)\n",
    "result = re.findall(r\"<li>(.*?)</li>\", str1)\n",
    "result"
   ]
  },
  {
   "cell_type": "code",
   "execution_count": 66,
   "metadata": {},
   "outputs": [],
   "source": [
    "# example - 19\n",
    "# compiling regular expression\n",
    "# extracting all dates\n",
    "text = \"\"\"This is line 1. Date is 2017/06/01. \n",
    "And there is another date: 2017-07-01.\n",
    "The third and final date is 2017/08/30.\"\"\""
   ]
  },
  {
   "cell_type": "code",
   "execution_count": 67,
   "metadata": {},
   "outputs": [
    {
     "data": {
      "text/plain": [
       "[('2017', '06', '01'), ('2017', '07', '01'), ('2017', '08', '30')]"
      ]
     },
     "execution_count": 67,
     "metadata": {},
     "output_type": "execute_result"
    }
   ],
   "source": [
    "import re\n",
    "pattern = re.compile(r\"(\\d{4})[/-](\\d{2})[/-](\\d{2})\")\n",
    "# type(pattern)\n",
    "\n",
    "result = pattern.findall(text)\n",
    "result"
   ]
  },
  {
   "cell_type": "code",
   "execution_count": 70,
   "metadata": {},
   "outputs": [
    {
     "data": {
      "text/plain": [
       "[('2017', '06', '01'), ('2017', '07', '01'), ('2017', '08', '30')]"
      ]
     },
     "execution_count": 70,
     "metadata": {},
     "output_type": "execute_result"
    }
   ],
   "source": [
    "#  direct way\n",
    "re.findall(r\"(\\d{4})[/-](\\d{2})[/-](\\d{2})\",text)"
   ]
  },
  {
   "cell_type": "code",
   "execution_count": 71,
   "metadata": {},
   "outputs": [
    {
     "data": {
      "text/plain": [
       "[('2017', '06', '15')]"
      ]
     },
     "execution_count": 71,
     "metadata": {},
     "output_type": "execute_result"
    }
   ],
   "source": [
    "# example - 20\n",
    "\n",
    "text2 = \"New Date: 2017/06/15\"\n",
    "output = pattern.findall(text2)\n",
    "output"
   ]
  },
  {
   "cell_type": "code",
   "execution_count": 69,
   "metadata": {
    "collapsed": true
   },
   "outputs": [
    {
     "data": {
      "text/plain": [
       "['__class__',\n",
       " '__copy__',\n",
       " '__deepcopy__',\n",
       " '__delattr__',\n",
       " '__dir__',\n",
       " '__doc__',\n",
       " '__eq__',\n",
       " '__format__',\n",
       " '__ge__',\n",
       " '__getattribute__',\n",
       " '__gt__',\n",
       " '__hash__',\n",
       " '__init__',\n",
       " '__init_subclass__',\n",
       " '__le__',\n",
       " '__lt__',\n",
       " '__ne__',\n",
       " '__new__',\n",
       " '__reduce__',\n",
       " '__reduce_ex__',\n",
       " '__repr__',\n",
       " '__setattr__',\n",
       " '__sizeof__',\n",
       " '__str__',\n",
       " '__subclasshook__',\n",
       " 'findall',\n",
       " 'finditer',\n",
       " 'flags',\n",
       " 'fullmatch',\n",
       " 'groupindex',\n",
       " 'groups',\n",
       " 'match',\n",
       " 'pattern',\n",
       " 'scanner',\n",
       " 'search',\n",
       " 'split',\n",
       " 'sub',\n",
       " 'subn']"
      ]
     },
     "execution_count": 69,
     "metadata": {},
     "output_type": "execute_result"
    }
   ],
   "source": [
    "dir(pattern)"
   ]
  },
  {
   "cell_type": "code",
   "execution_count": 72,
   "metadata": {},
   "outputs": [
    {
     "data": {
      "text/plain": [
       "'Abcd 0000 - 00'"
      ]
     },
     "execution_count": 72,
     "metadata": {},
     "output_type": "execute_result"
    }
   ],
   "source": [
    "# example - 21\n",
    "# substituting string with regex\n",
    "import re\n",
    "\n",
    "s = \"Abcd 1234 - 33\"\n",
    "result = re.sub(r\"\\d\",'0',s)\n",
    "result"
   ]
  },
  {
   "cell_type": "code",
   "execution_count": 76,
   "metadata": {},
   "outputs": [
    {
     "data": {
      "text/plain": [
       "'2017-07-22, 2017-01-20, 2018-01-01'"
      ]
     },
     "execution_count": 76,
     "metadata": {},
     "output_type": "execute_result"
    }
   ],
   "source": [
    "# example - 22\n",
    "s = \"22/07/2017, 20/01/2017, 01/01/2018\"\n",
    "# new_s = re.sub(r\"(\\d{2})/(\\d{2})/(\\d{4})\", r\"\\3-\\2-1\", s)\n",
    "new_s = re.sub(r\"(\\d{2})/(\\d{2})/(\\d{4})\", \"\\g<3>-\\g<2>-\\g<1>\", s)\n",
    "new_s"
   ]
  },
  {
   "cell_type": "code",
   "execution_count": 34,
   "metadata": {},
   "outputs": [],
   "source": [
    "# example - 23\n",
    "# working with html\n",
    "\n",
    "with open(\"C:\\\\Users\\\\Jewel81\\\\Desktop\\\\Regex\\\\player.html\",\"r\") as fhand:\n",
    "    file_string = fhand.read()"
   ]
  },
  {
   "cell_type": "code",
   "execution_count": 35,
   "metadata": {},
   "outputs": [
    {
     "data": {
      "text/plain": [
       "'<!DOCTYPE html>\\n<html lang=\"en\">\\n<head>\\n    <meta charset=\"UTF-8\">\\n    <title>Player List</title>\\n</head>\\n<body>\\n    <ul>\\n        <li>\\n            Australia\\n            <ol>\\n                <li>Steve Smith</li>\\n                <li>David Warner</li>\\n            </ol>\\n        </li>\\n        <li>\\n            Bangladesh\\n            <ol>\\n                <li>Tamim Iqbal</li>\\n                <li>Mashrafee Mortaza</li>\\n            </ol>\\n        </li>\\n        <li>\\n            England\\n            <ol>\\n                <li>Jos Buttler</li>\\n                <li>Eoin Morgan</li>\\n            </ol>\\n        </li>\\n    </ul>\\n</body>\\n</html>\\n'"
      ]
     },
     "execution_count": 35,
     "metadata": {},
     "output_type": "execute_result"
    }
   ],
   "source": [
    "file_string"
   ]
  },
  {
   "cell_type": "code",
   "execution_count": 36,
   "metadata": {},
   "outputs": [
    {
     "data": {
      "text/plain": [
       "['Steve Smith',\n",
       " 'David Warner',\n",
       " 'Tamim Iqbal',\n",
       " 'Mashrafee Mortaza',\n",
       " 'Jos Buttler',\n",
       " 'Eoin Morgan']"
      ]
     },
     "execution_count": 36,
     "metadata": {},
     "output_type": "execute_result"
    }
   ],
   "source": [
    "import re\n",
    "\n",
    "# pattern - 1\n",
    "pattern = re.compile(r\"<li>(.*)</li>\")\n",
    "pattern.findall(file_string)"
   ]
  },
  {
   "cell_type": "code",
   "execution_count": 44,
   "metadata": {},
   "outputs": [
    {
     "name": "stdout",
     "output_type": "stream",
     "text": [
      "<ul>\n",
      "        <li>\n",
      "            Australia\n",
      "            <ol>\n",
      "                <li>Steve Smith</li>\n",
      "                <li>David Warner</li>\n",
      "            </ol>\n",
      "        </li>\n",
      "        <li>\n",
      "            Bangladesh\n",
      "            <ol>\n",
      "                <li>Tamim Iqbal</li>\n",
      "                <li>Mashrafee Mortaza</li>\n",
      "            </ol>\n",
      "        </li>\n",
      "        <li>\n",
      "            England\n",
      "            <ol>\n",
      "                <li>Jos Buttler</li>\n",
      "                <li>Eoin Morgan</li>\n",
      "            </ol>\n",
      "        </li>\n",
      "    </ul>\n"
     ]
    }
   ],
   "source": [
    "# pattern - 2\n",
    "pattern = re.compile(r\"<ul>\\s*(<li>\\s*(\\w+)\\s*<ol>\\s*(<li>(\\w+\\s\\w+)</li>\\s*){2}</ol>\\s*</li>\\s*){3}</ul>\")\n",
    "# matches = pattern.findall(file_string)\n",
    "# matches\n",
    "\n",
    "matches = pattern.finditer(file_string)\n",
    "\n",
    "for match in matches:\n",
    "#     print(match)\n",
    "    print(match.group())"
   ]
  },
  {
   "cell_type": "code",
   "execution_count": null,
   "metadata": {},
   "outputs": [],
   "source": [
    "==================== PENDING ========================="
   ]
  },
  {
   "cell_type": "code",
   "execution_count": 19,
   "metadata": {},
   "outputs": [],
   "source": [
    "# example - 24\n",
    "# parsing email\n",
    "text = \"\"\"Email your feedback and query here:\n",
    "zahid.jewel@yahoo.com book@zahid thank you\"\"\""
   ]
  },
  {
   "cell_type": "code",
   "execution_count": 20,
   "metadata": {},
   "outputs": [
    {
     "data": {
      "text/plain": [
       "['zahid.jewel@yahoo.com']"
      ]
     },
     "execution_count": 20,
     "metadata": {},
     "output_type": "execute_result"
    }
   ],
   "source": [
    "import re\n",
    "pattern = re.compile(r\"[a-zA-Z0-9._-]+@[a-zA-Z0-9.]+\\.[a-zA-Z]+\")\n",
    "match = pattern.findall(text)\n",
    "match"
   ]
  },
  {
   "cell_type": "code",
   "execution_count": 22,
   "metadata": {},
   "outputs": [
    {
     "name": "stdout",
     "output_type": "stream",
     "text": [
      "zahid.jewel@yahoo.com\n"
     ]
    }
   ],
   "source": [
    "match = pattern.finditer(text)\n",
    "for email in match:\n",
    "    print(email.group())"
   ]
  },
  {
   "cell_type": "code",
   "execution_count": 30,
   "metadata": {},
   "outputs": [
    {
     "name": "stdout",
     "output_type": "stream",
     "text": [
      "Enter folder name to create> web_scrapper\n",
      "web_scrapper already exists\n"
     ]
    }
   ],
   "source": [
    "# example - 25\n",
    "# collecting information from webpage\n",
    "# using re and os module\n",
    "\n",
    "import os\n",
    "# dir_name = \"web_crawler\"\n",
    "# os.mkdir(dir_name)\n",
    "\n",
    "def create_directory(name):\n",
    "    try:\n",
    "        os.mkdir(name)\n",
    "    except FileExistsError:\n",
    "        print(f\"{name} already exists\")\n",
    "\n",
    "name = input(\"Enter folder name to create> \")\n",
    "create_directory(name)"
   ]
  },
  {
   "cell_type": "code",
   "execution_count": null,
   "metadata": {},
   "outputs": [],
   "source": []
  },
  {
   "cell_type": "code",
   "execution_count": null,
   "metadata": {},
   "outputs": [],
   "source": [
    "# REGULAR EXPRESSION by Python Documentation"
   ]
  },
  {
   "cell_type": "code",
   "execution_count": 110,
   "metadata": {},
   "outputs": [],
   "source": [
    "# Metacharacters: . $ ^ * + ? { } [ ] () \\ |"
   ]
  },
  {
   "cell_type": "code",
   "execution_count": 111,
   "metadata": {},
   "outputs": [
    {
     "data": {
      "text/plain": [
       "re.compile(r'[a-z]+', re.UNICODE)"
      ]
     },
     "execution_count": 111,
     "metadata": {},
     "output_type": "execute_result"
    }
   ],
   "source": [
    "# example - 01\n",
    "import re\n",
    "p = re.compile(\"[a-z]+\")\n",
    "p"
   ]
  },
  {
   "cell_type": "code",
   "execution_count": 112,
   "metadata": {},
   "outputs": [
    {
     "data": {
      "text/plain": [
       "<re.Match object; span=(0, 5), match='tempo'>"
      ]
     },
     "execution_count": 112,
     "metadata": {},
     "output_type": "execute_result"
    }
   ],
   "source": [
    "p.match(\"tempo\")"
   ]
  },
  {
   "cell_type": "code",
   "execution_count": 114,
   "metadata": {},
   "outputs": [],
   "source": [
    "m = p.match(\"tempo\")"
   ]
  },
  {
   "cell_type": "code",
   "execution_count": 115,
   "metadata": {},
   "outputs": [
    {
     "data": {
      "text/plain": [
       "'tempo'"
      ]
     },
     "execution_count": 115,
     "metadata": {},
     "output_type": "execute_result"
    }
   ],
   "source": [
    "m.group()"
   ]
  },
  {
   "cell_type": "code",
   "execution_count": 116,
   "metadata": {},
   "outputs": [
    {
     "data": {
      "text/plain": [
       "0"
      ]
     },
     "execution_count": 116,
     "metadata": {},
     "output_type": "execute_result"
    }
   ],
   "source": [
    "m.start()"
   ]
  },
  {
   "cell_type": "code",
   "execution_count": 117,
   "metadata": {},
   "outputs": [
    {
     "data": {
      "text/plain": [
       "5"
      ]
     },
     "execution_count": 117,
     "metadata": {},
     "output_type": "execute_result"
    }
   ],
   "source": [
    "m.end()"
   ]
  },
  {
   "cell_type": "code",
   "execution_count": 118,
   "metadata": {},
   "outputs": [
    {
     "data": {
      "text/plain": [
       "(0, 5)"
      ]
     },
     "execution_count": 118,
     "metadata": {},
     "output_type": "execute_result"
    }
   ],
   "source": [
    "m.span()"
   ]
  },
  {
   "cell_type": "code",
   "execution_count": null,
   "metadata": {},
   "outputs": [],
   "source": [
    "# example - 02"
   ]
  },
  {
   "cell_type": "code",
   "execution_count": 119,
   "metadata": {},
   "outputs": [
    {
     "name": "stdout",
     "output_type": "stream",
     "text": [
      "Match found:  str\n"
     ]
    }
   ],
   "source": [
    "p = re.compile(\"...\")\n",
    "m = p.match(\"string goes here\")\n",
    "if m:\n",
    "    print(\"Match found: \",m.group())\n",
    "else:\n",
    "    print(\"No match\")"
   ]
  },
  {
   "cell_type": "code",
   "execution_count": 120,
   "metadata": {},
   "outputs": [
    {
     "data": {
      "text/plain": [
       "['12', '11', '10']"
      ]
     },
     "execution_count": 120,
     "metadata": {},
     "output_type": "execute_result"
    }
   ],
   "source": [
    "# example - 03\n",
    "p = re.compile(r\"\\d+\")\n",
    "p.findall(\"12 drummers drumming, 11 pipers piping, 10 lords a-leaping\")"
   ]
  },
  {
   "cell_type": "code",
   "execution_count": 121,
   "metadata": {},
   "outputs": [
    {
     "data": {
      "text/plain": [
       "<callable_iterator at 0x22295ccf0b8>"
      ]
     },
     "execution_count": 121,
     "metadata": {},
     "output_type": "execute_result"
    }
   ],
   "source": [
    "# example - 04\n",
    "text = \"12 drummers drumming, 11 pipers piping, 10 lords a-leaping\"\n",
    "p = re.compile(r\"\\d{2}\")\n",
    "\n",
    "p.finditer(text)"
   ]
  },
  {
   "cell_type": "code",
   "execution_count": 122,
   "metadata": {},
   "outputs": [
    {
     "data": {
      "text/plain": [
       "[<re.Match object; span=(0, 2), match='12'>,\n",
       " <re.Match object; span=(22, 24), match='11'>,\n",
       " <re.Match object; span=(40, 42), match='10'>]"
      ]
     },
     "execution_count": 122,
     "metadata": {},
     "output_type": "execute_result"
    }
   ],
   "source": [
    "list(p.finditer(text))"
   ]
  },
  {
   "cell_type": "code",
   "execution_count": null,
   "metadata": {},
   "outputs": [],
   "source": [
    "====================== PENDING ================================="
   ]
  },
  {
   "cell_type": "code",
   "execution_count": 109,
   "metadata": {},
   "outputs": [],
   "source": [
    "# REGULAR EXPRESSION by Corey Schafer"
   ]
  },
  {
   "cell_type": "code",
   "execution_count": 3,
   "metadata": {},
   "outputs": [],
   "source": [
    "# \\W      - Not a Word Character\n",
    "# \\s      - Whitespace (space, tab, newline)\n",
    "# \\S      - Not Whitespace (space, tab, newline)\n",
    "\n",
    "# \\b      - Word Boundary\n",
    "# \\B      - Not a Word Boundary\n",
    "# ^       - Beginning of a String\n",
    "# $       - End of a String\n",
    "\n",
    "# []      - Matches Characters in brackets\n",
    "# [^ ]    - Matches Characters NOT in brackets\n",
    "# |       - Either Or\n",
    "# ( )     - Group\n",
    "\n",
    "# Quantifiers:\n",
    "# *       - 0 or More\n",
    "# +       - 1 or More\n",
    "# ?       - 0 or One\n",
    "# {3}     - Exact Number\n",
    "# {3,4}   - Range of Numbers (Minimum, Maximum)\n",
    "\n",
    "\n",
    "#### Sample Regexs ####\n",
    "\n",
    "# [a-zA-Z0-9_.+-]+@[a-zA-Z0-9-]+\\.[a-zA-Z0-9-.]+\n"
   ]
  },
  {
   "cell_type": "code",
   "execution_count": 108,
   "metadata": {},
   "outputs": [],
   "source": [
    "import re\n",
    "\n",
    "text_to_search = '''\n",
    "abcdefghijklmnopqurtuvwxyz\n",
    "ABCDEFGHIJKLMNOPQRSTUVWXYZ\n",
    "1234567890\n",
    "\n",
    "Ha HaHa\n",
    "\n",
    "MetaCharacters (Need to be escaped):\n",
    ". ^ $ * + ? { } [ ] \\ | ( )\n",
    "\n",
    "coreyms.com\n",
    "\n",
    "321-555-4321\n",
    "123.555.1234\n",
    "123*555*1234\n",
    "800-555-1234\n",
    "900-555-1234\n",
    "\n",
    "Mr. Schafer\n",
    "Mr Smith\n",
    "Ms Davis\n",
    "Mrs. Robinson\n",
    "Mr. T\n",
    "\n",
    "cat\n",
    "mat\n",
    "pat\n",
    "bat\n",
    "rat\n",
    "\n",
    "'''\n",
    "\n",
    "sentence = 'Start a sentence and then bring it to an end'"
   ]
  },
  {
   "cell_type": "code",
   "execution_count": null,
   "metadata": {},
   "outputs": [],
   "source": [
    "# python raw strings - string prefixed with r.\n",
    "# tells python not handle backslash in any special way"
   ]
  },
  {
   "cell_type": "code",
   "execution_count": 6,
   "metadata": {},
   "outputs": [
    {
     "name": "stdout",
     "output_type": "stream",
     "text": [
      "\tTab\n"
     ]
    }
   ],
   "source": [
    "print(\"\\tTab\")"
   ]
  },
  {
   "cell_type": "code",
   "execution_count": 7,
   "metadata": {},
   "outputs": [
    {
     "name": "stdout",
     "output_type": "stream",
     "text": [
      "\\tTab\n"
     ]
    }
   ],
   "source": [
    "print(r\"\\tTab\")"
   ]
  },
  {
   "cell_type": "code",
   "execution_count": 10,
   "metadata": {},
   "outputs": [
    {
     "name": "stdout",
     "output_type": "stream",
     "text": [
      "<re.Match object; span=(1, 4), match='abc'>\n"
     ]
    }
   ],
   "source": [
    "# example - 01\n",
    "pattern = re.compile(r\"abc\")\n",
    "matches = pattern.finditer(text_to_search)\n",
    "for match in matches:\n",
    "    print(match)"
   ]
  },
  {
   "cell_type": "code",
   "execution_count": 13,
   "metadata": {},
   "outputs": [
    {
     "data": {
      "text/plain": [
       "'abc'"
      ]
     },
     "execution_count": 13,
     "metadata": {},
     "output_type": "execute_result"
    }
   ],
   "source": [
    "text_to_search[1:4]"
   ]
  },
  {
   "cell_type": "code",
   "execution_count": 14,
   "metadata": {},
   "outputs": [
    {
     "name": "stdout",
     "output_type": "stream",
     "text": [
      "<re.Match object; span=(142, 153), match='coreyms.com'>\n"
     ]
    }
   ],
   "source": [
    "# example - 02\n",
    "pattern = re.compile(r\"coreyms\\.com\")\n",
    "matches = pattern.finditer(text_to_search)\n",
    "for match in matches:\n",
    "    print(match)"
   ]
  },
  {
   "cell_type": "code",
   "execution_count": 16,
   "metadata": {},
   "outputs": [
    {
     "data": {
      "text/plain": [
       "'coreyms.com'"
      ]
     },
     "execution_count": 16,
     "metadata": {},
     "output_type": "execute_result"
    }
   ],
   "source": [
    "text_to_search[142:153]"
   ]
  },
  {
   "cell_type": "code",
   "execution_count": 17,
   "metadata": {
    "collapsed": true
   },
   "outputs": [
    {
     "name": "stdout",
     "output_type": "stream",
     "text": [
      "<re.Match object; span=(1, 2), match='a'>\n",
      "<re.Match object; span=(2, 3), match='b'>\n",
      "<re.Match object; span=(3, 4), match='c'>\n",
      "<re.Match object; span=(4, 5), match='d'>\n",
      "<re.Match object; span=(5, 6), match='e'>\n",
      "<re.Match object; span=(6, 7), match='f'>\n",
      "<re.Match object; span=(7, 8), match='g'>\n",
      "<re.Match object; span=(8, 9), match='h'>\n",
      "<re.Match object; span=(9, 10), match='i'>\n",
      "<re.Match object; span=(10, 11), match='j'>\n",
      "<re.Match object; span=(11, 12), match='k'>\n",
      "<re.Match object; span=(12, 13), match='l'>\n",
      "<re.Match object; span=(13, 14), match='m'>\n",
      "<re.Match object; span=(14, 15), match='n'>\n",
      "<re.Match object; span=(15, 16), match='o'>\n",
      "<re.Match object; span=(16, 17), match='p'>\n",
      "<re.Match object; span=(17, 18), match='q'>\n",
      "<re.Match object; span=(18, 19), match='u'>\n",
      "<re.Match object; span=(19, 20), match='r'>\n",
      "<re.Match object; span=(20, 21), match='t'>\n",
      "<re.Match object; span=(21, 22), match='u'>\n",
      "<re.Match object; span=(22, 23), match='v'>\n",
      "<re.Match object; span=(23, 24), match='w'>\n",
      "<re.Match object; span=(24, 25), match='x'>\n",
      "<re.Match object; span=(25, 26), match='y'>\n",
      "<re.Match object; span=(26, 27), match='z'>\n",
      "<re.Match object; span=(28, 29), match='A'>\n",
      "<re.Match object; span=(29, 30), match='B'>\n",
      "<re.Match object; span=(30, 31), match='C'>\n",
      "<re.Match object; span=(31, 32), match='D'>\n",
      "<re.Match object; span=(32, 33), match='E'>\n",
      "<re.Match object; span=(33, 34), match='F'>\n",
      "<re.Match object; span=(34, 35), match='G'>\n",
      "<re.Match object; span=(35, 36), match='H'>\n",
      "<re.Match object; span=(36, 37), match='I'>\n",
      "<re.Match object; span=(37, 38), match='J'>\n",
      "<re.Match object; span=(38, 39), match='K'>\n",
      "<re.Match object; span=(39, 40), match='L'>\n",
      "<re.Match object; span=(40, 41), match='M'>\n",
      "<re.Match object; span=(41, 42), match='N'>\n",
      "<re.Match object; span=(42, 43), match='O'>\n",
      "<re.Match object; span=(43, 44), match='P'>\n",
      "<re.Match object; span=(44, 45), match='Q'>\n",
      "<re.Match object; span=(45, 46), match='R'>\n",
      "<re.Match object; span=(46, 47), match='S'>\n",
      "<re.Match object; span=(47, 48), match='T'>\n",
      "<re.Match object; span=(48, 49), match='U'>\n",
      "<re.Match object; span=(49, 50), match='V'>\n",
      "<re.Match object; span=(50, 51), match='W'>\n",
      "<re.Match object; span=(51, 52), match='X'>\n",
      "<re.Match object; span=(52, 53), match='Y'>\n",
      "<re.Match object; span=(53, 54), match='Z'>\n",
      "<re.Match object; span=(55, 56), match='1'>\n",
      "<re.Match object; span=(56, 57), match='2'>\n",
      "<re.Match object; span=(57, 58), match='3'>\n",
      "<re.Match object; span=(58, 59), match='4'>\n",
      "<re.Match object; span=(59, 60), match='5'>\n",
      "<re.Match object; span=(60, 61), match='6'>\n",
      "<re.Match object; span=(61, 62), match='7'>\n",
      "<re.Match object; span=(62, 63), match='8'>\n",
      "<re.Match object; span=(63, 64), match='9'>\n",
      "<re.Match object; span=(64, 65), match='0'>\n",
      "<re.Match object; span=(67, 68), match='H'>\n",
      "<re.Match object; span=(68, 69), match='a'>\n",
      "<re.Match object; span=(69, 70), match=' '>\n",
      "<re.Match object; span=(70, 71), match='H'>\n",
      "<re.Match object; span=(71, 72), match='a'>\n",
      "<re.Match object; span=(72, 73), match='H'>\n",
      "<re.Match object; span=(73, 74), match='a'>\n",
      "<re.Match object; span=(76, 77), match='M'>\n",
      "<re.Match object; span=(77, 78), match='e'>\n",
      "<re.Match object; span=(78, 79), match='t'>\n",
      "<re.Match object; span=(79, 80), match='a'>\n",
      "<re.Match object; span=(80, 81), match='C'>\n",
      "<re.Match object; span=(81, 82), match='h'>\n",
      "<re.Match object; span=(82, 83), match='a'>\n",
      "<re.Match object; span=(83, 84), match='r'>\n",
      "<re.Match object; span=(84, 85), match='a'>\n",
      "<re.Match object; span=(85, 86), match='c'>\n",
      "<re.Match object; span=(86, 87), match='t'>\n",
      "<re.Match object; span=(87, 88), match='e'>\n",
      "<re.Match object; span=(88, 89), match='r'>\n",
      "<re.Match object; span=(89, 90), match='s'>\n",
      "<re.Match object; span=(90, 91), match=' '>\n",
      "<re.Match object; span=(91, 92), match='('>\n",
      "<re.Match object; span=(92, 93), match='N'>\n",
      "<re.Match object; span=(93, 94), match='e'>\n",
      "<re.Match object; span=(94, 95), match='e'>\n",
      "<re.Match object; span=(95, 96), match='d'>\n",
      "<re.Match object; span=(96, 97), match=' '>\n",
      "<re.Match object; span=(97, 98), match='t'>\n",
      "<re.Match object; span=(98, 99), match='o'>\n",
      "<re.Match object; span=(99, 100), match=' '>\n",
      "<re.Match object; span=(100, 101), match='b'>\n",
      "<re.Match object; span=(101, 102), match='e'>\n",
      "<re.Match object; span=(102, 103), match=' '>\n",
      "<re.Match object; span=(103, 104), match='e'>\n",
      "<re.Match object; span=(104, 105), match='s'>\n",
      "<re.Match object; span=(105, 106), match='c'>\n",
      "<re.Match object; span=(106, 107), match='a'>\n",
      "<re.Match object; span=(107, 108), match='p'>\n",
      "<re.Match object; span=(108, 109), match='e'>\n",
      "<re.Match object; span=(109, 110), match='d'>\n",
      "<re.Match object; span=(110, 111), match=')'>\n",
      "<re.Match object; span=(111, 112), match=':'>\n",
      "<re.Match object; span=(113, 114), match='.'>\n",
      "<re.Match object; span=(114, 115), match=' '>\n",
      "<re.Match object; span=(115, 116), match='^'>\n",
      "<re.Match object; span=(116, 117), match=' '>\n",
      "<re.Match object; span=(117, 118), match='$'>\n",
      "<re.Match object; span=(118, 119), match=' '>\n",
      "<re.Match object; span=(119, 120), match='*'>\n",
      "<re.Match object; span=(120, 121), match=' '>\n",
      "<re.Match object; span=(121, 122), match='+'>\n",
      "<re.Match object; span=(122, 123), match=' '>\n",
      "<re.Match object; span=(123, 124), match='?'>\n",
      "<re.Match object; span=(124, 125), match=' '>\n",
      "<re.Match object; span=(125, 126), match='{'>\n",
      "<re.Match object; span=(126, 127), match=' '>\n",
      "<re.Match object; span=(127, 128), match='}'>\n",
      "<re.Match object; span=(128, 129), match=' '>\n",
      "<re.Match object; span=(129, 130), match='['>\n",
      "<re.Match object; span=(130, 131), match=' '>\n",
      "<re.Match object; span=(131, 132), match=']'>\n",
      "<re.Match object; span=(132, 133), match=' '>\n",
      "<re.Match object; span=(133, 134), match='\\\\'>\n",
      "<re.Match object; span=(134, 135), match=' '>\n",
      "<re.Match object; span=(135, 136), match='|'>\n",
      "<re.Match object; span=(136, 137), match=' '>\n",
      "<re.Match object; span=(137, 138), match='('>\n",
      "<re.Match object; span=(138, 139), match=' '>\n",
      "<re.Match object; span=(139, 140), match=')'>\n",
      "<re.Match object; span=(142, 143), match='c'>\n",
      "<re.Match object; span=(143, 144), match='o'>\n",
      "<re.Match object; span=(144, 145), match='r'>\n",
      "<re.Match object; span=(145, 146), match='e'>\n",
      "<re.Match object; span=(146, 147), match='y'>\n",
      "<re.Match object; span=(147, 148), match='m'>\n",
      "<re.Match object; span=(148, 149), match='s'>\n",
      "<re.Match object; span=(149, 150), match='.'>\n",
      "<re.Match object; span=(150, 151), match='c'>\n",
      "<re.Match object; span=(151, 152), match='o'>\n",
      "<re.Match object; span=(152, 153), match='m'>\n",
      "<re.Match object; span=(155, 156), match='3'>\n",
      "<re.Match object; span=(156, 157), match='2'>\n",
      "<re.Match object; span=(157, 158), match='1'>\n",
      "<re.Match object; span=(158, 159), match='-'>\n",
      "<re.Match object; span=(159, 160), match='5'>\n",
      "<re.Match object; span=(160, 161), match='5'>\n",
      "<re.Match object; span=(161, 162), match='5'>\n",
      "<re.Match object; span=(162, 163), match='-'>\n",
      "<re.Match object; span=(163, 164), match='4'>\n",
      "<re.Match object; span=(164, 165), match='3'>\n",
      "<re.Match object; span=(165, 166), match='2'>\n",
      "<re.Match object; span=(166, 167), match='1'>\n",
      "<re.Match object; span=(168, 169), match='1'>\n",
      "<re.Match object; span=(169, 170), match='2'>\n",
      "<re.Match object; span=(170, 171), match='3'>\n",
      "<re.Match object; span=(171, 172), match='.'>\n",
      "<re.Match object; span=(172, 173), match='5'>\n",
      "<re.Match object; span=(173, 174), match='5'>\n",
      "<re.Match object; span=(174, 175), match='5'>\n",
      "<re.Match object; span=(175, 176), match='.'>\n",
      "<re.Match object; span=(176, 177), match='1'>\n",
      "<re.Match object; span=(177, 178), match='2'>\n",
      "<re.Match object; span=(178, 179), match='3'>\n",
      "<re.Match object; span=(179, 180), match='4'>\n",
      "<re.Match object; span=(181, 182), match='1'>\n",
      "<re.Match object; span=(182, 183), match='2'>\n",
      "<re.Match object; span=(183, 184), match='3'>\n",
      "<re.Match object; span=(184, 185), match='*'>\n",
      "<re.Match object; span=(185, 186), match='5'>\n",
      "<re.Match object; span=(186, 187), match='5'>\n",
      "<re.Match object; span=(187, 188), match='5'>\n",
      "<re.Match object; span=(188, 189), match='*'>\n",
      "<re.Match object; span=(189, 190), match='1'>\n",
      "<re.Match object; span=(190, 191), match='2'>\n",
      "<re.Match object; span=(191, 192), match='3'>\n",
      "<re.Match object; span=(192, 193), match='4'>\n",
      "<re.Match object; span=(194, 195), match='8'>\n",
      "<re.Match object; span=(195, 196), match='0'>\n",
      "<re.Match object; span=(196, 197), match='0'>\n",
      "<re.Match object; span=(197, 198), match='-'>\n",
      "<re.Match object; span=(198, 199), match='5'>\n",
      "<re.Match object; span=(199, 200), match='5'>\n",
      "<re.Match object; span=(200, 201), match='5'>\n",
      "<re.Match object; span=(201, 202), match='-'>\n",
      "<re.Match object; span=(202, 203), match='1'>\n",
      "<re.Match object; span=(203, 204), match='2'>\n",
      "<re.Match object; span=(204, 205), match='3'>\n",
      "<re.Match object; span=(205, 206), match='4'>\n",
      "<re.Match object; span=(207, 208), match='9'>\n",
      "<re.Match object; span=(208, 209), match='0'>\n",
      "<re.Match object; span=(209, 210), match='0'>\n",
      "<re.Match object; span=(210, 211), match='-'>\n",
      "<re.Match object; span=(211, 212), match='5'>\n",
      "<re.Match object; span=(212, 213), match='5'>\n",
      "<re.Match object; span=(213, 214), match='5'>\n",
      "<re.Match object; span=(214, 215), match='-'>\n",
      "<re.Match object; span=(215, 216), match='1'>\n",
      "<re.Match object; span=(216, 217), match='2'>\n",
      "<re.Match object; span=(217, 218), match='3'>\n",
      "<re.Match object; span=(218, 219), match='4'>\n",
      "<re.Match object; span=(221, 222), match='M'>\n",
      "<re.Match object; span=(222, 223), match='r'>\n",
      "<re.Match object; span=(223, 224), match='.'>\n",
      "<re.Match object; span=(224, 225), match=' '>\n",
      "<re.Match object; span=(225, 226), match='S'>\n",
      "<re.Match object; span=(226, 227), match='c'>\n",
      "<re.Match object; span=(227, 228), match='h'>\n",
      "<re.Match object; span=(228, 229), match='a'>\n",
      "<re.Match object; span=(229, 230), match='f'>\n",
      "<re.Match object; span=(230, 231), match='e'>\n",
      "<re.Match object; span=(231, 232), match='r'>\n",
      "<re.Match object; span=(233, 234), match='M'>\n",
      "<re.Match object; span=(234, 235), match='r'>\n",
      "<re.Match object; span=(235, 236), match=' '>\n",
      "<re.Match object; span=(236, 237), match='S'>\n",
      "<re.Match object; span=(237, 238), match='m'>\n",
      "<re.Match object; span=(238, 239), match='i'>\n",
      "<re.Match object; span=(239, 240), match='t'>\n",
      "<re.Match object; span=(240, 241), match='h'>\n",
      "<re.Match object; span=(242, 243), match='M'>\n",
      "<re.Match object; span=(243, 244), match='s'>\n",
      "<re.Match object; span=(244, 245), match=' '>\n",
      "<re.Match object; span=(245, 246), match='D'>\n",
      "<re.Match object; span=(246, 247), match='a'>\n",
      "<re.Match object; span=(247, 248), match='v'>\n",
      "<re.Match object; span=(248, 249), match='i'>\n",
      "<re.Match object; span=(249, 250), match='s'>\n",
      "<re.Match object; span=(251, 252), match='M'>\n",
      "<re.Match object; span=(252, 253), match='r'>\n",
      "<re.Match object; span=(253, 254), match='s'>\n",
      "<re.Match object; span=(254, 255), match='.'>\n",
      "<re.Match object; span=(255, 256), match=' '>\n",
      "<re.Match object; span=(256, 257), match='R'>\n",
      "<re.Match object; span=(257, 258), match='o'>\n",
      "<re.Match object; span=(258, 259), match='b'>\n",
      "<re.Match object; span=(259, 260), match='i'>\n",
      "<re.Match object; span=(260, 261), match='n'>\n",
      "<re.Match object; span=(261, 262), match='s'>\n",
      "<re.Match object; span=(262, 263), match='o'>\n",
      "<re.Match object; span=(263, 264), match='n'>\n",
      "<re.Match object; span=(265, 266), match='M'>\n",
      "<re.Match object; span=(266, 267), match='r'>\n",
      "<re.Match object; span=(267, 268), match='.'>\n",
      "<re.Match object; span=(268, 269), match=' '>\n",
      "<re.Match object; span=(269, 270), match='T'>\n"
     ]
    }
   ],
   "source": [
    "# example - 03\n",
    "pattern = re.compile(r\".\")\n",
    "matches = pattern.finditer(text_to_search)\n",
    "for match in matches:\n",
    "    print(match)"
   ]
  },
  {
   "cell_type": "code",
   "execution_count": 18,
   "metadata": {
    "collapsed": true
   },
   "outputs": [
    {
     "name": "stdout",
     "output_type": "stream",
     "text": [
      "<re.Match object; span=(55, 56), match='1'>\n",
      "<re.Match object; span=(56, 57), match='2'>\n",
      "<re.Match object; span=(57, 58), match='3'>\n",
      "<re.Match object; span=(58, 59), match='4'>\n",
      "<re.Match object; span=(59, 60), match='5'>\n",
      "<re.Match object; span=(60, 61), match='6'>\n",
      "<re.Match object; span=(61, 62), match='7'>\n",
      "<re.Match object; span=(62, 63), match='8'>\n",
      "<re.Match object; span=(63, 64), match='9'>\n",
      "<re.Match object; span=(64, 65), match='0'>\n",
      "<re.Match object; span=(155, 156), match='3'>\n",
      "<re.Match object; span=(156, 157), match='2'>\n",
      "<re.Match object; span=(157, 158), match='1'>\n",
      "<re.Match object; span=(159, 160), match='5'>\n",
      "<re.Match object; span=(160, 161), match='5'>\n",
      "<re.Match object; span=(161, 162), match='5'>\n",
      "<re.Match object; span=(163, 164), match='4'>\n",
      "<re.Match object; span=(164, 165), match='3'>\n",
      "<re.Match object; span=(165, 166), match='2'>\n",
      "<re.Match object; span=(166, 167), match='1'>\n",
      "<re.Match object; span=(168, 169), match='1'>\n",
      "<re.Match object; span=(169, 170), match='2'>\n",
      "<re.Match object; span=(170, 171), match='3'>\n",
      "<re.Match object; span=(172, 173), match='5'>\n",
      "<re.Match object; span=(173, 174), match='5'>\n",
      "<re.Match object; span=(174, 175), match='5'>\n",
      "<re.Match object; span=(176, 177), match='1'>\n",
      "<re.Match object; span=(177, 178), match='2'>\n",
      "<re.Match object; span=(178, 179), match='3'>\n",
      "<re.Match object; span=(179, 180), match='4'>\n",
      "<re.Match object; span=(181, 182), match='1'>\n",
      "<re.Match object; span=(182, 183), match='2'>\n",
      "<re.Match object; span=(183, 184), match='3'>\n",
      "<re.Match object; span=(185, 186), match='5'>\n",
      "<re.Match object; span=(186, 187), match='5'>\n",
      "<re.Match object; span=(187, 188), match='5'>\n",
      "<re.Match object; span=(189, 190), match='1'>\n",
      "<re.Match object; span=(190, 191), match='2'>\n",
      "<re.Match object; span=(191, 192), match='3'>\n",
      "<re.Match object; span=(192, 193), match='4'>\n",
      "<re.Match object; span=(194, 195), match='8'>\n",
      "<re.Match object; span=(195, 196), match='0'>\n",
      "<re.Match object; span=(196, 197), match='0'>\n",
      "<re.Match object; span=(198, 199), match='5'>\n",
      "<re.Match object; span=(199, 200), match='5'>\n",
      "<re.Match object; span=(200, 201), match='5'>\n",
      "<re.Match object; span=(202, 203), match='1'>\n",
      "<re.Match object; span=(203, 204), match='2'>\n",
      "<re.Match object; span=(204, 205), match='3'>\n",
      "<re.Match object; span=(205, 206), match='4'>\n",
      "<re.Match object; span=(207, 208), match='9'>\n",
      "<re.Match object; span=(208, 209), match='0'>\n",
      "<re.Match object; span=(209, 210), match='0'>\n",
      "<re.Match object; span=(211, 212), match='5'>\n",
      "<re.Match object; span=(212, 213), match='5'>\n",
      "<re.Match object; span=(213, 214), match='5'>\n",
      "<re.Match object; span=(215, 216), match='1'>\n",
      "<re.Match object; span=(216, 217), match='2'>\n",
      "<re.Match object; span=(217, 218), match='3'>\n",
      "<re.Match object; span=(218, 219), match='4'>\n"
     ]
    }
   ],
   "source": [
    "# example - 04\n",
    "pattern = re.compile(r\"\\d\")\n",
    "matches = pattern.finditer(text_to_search)\n",
    "for match in matches:\n",
    "    print(match)"
   ]
  },
  {
   "cell_type": "code",
   "execution_count": 19,
   "metadata": {
    "collapsed": true
   },
   "outputs": [
    {
     "name": "stdout",
     "output_type": "stream",
     "text": [
      "<re.Match object; span=(0, 1), match='\\n'>\n",
      "<re.Match object; span=(1, 2), match='a'>\n",
      "<re.Match object; span=(2, 3), match='b'>\n",
      "<re.Match object; span=(3, 4), match='c'>\n",
      "<re.Match object; span=(4, 5), match='d'>\n",
      "<re.Match object; span=(5, 6), match='e'>\n",
      "<re.Match object; span=(6, 7), match='f'>\n",
      "<re.Match object; span=(7, 8), match='g'>\n",
      "<re.Match object; span=(8, 9), match='h'>\n",
      "<re.Match object; span=(9, 10), match='i'>\n",
      "<re.Match object; span=(10, 11), match='j'>\n",
      "<re.Match object; span=(11, 12), match='k'>\n",
      "<re.Match object; span=(12, 13), match='l'>\n",
      "<re.Match object; span=(13, 14), match='m'>\n",
      "<re.Match object; span=(14, 15), match='n'>\n",
      "<re.Match object; span=(15, 16), match='o'>\n",
      "<re.Match object; span=(16, 17), match='p'>\n",
      "<re.Match object; span=(17, 18), match='q'>\n",
      "<re.Match object; span=(18, 19), match='u'>\n",
      "<re.Match object; span=(19, 20), match='r'>\n",
      "<re.Match object; span=(20, 21), match='t'>\n",
      "<re.Match object; span=(21, 22), match='u'>\n",
      "<re.Match object; span=(22, 23), match='v'>\n",
      "<re.Match object; span=(23, 24), match='w'>\n",
      "<re.Match object; span=(24, 25), match='x'>\n",
      "<re.Match object; span=(25, 26), match='y'>\n",
      "<re.Match object; span=(26, 27), match='z'>\n",
      "<re.Match object; span=(27, 28), match='\\n'>\n",
      "<re.Match object; span=(28, 29), match='A'>\n",
      "<re.Match object; span=(29, 30), match='B'>\n",
      "<re.Match object; span=(30, 31), match='C'>\n",
      "<re.Match object; span=(31, 32), match='D'>\n",
      "<re.Match object; span=(32, 33), match='E'>\n",
      "<re.Match object; span=(33, 34), match='F'>\n",
      "<re.Match object; span=(34, 35), match='G'>\n",
      "<re.Match object; span=(35, 36), match='H'>\n",
      "<re.Match object; span=(36, 37), match='I'>\n",
      "<re.Match object; span=(37, 38), match='J'>\n",
      "<re.Match object; span=(38, 39), match='K'>\n",
      "<re.Match object; span=(39, 40), match='L'>\n",
      "<re.Match object; span=(40, 41), match='M'>\n",
      "<re.Match object; span=(41, 42), match='N'>\n",
      "<re.Match object; span=(42, 43), match='O'>\n",
      "<re.Match object; span=(43, 44), match='P'>\n",
      "<re.Match object; span=(44, 45), match='Q'>\n",
      "<re.Match object; span=(45, 46), match='R'>\n",
      "<re.Match object; span=(46, 47), match='S'>\n",
      "<re.Match object; span=(47, 48), match='T'>\n",
      "<re.Match object; span=(48, 49), match='U'>\n",
      "<re.Match object; span=(49, 50), match='V'>\n",
      "<re.Match object; span=(50, 51), match='W'>\n",
      "<re.Match object; span=(51, 52), match='X'>\n",
      "<re.Match object; span=(52, 53), match='Y'>\n",
      "<re.Match object; span=(53, 54), match='Z'>\n",
      "<re.Match object; span=(54, 55), match='\\n'>\n",
      "<re.Match object; span=(65, 66), match='\\n'>\n",
      "<re.Match object; span=(66, 67), match='\\n'>\n",
      "<re.Match object; span=(67, 68), match='H'>\n",
      "<re.Match object; span=(68, 69), match='a'>\n",
      "<re.Match object; span=(69, 70), match=' '>\n",
      "<re.Match object; span=(70, 71), match='H'>\n",
      "<re.Match object; span=(71, 72), match='a'>\n",
      "<re.Match object; span=(72, 73), match='H'>\n",
      "<re.Match object; span=(73, 74), match='a'>\n",
      "<re.Match object; span=(74, 75), match='\\n'>\n",
      "<re.Match object; span=(75, 76), match='\\n'>\n",
      "<re.Match object; span=(76, 77), match='M'>\n",
      "<re.Match object; span=(77, 78), match='e'>\n",
      "<re.Match object; span=(78, 79), match='t'>\n",
      "<re.Match object; span=(79, 80), match='a'>\n",
      "<re.Match object; span=(80, 81), match='C'>\n",
      "<re.Match object; span=(81, 82), match='h'>\n",
      "<re.Match object; span=(82, 83), match='a'>\n",
      "<re.Match object; span=(83, 84), match='r'>\n",
      "<re.Match object; span=(84, 85), match='a'>\n",
      "<re.Match object; span=(85, 86), match='c'>\n",
      "<re.Match object; span=(86, 87), match='t'>\n",
      "<re.Match object; span=(87, 88), match='e'>\n",
      "<re.Match object; span=(88, 89), match='r'>\n",
      "<re.Match object; span=(89, 90), match='s'>\n",
      "<re.Match object; span=(90, 91), match=' '>\n",
      "<re.Match object; span=(91, 92), match='('>\n",
      "<re.Match object; span=(92, 93), match='N'>\n",
      "<re.Match object; span=(93, 94), match='e'>\n",
      "<re.Match object; span=(94, 95), match='e'>\n",
      "<re.Match object; span=(95, 96), match='d'>\n",
      "<re.Match object; span=(96, 97), match=' '>\n",
      "<re.Match object; span=(97, 98), match='t'>\n",
      "<re.Match object; span=(98, 99), match='o'>\n",
      "<re.Match object; span=(99, 100), match=' '>\n",
      "<re.Match object; span=(100, 101), match='b'>\n",
      "<re.Match object; span=(101, 102), match='e'>\n",
      "<re.Match object; span=(102, 103), match=' '>\n",
      "<re.Match object; span=(103, 104), match='e'>\n",
      "<re.Match object; span=(104, 105), match='s'>\n",
      "<re.Match object; span=(105, 106), match='c'>\n",
      "<re.Match object; span=(106, 107), match='a'>\n",
      "<re.Match object; span=(107, 108), match='p'>\n",
      "<re.Match object; span=(108, 109), match='e'>\n",
      "<re.Match object; span=(109, 110), match='d'>\n",
      "<re.Match object; span=(110, 111), match=')'>\n",
      "<re.Match object; span=(111, 112), match=':'>\n",
      "<re.Match object; span=(112, 113), match='\\n'>\n",
      "<re.Match object; span=(113, 114), match='.'>\n",
      "<re.Match object; span=(114, 115), match=' '>\n",
      "<re.Match object; span=(115, 116), match='^'>\n",
      "<re.Match object; span=(116, 117), match=' '>\n",
      "<re.Match object; span=(117, 118), match='$'>\n",
      "<re.Match object; span=(118, 119), match=' '>\n",
      "<re.Match object; span=(119, 120), match='*'>\n",
      "<re.Match object; span=(120, 121), match=' '>\n",
      "<re.Match object; span=(121, 122), match='+'>\n",
      "<re.Match object; span=(122, 123), match=' '>\n",
      "<re.Match object; span=(123, 124), match='?'>\n",
      "<re.Match object; span=(124, 125), match=' '>\n",
      "<re.Match object; span=(125, 126), match='{'>\n",
      "<re.Match object; span=(126, 127), match=' '>\n",
      "<re.Match object; span=(127, 128), match='}'>\n",
      "<re.Match object; span=(128, 129), match=' '>\n",
      "<re.Match object; span=(129, 130), match='['>\n",
      "<re.Match object; span=(130, 131), match=' '>\n",
      "<re.Match object; span=(131, 132), match=']'>\n",
      "<re.Match object; span=(132, 133), match=' '>\n",
      "<re.Match object; span=(133, 134), match='\\\\'>\n",
      "<re.Match object; span=(134, 135), match=' '>\n",
      "<re.Match object; span=(135, 136), match='|'>\n",
      "<re.Match object; span=(136, 137), match=' '>\n",
      "<re.Match object; span=(137, 138), match='('>\n",
      "<re.Match object; span=(138, 139), match=' '>\n",
      "<re.Match object; span=(139, 140), match=')'>\n",
      "<re.Match object; span=(140, 141), match='\\n'>\n",
      "<re.Match object; span=(141, 142), match='\\n'>\n",
      "<re.Match object; span=(142, 143), match='c'>\n",
      "<re.Match object; span=(143, 144), match='o'>\n",
      "<re.Match object; span=(144, 145), match='r'>\n",
      "<re.Match object; span=(145, 146), match='e'>\n",
      "<re.Match object; span=(146, 147), match='y'>\n",
      "<re.Match object; span=(147, 148), match='m'>\n",
      "<re.Match object; span=(148, 149), match='s'>\n",
      "<re.Match object; span=(149, 150), match='.'>\n",
      "<re.Match object; span=(150, 151), match='c'>\n",
      "<re.Match object; span=(151, 152), match='o'>\n",
      "<re.Match object; span=(152, 153), match='m'>\n",
      "<re.Match object; span=(153, 154), match='\\n'>\n",
      "<re.Match object; span=(154, 155), match='\\n'>\n",
      "<re.Match object; span=(158, 159), match='-'>\n",
      "<re.Match object; span=(162, 163), match='-'>\n",
      "<re.Match object; span=(167, 168), match='\\n'>\n",
      "<re.Match object; span=(171, 172), match='.'>\n",
      "<re.Match object; span=(175, 176), match='.'>\n",
      "<re.Match object; span=(180, 181), match='\\n'>\n",
      "<re.Match object; span=(184, 185), match='*'>\n",
      "<re.Match object; span=(188, 189), match='*'>\n",
      "<re.Match object; span=(193, 194), match='\\n'>\n",
      "<re.Match object; span=(197, 198), match='-'>\n",
      "<re.Match object; span=(201, 202), match='-'>\n",
      "<re.Match object; span=(206, 207), match='\\n'>\n",
      "<re.Match object; span=(210, 211), match='-'>\n",
      "<re.Match object; span=(214, 215), match='-'>\n",
      "<re.Match object; span=(219, 220), match='\\n'>\n",
      "<re.Match object; span=(220, 221), match='\\n'>\n",
      "<re.Match object; span=(221, 222), match='M'>\n",
      "<re.Match object; span=(222, 223), match='r'>\n",
      "<re.Match object; span=(223, 224), match='.'>\n",
      "<re.Match object; span=(224, 225), match=' '>\n",
      "<re.Match object; span=(225, 226), match='S'>\n",
      "<re.Match object; span=(226, 227), match='c'>\n",
      "<re.Match object; span=(227, 228), match='h'>\n",
      "<re.Match object; span=(228, 229), match='a'>\n",
      "<re.Match object; span=(229, 230), match='f'>\n",
      "<re.Match object; span=(230, 231), match='e'>\n",
      "<re.Match object; span=(231, 232), match='r'>\n",
      "<re.Match object; span=(232, 233), match='\\n'>\n",
      "<re.Match object; span=(233, 234), match='M'>\n",
      "<re.Match object; span=(234, 235), match='r'>\n",
      "<re.Match object; span=(235, 236), match=' '>\n",
      "<re.Match object; span=(236, 237), match='S'>\n",
      "<re.Match object; span=(237, 238), match='m'>\n",
      "<re.Match object; span=(238, 239), match='i'>\n",
      "<re.Match object; span=(239, 240), match='t'>\n",
      "<re.Match object; span=(240, 241), match='h'>\n",
      "<re.Match object; span=(241, 242), match='\\n'>\n",
      "<re.Match object; span=(242, 243), match='M'>\n",
      "<re.Match object; span=(243, 244), match='s'>\n",
      "<re.Match object; span=(244, 245), match=' '>\n",
      "<re.Match object; span=(245, 246), match='D'>\n",
      "<re.Match object; span=(246, 247), match='a'>\n",
      "<re.Match object; span=(247, 248), match='v'>\n",
      "<re.Match object; span=(248, 249), match='i'>\n",
      "<re.Match object; span=(249, 250), match='s'>\n",
      "<re.Match object; span=(250, 251), match='\\n'>\n",
      "<re.Match object; span=(251, 252), match='M'>\n",
      "<re.Match object; span=(252, 253), match='r'>\n",
      "<re.Match object; span=(253, 254), match='s'>\n",
      "<re.Match object; span=(254, 255), match='.'>\n",
      "<re.Match object; span=(255, 256), match=' '>\n",
      "<re.Match object; span=(256, 257), match='R'>\n",
      "<re.Match object; span=(257, 258), match='o'>\n",
      "<re.Match object; span=(258, 259), match='b'>\n",
      "<re.Match object; span=(259, 260), match='i'>\n",
      "<re.Match object; span=(260, 261), match='n'>\n",
      "<re.Match object; span=(261, 262), match='s'>\n",
      "<re.Match object; span=(262, 263), match='o'>\n",
      "<re.Match object; span=(263, 264), match='n'>\n",
      "<re.Match object; span=(264, 265), match='\\n'>\n",
      "<re.Match object; span=(265, 266), match='M'>\n",
      "<re.Match object; span=(266, 267), match='r'>\n",
      "<re.Match object; span=(267, 268), match='.'>\n",
      "<re.Match object; span=(268, 269), match=' '>\n",
      "<re.Match object; span=(269, 270), match='T'>\n",
      "<re.Match object; span=(270, 271), match='\\n'>\n"
     ]
    }
   ],
   "source": [
    "# example - 05\n",
    "pattern = re.compile(r\"\\D\")\n",
    "matches = pattern.finditer(text_to_search)\n",
    "for match in matches:\n",
    "    print(match)"
   ]
  },
  {
   "cell_type": "code",
   "execution_count": 20,
   "metadata": {
    "collapsed": true
   },
   "outputs": [
    {
     "name": "stdout",
     "output_type": "stream",
     "text": [
      "<re.Match object; span=(1, 2), match='a'>\n",
      "<re.Match object; span=(2, 3), match='b'>\n",
      "<re.Match object; span=(3, 4), match='c'>\n",
      "<re.Match object; span=(4, 5), match='d'>\n",
      "<re.Match object; span=(5, 6), match='e'>\n",
      "<re.Match object; span=(6, 7), match='f'>\n",
      "<re.Match object; span=(7, 8), match='g'>\n",
      "<re.Match object; span=(8, 9), match='h'>\n",
      "<re.Match object; span=(9, 10), match='i'>\n",
      "<re.Match object; span=(10, 11), match='j'>\n",
      "<re.Match object; span=(11, 12), match='k'>\n",
      "<re.Match object; span=(12, 13), match='l'>\n",
      "<re.Match object; span=(13, 14), match='m'>\n",
      "<re.Match object; span=(14, 15), match='n'>\n",
      "<re.Match object; span=(15, 16), match='o'>\n",
      "<re.Match object; span=(16, 17), match='p'>\n",
      "<re.Match object; span=(17, 18), match='q'>\n",
      "<re.Match object; span=(18, 19), match='u'>\n",
      "<re.Match object; span=(19, 20), match='r'>\n",
      "<re.Match object; span=(20, 21), match='t'>\n",
      "<re.Match object; span=(21, 22), match='u'>\n",
      "<re.Match object; span=(22, 23), match='v'>\n",
      "<re.Match object; span=(23, 24), match='w'>\n",
      "<re.Match object; span=(24, 25), match='x'>\n",
      "<re.Match object; span=(25, 26), match='y'>\n",
      "<re.Match object; span=(26, 27), match='z'>\n",
      "<re.Match object; span=(28, 29), match='A'>\n",
      "<re.Match object; span=(29, 30), match='B'>\n",
      "<re.Match object; span=(30, 31), match='C'>\n",
      "<re.Match object; span=(31, 32), match='D'>\n",
      "<re.Match object; span=(32, 33), match='E'>\n",
      "<re.Match object; span=(33, 34), match='F'>\n",
      "<re.Match object; span=(34, 35), match='G'>\n",
      "<re.Match object; span=(35, 36), match='H'>\n",
      "<re.Match object; span=(36, 37), match='I'>\n",
      "<re.Match object; span=(37, 38), match='J'>\n",
      "<re.Match object; span=(38, 39), match='K'>\n",
      "<re.Match object; span=(39, 40), match='L'>\n",
      "<re.Match object; span=(40, 41), match='M'>\n",
      "<re.Match object; span=(41, 42), match='N'>\n",
      "<re.Match object; span=(42, 43), match='O'>\n",
      "<re.Match object; span=(43, 44), match='P'>\n",
      "<re.Match object; span=(44, 45), match='Q'>\n",
      "<re.Match object; span=(45, 46), match='R'>\n",
      "<re.Match object; span=(46, 47), match='S'>\n",
      "<re.Match object; span=(47, 48), match='T'>\n",
      "<re.Match object; span=(48, 49), match='U'>\n",
      "<re.Match object; span=(49, 50), match='V'>\n",
      "<re.Match object; span=(50, 51), match='W'>\n",
      "<re.Match object; span=(51, 52), match='X'>\n",
      "<re.Match object; span=(52, 53), match='Y'>\n",
      "<re.Match object; span=(53, 54), match='Z'>\n",
      "<re.Match object; span=(55, 56), match='1'>\n",
      "<re.Match object; span=(56, 57), match='2'>\n",
      "<re.Match object; span=(57, 58), match='3'>\n",
      "<re.Match object; span=(58, 59), match='4'>\n",
      "<re.Match object; span=(59, 60), match='5'>\n",
      "<re.Match object; span=(60, 61), match='6'>\n",
      "<re.Match object; span=(61, 62), match='7'>\n",
      "<re.Match object; span=(62, 63), match='8'>\n",
      "<re.Match object; span=(63, 64), match='9'>\n",
      "<re.Match object; span=(64, 65), match='0'>\n",
      "<re.Match object; span=(67, 68), match='H'>\n",
      "<re.Match object; span=(68, 69), match='a'>\n",
      "<re.Match object; span=(70, 71), match='H'>\n",
      "<re.Match object; span=(71, 72), match='a'>\n",
      "<re.Match object; span=(72, 73), match='H'>\n",
      "<re.Match object; span=(73, 74), match='a'>\n",
      "<re.Match object; span=(76, 77), match='M'>\n",
      "<re.Match object; span=(77, 78), match='e'>\n",
      "<re.Match object; span=(78, 79), match='t'>\n",
      "<re.Match object; span=(79, 80), match='a'>\n",
      "<re.Match object; span=(80, 81), match='C'>\n",
      "<re.Match object; span=(81, 82), match='h'>\n",
      "<re.Match object; span=(82, 83), match='a'>\n",
      "<re.Match object; span=(83, 84), match='r'>\n",
      "<re.Match object; span=(84, 85), match='a'>\n",
      "<re.Match object; span=(85, 86), match='c'>\n",
      "<re.Match object; span=(86, 87), match='t'>\n",
      "<re.Match object; span=(87, 88), match='e'>\n",
      "<re.Match object; span=(88, 89), match='r'>\n",
      "<re.Match object; span=(89, 90), match='s'>\n",
      "<re.Match object; span=(92, 93), match='N'>\n",
      "<re.Match object; span=(93, 94), match='e'>\n",
      "<re.Match object; span=(94, 95), match='e'>\n",
      "<re.Match object; span=(95, 96), match='d'>\n",
      "<re.Match object; span=(97, 98), match='t'>\n",
      "<re.Match object; span=(98, 99), match='o'>\n",
      "<re.Match object; span=(100, 101), match='b'>\n",
      "<re.Match object; span=(101, 102), match='e'>\n",
      "<re.Match object; span=(103, 104), match='e'>\n",
      "<re.Match object; span=(104, 105), match='s'>\n",
      "<re.Match object; span=(105, 106), match='c'>\n",
      "<re.Match object; span=(106, 107), match='a'>\n",
      "<re.Match object; span=(107, 108), match='p'>\n",
      "<re.Match object; span=(108, 109), match='e'>\n",
      "<re.Match object; span=(109, 110), match='d'>\n",
      "<re.Match object; span=(142, 143), match='c'>\n",
      "<re.Match object; span=(143, 144), match='o'>\n",
      "<re.Match object; span=(144, 145), match='r'>\n",
      "<re.Match object; span=(145, 146), match='e'>\n",
      "<re.Match object; span=(146, 147), match='y'>\n",
      "<re.Match object; span=(147, 148), match='m'>\n",
      "<re.Match object; span=(148, 149), match='s'>\n",
      "<re.Match object; span=(150, 151), match='c'>\n",
      "<re.Match object; span=(151, 152), match='o'>\n",
      "<re.Match object; span=(152, 153), match='m'>\n",
      "<re.Match object; span=(155, 156), match='3'>\n",
      "<re.Match object; span=(156, 157), match='2'>\n",
      "<re.Match object; span=(157, 158), match='1'>\n",
      "<re.Match object; span=(159, 160), match='5'>\n",
      "<re.Match object; span=(160, 161), match='5'>\n",
      "<re.Match object; span=(161, 162), match='5'>\n",
      "<re.Match object; span=(163, 164), match='4'>\n",
      "<re.Match object; span=(164, 165), match='3'>\n",
      "<re.Match object; span=(165, 166), match='2'>\n",
      "<re.Match object; span=(166, 167), match='1'>\n",
      "<re.Match object; span=(168, 169), match='1'>\n",
      "<re.Match object; span=(169, 170), match='2'>\n",
      "<re.Match object; span=(170, 171), match='3'>\n",
      "<re.Match object; span=(172, 173), match='5'>\n",
      "<re.Match object; span=(173, 174), match='5'>\n",
      "<re.Match object; span=(174, 175), match='5'>\n",
      "<re.Match object; span=(176, 177), match='1'>\n",
      "<re.Match object; span=(177, 178), match='2'>\n",
      "<re.Match object; span=(178, 179), match='3'>\n",
      "<re.Match object; span=(179, 180), match='4'>\n",
      "<re.Match object; span=(181, 182), match='1'>\n",
      "<re.Match object; span=(182, 183), match='2'>\n",
      "<re.Match object; span=(183, 184), match='3'>\n",
      "<re.Match object; span=(185, 186), match='5'>\n",
      "<re.Match object; span=(186, 187), match='5'>\n",
      "<re.Match object; span=(187, 188), match='5'>\n",
      "<re.Match object; span=(189, 190), match='1'>\n",
      "<re.Match object; span=(190, 191), match='2'>\n",
      "<re.Match object; span=(191, 192), match='3'>\n",
      "<re.Match object; span=(192, 193), match='4'>\n",
      "<re.Match object; span=(194, 195), match='8'>\n",
      "<re.Match object; span=(195, 196), match='0'>\n",
      "<re.Match object; span=(196, 197), match='0'>\n",
      "<re.Match object; span=(198, 199), match='5'>\n",
      "<re.Match object; span=(199, 200), match='5'>\n",
      "<re.Match object; span=(200, 201), match='5'>\n",
      "<re.Match object; span=(202, 203), match='1'>\n",
      "<re.Match object; span=(203, 204), match='2'>\n",
      "<re.Match object; span=(204, 205), match='3'>\n",
      "<re.Match object; span=(205, 206), match='4'>\n",
      "<re.Match object; span=(207, 208), match='9'>\n",
      "<re.Match object; span=(208, 209), match='0'>\n",
      "<re.Match object; span=(209, 210), match='0'>\n",
      "<re.Match object; span=(211, 212), match='5'>\n",
      "<re.Match object; span=(212, 213), match='5'>\n",
      "<re.Match object; span=(213, 214), match='5'>\n",
      "<re.Match object; span=(215, 216), match='1'>\n",
      "<re.Match object; span=(216, 217), match='2'>\n",
      "<re.Match object; span=(217, 218), match='3'>\n",
      "<re.Match object; span=(218, 219), match='4'>\n",
      "<re.Match object; span=(221, 222), match='M'>\n",
      "<re.Match object; span=(222, 223), match='r'>\n",
      "<re.Match object; span=(225, 226), match='S'>\n",
      "<re.Match object; span=(226, 227), match='c'>\n",
      "<re.Match object; span=(227, 228), match='h'>\n",
      "<re.Match object; span=(228, 229), match='a'>\n",
      "<re.Match object; span=(229, 230), match='f'>\n",
      "<re.Match object; span=(230, 231), match='e'>\n",
      "<re.Match object; span=(231, 232), match='r'>\n",
      "<re.Match object; span=(233, 234), match='M'>\n",
      "<re.Match object; span=(234, 235), match='r'>\n",
      "<re.Match object; span=(236, 237), match='S'>\n",
      "<re.Match object; span=(237, 238), match='m'>\n",
      "<re.Match object; span=(238, 239), match='i'>\n",
      "<re.Match object; span=(239, 240), match='t'>\n",
      "<re.Match object; span=(240, 241), match='h'>\n",
      "<re.Match object; span=(242, 243), match='M'>\n",
      "<re.Match object; span=(243, 244), match='s'>\n",
      "<re.Match object; span=(245, 246), match='D'>\n",
      "<re.Match object; span=(246, 247), match='a'>\n",
      "<re.Match object; span=(247, 248), match='v'>\n",
      "<re.Match object; span=(248, 249), match='i'>\n",
      "<re.Match object; span=(249, 250), match='s'>\n",
      "<re.Match object; span=(251, 252), match='M'>\n",
      "<re.Match object; span=(252, 253), match='r'>\n",
      "<re.Match object; span=(253, 254), match='s'>\n",
      "<re.Match object; span=(256, 257), match='R'>\n",
      "<re.Match object; span=(257, 258), match='o'>\n",
      "<re.Match object; span=(258, 259), match='b'>\n",
      "<re.Match object; span=(259, 260), match='i'>\n",
      "<re.Match object; span=(260, 261), match='n'>\n",
      "<re.Match object; span=(261, 262), match='s'>\n",
      "<re.Match object; span=(262, 263), match='o'>\n",
      "<re.Match object; span=(263, 264), match='n'>\n",
      "<re.Match object; span=(265, 266), match='M'>\n",
      "<re.Match object; span=(266, 267), match='r'>\n",
      "<re.Match object; span=(269, 270), match='T'>\n"
     ]
    }
   ],
   "source": [
    "# example - 06\n",
    "pattern = re.compile(r\"\\w\")\n",
    "matches = pattern.finditer(text_to_search)\n",
    "for match in matches:\n",
    "    print(match)"
   ]
  },
  {
   "cell_type": "code",
   "execution_count": 21,
   "metadata": {
    "collapsed": true
   },
   "outputs": [
    {
     "name": "stdout",
     "output_type": "stream",
     "text": [
      "<re.Match object; span=(0, 1), match='\\n'>\n",
      "<re.Match object; span=(27, 28), match='\\n'>\n",
      "<re.Match object; span=(54, 55), match='\\n'>\n",
      "<re.Match object; span=(65, 66), match='\\n'>\n",
      "<re.Match object; span=(66, 67), match='\\n'>\n",
      "<re.Match object; span=(69, 70), match=' '>\n",
      "<re.Match object; span=(74, 75), match='\\n'>\n",
      "<re.Match object; span=(75, 76), match='\\n'>\n",
      "<re.Match object; span=(90, 91), match=' '>\n",
      "<re.Match object; span=(91, 92), match='('>\n",
      "<re.Match object; span=(96, 97), match=' '>\n",
      "<re.Match object; span=(99, 100), match=' '>\n",
      "<re.Match object; span=(102, 103), match=' '>\n",
      "<re.Match object; span=(110, 111), match=')'>\n",
      "<re.Match object; span=(111, 112), match=':'>\n",
      "<re.Match object; span=(112, 113), match='\\n'>\n",
      "<re.Match object; span=(113, 114), match='.'>\n",
      "<re.Match object; span=(114, 115), match=' '>\n",
      "<re.Match object; span=(115, 116), match='^'>\n",
      "<re.Match object; span=(116, 117), match=' '>\n",
      "<re.Match object; span=(117, 118), match='$'>\n",
      "<re.Match object; span=(118, 119), match=' '>\n",
      "<re.Match object; span=(119, 120), match='*'>\n",
      "<re.Match object; span=(120, 121), match=' '>\n",
      "<re.Match object; span=(121, 122), match='+'>\n",
      "<re.Match object; span=(122, 123), match=' '>\n",
      "<re.Match object; span=(123, 124), match='?'>\n",
      "<re.Match object; span=(124, 125), match=' '>\n",
      "<re.Match object; span=(125, 126), match='{'>\n",
      "<re.Match object; span=(126, 127), match=' '>\n",
      "<re.Match object; span=(127, 128), match='}'>\n",
      "<re.Match object; span=(128, 129), match=' '>\n",
      "<re.Match object; span=(129, 130), match='['>\n",
      "<re.Match object; span=(130, 131), match=' '>\n",
      "<re.Match object; span=(131, 132), match=']'>\n",
      "<re.Match object; span=(132, 133), match=' '>\n",
      "<re.Match object; span=(133, 134), match='\\\\'>\n",
      "<re.Match object; span=(134, 135), match=' '>\n",
      "<re.Match object; span=(135, 136), match='|'>\n",
      "<re.Match object; span=(136, 137), match=' '>\n",
      "<re.Match object; span=(137, 138), match='('>\n",
      "<re.Match object; span=(138, 139), match=' '>\n",
      "<re.Match object; span=(139, 140), match=')'>\n",
      "<re.Match object; span=(140, 141), match='\\n'>\n",
      "<re.Match object; span=(141, 142), match='\\n'>\n",
      "<re.Match object; span=(149, 150), match='.'>\n",
      "<re.Match object; span=(153, 154), match='\\n'>\n",
      "<re.Match object; span=(154, 155), match='\\n'>\n",
      "<re.Match object; span=(158, 159), match='-'>\n",
      "<re.Match object; span=(162, 163), match='-'>\n",
      "<re.Match object; span=(167, 168), match='\\n'>\n",
      "<re.Match object; span=(171, 172), match='.'>\n",
      "<re.Match object; span=(175, 176), match='.'>\n",
      "<re.Match object; span=(180, 181), match='\\n'>\n",
      "<re.Match object; span=(184, 185), match='*'>\n",
      "<re.Match object; span=(188, 189), match='*'>\n",
      "<re.Match object; span=(193, 194), match='\\n'>\n",
      "<re.Match object; span=(197, 198), match='-'>\n",
      "<re.Match object; span=(201, 202), match='-'>\n",
      "<re.Match object; span=(206, 207), match='\\n'>\n",
      "<re.Match object; span=(210, 211), match='-'>\n",
      "<re.Match object; span=(214, 215), match='-'>\n",
      "<re.Match object; span=(219, 220), match='\\n'>\n",
      "<re.Match object; span=(220, 221), match='\\n'>\n",
      "<re.Match object; span=(223, 224), match='.'>\n",
      "<re.Match object; span=(224, 225), match=' '>\n",
      "<re.Match object; span=(232, 233), match='\\n'>\n",
      "<re.Match object; span=(235, 236), match=' '>\n",
      "<re.Match object; span=(241, 242), match='\\n'>\n",
      "<re.Match object; span=(244, 245), match=' '>\n",
      "<re.Match object; span=(250, 251), match='\\n'>\n",
      "<re.Match object; span=(254, 255), match='.'>\n",
      "<re.Match object; span=(255, 256), match=' '>\n",
      "<re.Match object; span=(264, 265), match='\\n'>\n",
      "<re.Match object; span=(267, 268), match='.'>\n",
      "<re.Match object; span=(268, 269), match=' '>\n",
      "<re.Match object; span=(270, 271), match='\\n'>\n"
     ]
    }
   ],
   "source": [
    "# example - 07\n",
    "pattern = re.compile(r\"\\W\")\n",
    "matches = pattern.finditer(text_to_search)\n",
    "for match in matches:\n",
    "    print(match)"
   ]
  },
  {
   "cell_type": "code",
   "execution_count": 22,
   "metadata": {
    "collapsed": true
   },
   "outputs": [
    {
     "name": "stdout",
     "output_type": "stream",
     "text": [
      "<re.Match object; span=(0, 1), match='\\n'>\n",
      "<re.Match object; span=(27, 28), match='\\n'>\n",
      "<re.Match object; span=(54, 55), match='\\n'>\n",
      "<re.Match object; span=(65, 66), match='\\n'>\n",
      "<re.Match object; span=(66, 67), match='\\n'>\n",
      "<re.Match object; span=(69, 70), match=' '>\n",
      "<re.Match object; span=(74, 75), match='\\n'>\n",
      "<re.Match object; span=(75, 76), match='\\n'>\n",
      "<re.Match object; span=(90, 91), match=' '>\n",
      "<re.Match object; span=(96, 97), match=' '>\n",
      "<re.Match object; span=(99, 100), match=' '>\n",
      "<re.Match object; span=(102, 103), match=' '>\n",
      "<re.Match object; span=(112, 113), match='\\n'>\n",
      "<re.Match object; span=(114, 115), match=' '>\n",
      "<re.Match object; span=(116, 117), match=' '>\n",
      "<re.Match object; span=(118, 119), match=' '>\n",
      "<re.Match object; span=(120, 121), match=' '>\n",
      "<re.Match object; span=(122, 123), match=' '>\n",
      "<re.Match object; span=(124, 125), match=' '>\n",
      "<re.Match object; span=(126, 127), match=' '>\n",
      "<re.Match object; span=(128, 129), match=' '>\n",
      "<re.Match object; span=(130, 131), match=' '>\n",
      "<re.Match object; span=(132, 133), match=' '>\n",
      "<re.Match object; span=(134, 135), match=' '>\n",
      "<re.Match object; span=(136, 137), match=' '>\n",
      "<re.Match object; span=(138, 139), match=' '>\n",
      "<re.Match object; span=(140, 141), match='\\n'>\n",
      "<re.Match object; span=(141, 142), match='\\n'>\n",
      "<re.Match object; span=(153, 154), match='\\n'>\n",
      "<re.Match object; span=(154, 155), match='\\n'>\n",
      "<re.Match object; span=(167, 168), match='\\n'>\n",
      "<re.Match object; span=(180, 181), match='\\n'>\n",
      "<re.Match object; span=(193, 194), match='\\n'>\n",
      "<re.Match object; span=(206, 207), match='\\n'>\n",
      "<re.Match object; span=(219, 220), match='\\n'>\n",
      "<re.Match object; span=(220, 221), match='\\n'>\n",
      "<re.Match object; span=(224, 225), match=' '>\n",
      "<re.Match object; span=(232, 233), match='\\n'>\n",
      "<re.Match object; span=(235, 236), match=' '>\n",
      "<re.Match object; span=(241, 242), match='\\n'>\n",
      "<re.Match object; span=(244, 245), match=' '>\n",
      "<re.Match object; span=(250, 251), match='\\n'>\n",
      "<re.Match object; span=(255, 256), match=' '>\n",
      "<re.Match object; span=(264, 265), match='\\n'>\n",
      "<re.Match object; span=(268, 269), match=' '>\n",
      "<re.Match object; span=(270, 271), match='\\n'>\n"
     ]
    }
   ],
   "source": [
    "# example - 08\n",
    "pattern = re.compile(r\"\\s\")\n",
    "matches = pattern.finditer(text_to_search)\n",
    "for match in matches:\n",
    "    print(match)"
   ]
  },
  {
   "cell_type": "code",
   "execution_count": 24,
   "metadata": {
    "collapsed": true
   },
   "outputs": [
    {
     "name": "stdout",
     "output_type": "stream",
     "text": [
      "<re.Match object; span=(1, 2), match='a'>\n",
      "<re.Match object; span=(2, 3), match='b'>\n",
      "<re.Match object; span=(3, 4), match='c'>\n",
      "<re.Match object; span=(4, 5), match='d'>\n",
      "<re.Match object; span=(5, 6), match='e'>\n",
      "<re.Match object; span=(6, 7), match='f'>\n",
      "<re.Match object; span=(7, 8), match='g'>\n",
      "<re.Match object; span=(8, 9), match='h'>\n",
      "<re.Match object; span=(9, 10), match='i'>\n",
      "<re.Match object; span=(10, 11), match='j'>\n",
      "<re.Match object; span=(11, 12), match='k'>\n",
      "<re.Match object; span=(12, 13), match='l'>\n",
      "<re.Match object; span=(13, 14), match='m'>\n",
      "<re.Match object; span=(14, 15), match='n'>\n",
      "<re.Match object; span=(15, 16), match='o'>\n",
      "<re.Match object; span=(16, 17), match='p'>\n",
      "<re.Match object; span=(17, 18), match='q'>\n",
      "<re.Match object; span=(18, 19), match='u'>\n",
      "<re.Match object; span=(19, 20), match='r'>\n",
      "<re.Match object; span=(20, 21), match='t'>\n",
      "<re.Match object; span=(21, 22), match='u'>\n",
      "<re.Match object; span=(22, 23), match='v'>\n",
      "<re.Match object; span=(23, 24), match='w'>\n",
      "<re.Match object; span=(24, 25), match='x'>\n",
      "<re.Match object; span=(25, 26), match='y'>\n",
      "<re.Match object; span=(26, 27), match='z'>\n",
      "<re.Match object; span=(28, 29), match='A'>\n",
      "<re.Match object; span=(29, 30), match='B'>\n",
      "<re.Match object; span=(30, 31), match='C'>\n",
      "<re.Match object; span=(31, 32), match='D'>\n",
      "<re.Match object; span=(32, 33), match='E'>\n",
      "<re.Match object; span=(33, 34), match='F'>\n",
      "<re.Match object; span=(34, 35), match='G'>\n",
      "<re.Match object; span=(35, 36), match='H'>\n",
      "<re.Match object; span=(36, 37), match='I'>\n",
      "<re.Match object; span=(37, 38), match='J'>\n",
      "<re.Match object; span=(38, 39), match='K'>\n",
      "<re.Match object; span=(39, 40), match='L'>\n",
      "<re.Match object; span=(40, 41), match='M'>\n",
      "<re.Match object; span=(41, 42), match='N'>\n",
      "<re.Match object; span=(42, 43), match='O'>\n",
      "<re.Match object; span=(43, 44), match='P'>\n",
      "<re.Match object; span=(44, 45), match='Q'>\n",
      "<re.Match object; span=(45, 46), match='R'>\n",
      "<re.Match object; span=(46, 47), match='S'>\n",
      "<re.Match object; span=(47, 48), match='T'>\n",
      "<re.Match object; span=(48, 49), match='U'>\n",
      "<re.Match object; span=(49, 50), match='V'>\n",
      "<re.Match object; span=(50, 51), match='W'>\n",
      "<re.Match object; span=(51, 52), match='X'>\n",
      "<re.Match object; span=(52, 53), match='Y'>\n",
      "<re.Match object; span=(53, 54), match='Z'>\n",
      "<re.Match object; span=(55, 56), match='1'>\n",
      "<re.Match object; span=(56, 57), match='2'>\n",
      "<re.Match object; span=(57, 58), match='3'>\n",
      "<re.Match object; span=(58, 59), match='4'>\n",
      "<re.Match object; span=(59, 60), match='5'>\n",
      "<re.Match object; span=(60, 61), match='6'>\n",
      "<re.Match object; span=(61, 62), match='7'>\n",
      "<re.Match object; span=(62, 63), match='8'>\n",
      "<re.Match object; span=(63, 64), match='9'>\n",
      "<re.Match object; span=(64, 65), match='0'>\n",
      "<re.Match object; span=(67, 68), match='H'>\n",
      "<re.Match object; span=(68, 69), match='a'>\n",
      "<re.Match object; span=(70, 71), match='H'>\n",
      "<re.Match object; span=(71, 72), match='a'>\n",
      "<re.Match object; span=(72, 73), match='H'>\n",
      "<re.Match object; span=(73, 74), match='a'>\n",
      "<re.Match object; span=(76, 77), match='M'>\n",
      "<re.Match object; span=(77, 78), match='e'>\n",
      "<re.Match object; span=(78, 79), match='t'>\n",
      "<re.Match object; span=(79, 80), match='a'>\n",
      "<re.Match object; span=(80, 81), match='C'>\n",
      "<re.Match object; span=(81, 82), match='h'>\n",
      "<re.Match object; span=(82, 83), match='a'>\n",
      "<re.Match object; span=(83, 84), match='r'>\n",
      "<re.Match object; span=(84, 85), match='a'>\n",
      "<re.Match object; span=(85, 86), match='c'>\n",
      "<re.Match object; span=(86, 87), match='t'>\n",
      "<re.Match object; span=(87, 88), match='e'>\n",
      "<re.Match object; span=(88, 89), match='r'>\n",
      "<re.Match object; span=(89, 90), match='s'>\n",
      "<re.Match object; span=(91, 92), match='('>\n",
      "<re.Match object; span=(92, 93), match='N'>\n",
      "<re.Match object; span=(93, 94), match='e'>\n",
      "<re.Match object; span=(94, 95), match='e'>\n",
      "<re.Match object; span=(95, 96), match='d'>\n",
      "<re.Match object; span=(97, 98), match='t'>\n",
      "<re.Match object; span=(98, 99), match='o'>\n",
      "<re.Match object; span=(100, 101), match='b'>\n",
      "<re.Match object; span=(101, 102), match='e'>\n",
      "<re.Match object; span=(103, 104), match='e'>\n",
      "<re.Match object; span=(104, 105), match='s'>\n",
      "<re.Match object; span=(105, 106), match='c'>\n",
      "<re.Match object; span=(106, 107), match='a'>\n",
      "<re.Match object; span=(107, 108), match='p'>\n",
      "<re.Match object; span=(108, 109), match='e'>\n",
      "<re.Match object; span=(109, 110), match='d'>\n",
      "<re.Match object; span=(110, 111), match=')'>\n",
      "<re.Match object; span=(111, 112), match=':'>\n",
      "<re.Match object; span=(113, 114), match='.'>\n",
      "<re.Match object; span=(115, 116), match='^'>\n",
      "<re.Match object; span=(117, 118), match='$'>\n",
      "<re.Match object; span=(119, 120), match='*'>\n",
      "<re.Match object; span=(121, 122), match='+'>\n",
      "<re.Match object; span=(123, 124), match='?'>\n",
      "<re.Match object; span=(125, 126), match='{'>\n",
      "<re.Match object; span=(127, 128), match='}'>\n",
      "<re.Match object; span=(129, 130), match='['>\n",
      "<re.Match object; span=(131, 132), match=']'>\n",
      "<re.Match object; span=(133, 134), match='\\\\'>\n",
      "<re.Match object; span=(135, 136), match='|'>\n",
      "<re.Match object; span=(137, 138), match='('>\n",
      "<re.Match object; span=(139, 140), match=')'>\n",
      "<re.Match object; span=(142, 143), match='c'>\n",
      "<re.Match object; span=(143, 144), match='o'>\n",
      "<re.Match object; span=(144, 145), match='r'>\n",
      "<re.Match object; span=(145, 146), match='e'>\n",
      "<re.Match object; span=(146, 147), match='y'>\n",
      "<re.Match object; span=(147, 148), match='m'>\n",
      "<re.Match object; span=(148, 149), match='s'>\n",
      "<re.Match object; span=(149, 150), match='.'>\n",
      "<re.Match object; span=(150, 151), match='c'>\n",
      "<re.Match object; span=(151, 152), match='o'>\n",
      "<re.Match object; span=(152, 153), match='m'>\n",
      "<re.Match object; span=(155, 156), match='3'>\n",
      "<re.Match object; span=(156, 157), match='2'>\n",
      "<re.Match object; span=(157, 158), match='1'>\n",
      "<re.Match object; span=(158, 159), match='-'>\n",
      "<re.Match object; span=(159, 160), match='5'>\n",
      "<re.Match object; span=(160, 161), match='5'>\n",
      "<re.Match object; span=(161, 162), match='5'>\n",
      "<re.Match object; span=(162, 163), match='-'>\n",
      "<re.Match object; span=(163, 164), match='4'>\n",
      "<re.Match object; span=(164, 165), match='3'>\n",
      "<re.Match object; span=(165, 166), match='2'>\n",
      "<re.Match object; span=(166, 167), match='1'>\n",
      "<re.Match object; span=(168, 169), match='1'>\n",
      "<re.Match object; span=(169, 170), match='2'>\n",
      "<re.Match object; span=(170, 171), match='3'>\n",
      "<re.Match object; span=(171, 172), match='.'>\n",
      "<re.Match object; span=(172, 173), match='5'>\n",
      "<re.Match object; span=(173, 174), match='5'>\n",
      "<re.Match object; span=(174, 175), match='5'>\n",
      "<re.Match object; span=(175, 176), match='.'>\n",
      "<re.Match object; span=(176, 177), match='1'>\n",
      "<re.Match object; span=(177, 178), match='2'>\n",
      "<re.Match object; span=(178, 179), match='3'>\n",
      "<re.Match object; span=(179, 180), match='4'>\n",
      "<re.Match object; span=(181, 182), match='1'>\n",
      "<re.Match object; span=(182, 183), match='2'>\n",
      "<re.Match object; span=(183, 184), match='3'>\n",
      "<re.Match object; span=(184, 185), match='*'>\n",
      "<re.Match object; span=(185, 186), match='5'>\n",
      "<re.Match object; span=(186, 187), match='5'>\n",
      "<re.Match object; span=(187, 188), match='5'>\n",
      "<re.Match object; span=(188, 189), match='*'>\n",
      "<re.Match object; span=(189, 190), match='1'>\n",
      "<re.Match object; span=(190, 191), match='2'>\n",
      "<re.Match object; span=(191, 192), match='3'>\n",
      "<re.Match object; span=(192, 193), match='4'>\n",
      "<re.Match object; span=(194, 195), match='8'>\n",
      "<re.Match object; span=(195, 196), match='0'>\n",
      "<re.Match object; span=(196, 197), match='0'>\n",
      "<re.Match object; span=(197, 198), match='-'>\n",
      "<re.Match object; span=(198, 199), match='5'>\n",
      "<re.Match object; span=(199, 200), match='5'>\n",
      "<re.Match object; span=(200, 201), match='5'>\n",
      "<re.Match object; span=(201, 202), match='-'>\n",
      "<re.Match object; span=(202, 203), match='1'>\n",
      "<re.Match object; span=(203, 204), match='2'>\n",
      "<re.Match object; span=(204, 205), match='3'>\n",
      "<re.Match object; span=(205, 206), match='4'>\n",
      "<re.Match object; span=(207, 208), match='9'>\n",
      "<re.Match object; span=(208, 209), match='0'>\n",
      "<re.Match object; span=(209, 210), match='0'>\n",
      "<re.Match object; span=(210, 211), match='-'>\n",
      "<re.Match object; span=(211, 212), match='5'>\n",
      "<re.Match object; span=(212, 213), match='5'>\n",
      "<re.Match object; span=(213, 214), match='5'>\n",
      "<re.Match object; span=(214, 215), match='-'>\n",
      "<re.Match object; span=(215, 216), match='1'>\n",
      "<re.Match object; span=(216, 217), match='2'>\n",
      "<re.Match object; span=(217, 218), match='3'>\n",
      "<re.Match object; span=(218, 219), match='4'>\n",
      "<re.Match object; span=(221, 222), match='M'>\n",
      "<re.Match object; span=(222, 223), match='r'>\n",
      "<re.Match object; span=(223, 224), match='.'>\n",
      "<re.Match object; span=(225, 226), match='S'>\n",
      "<re.Match object; span=(226, 227), match='c'>\n",
      "<re.Match object; span=(227, 228), match='h'>\n",
      "<re.Match object; span=(228, 229), match='a'>\n",
      "<re.Match object; span=(229, 230), match='f'>\n",
      "<re.Match object; span=(230, 231), match='e'>\n",
      "<re.Match object; span=(231, 232), match='r'>\n",
      "<re.Match object; span=(233, 234), match='M'>\n",
      "<re.Match object; span=(234, 235), match='r'>\n",
      "<re.Match object; span=(236, 237), match='S'>\n",
      "<re.Match object; span=(237, 238), match='m'>\n",
      "<re.Match object; span=(238, 239), match='i'>\n",
      "<re.Match object; span=(239, 240), match='t'>\n",
      "<re.Match object; span=(240, 241), match='h'>\n",
      "<re.Match object; span=(242, 243), match='M'>\n",
      "<re.Match object; span=(243, 244), match='s'>\n",
      "<re.Match object; span=(245, 246), match='D'>\n",
      "<re.Match object; span=(246, 247), match='a'>\n",
      "<re.Match object; span=(247, 248), match='v'>\n",
      "<re.Match object; span=(248, 249), match='i'>\n",
      "<re.Match object; span=(249, 250), match='s'>\n",
      "<re.Match object; span=(251, 252), match='M'>\n",
      "<re.Match object; span=(252, 253), match='r'>\n",
      "<re.Match object; span=(253, 254), match='s'>\n",
      "<re.Match object; span=(254, 255), match='.'>\n",
      "<re.Match object; span=(256, 257), match='R'>\n",
      "<re.Match object; span=(257, 258), match='o'>\n",
      "<re.Match object; span=(258, 259), match='b'>\n",
      "<re.Match object; span=(259, 260), match='i'>\n",
      "<re.Match object; span=(260, 261), match='n'>\n",
      "<re.Match object; span=(261, 262), match='s'>\n",
      "<re.Match object; span=(262, 263), match='o'>\n",
      "<re.Match object; span=(263, 264), match='n'>\n",
      "<re.Match object; span=(265, 266), match='M'>\n",
      "<re.Match object; span=(266, 267), match='r'>\n",
      "<re.Match object; span=(267, 268), match='.'>\n",
      "<re.Match object; span=(269, 270), match='T'>\n"
     ]
    }
   ],
   "source": [
    "# example - 09\n",
    "pattern = re.compile(r\"\\S\")\n",
    "matches = pattern.finditer(text_to_search)\n",
    "for match in matches:\n",
    "    print(match)"
   ]
  },
  {
   "cell_type": "code",
   "execution_count": 25,
   "metadata": {},
   "outputs": [
    {
     "name": "stdout",
     "output_type": "stream",
     "text": [
      "<re.Match object; span=(67, 69), match='Ha'>\n",
      "<re.Match object; span=(70, 72), match='Ha'>\n"
     ]
    }
   ],
   "source": [
    "# example - 10\n",
    "pattern = re.compile(r\"\\bHa\")\n",
    "matches = pattern.finditer(text_to_search)\n",
    "for match in matches:\n",
    "    print(match)"
   ]
  },
  {
   "cell_type": "code",
   "execution_count": 26,
   "metadata": {},
   "outputs": [
    {
     "data": {
      "text/plain": [
       "'Ha'"
      ]
     },
     "execution_count": 26,
     "metadata": {},
     "output_type": "execute_result"
    }
   ],
   "source": [
    "text_to_search[67:69]\n",
    "text_to_search[70:72]"
   ]
  },
  {
   "cell_type": "code",
   "execution_count": 28,
   "metadata": {},
   "outputs": [
    {
     "name": "stdout",
     "output_type": "stream",
     "text": [
      "<re.Match object; span=(72, 74), match='Ha'>\n"
     ]
    }
   ],
   "source": [
    "# example - 11\n",
    "pattern = re.compile(r\"\\BHa\")\n",
    "matches = pattern.finditer(text_to_search)\n",
    "for match in matches:\n",
    "    print(match)"
   ]
  },
  {
   "cell_type": "code",
   "execution_count": 29,
   "metadata": {},
   "outputs": [
    {
     "data": {
      "text/plain": [
       "'Ha'"
      ]
     },
     "execution_count": 29,
     "metadata": {},
     "output_type": "execute_result"
    }
   ],
   "source": [
    "text_to_search[72:74]"
   ]
  },
  {
   "cell_type": "code",
   "execution_count": 30,
   "metadata": {},
   "outputs": [
    {
     "name": "stdout",
     "output_type": "stream",
     "text": [
      "<re.Match object; span=(0, 5), match='Start'>\n"
     ]
    }
   ],
   "source": [
    "# example - 12\n",
    "pattern = re.compile(r\"^Start\")\n",
    "matches = pattern.finditer(sentence)\n",
    "for match in matches:\n",
    "    print(match)"
   ]
  },
  {
   "cell_type": "code",
   "execution_count": 31,
   "metadata": {},
   "outputs": [
    {
     "data": {
      "text/plain": [
       "'Start'"
      ]
     },
     "execution_count": 31,
     "metadata": {},
     "output_type": "execute_result"
    }
   ],
   "source": [
    "sentence[0:5]"
   ]
  },
  {
   "cell_type": "code",
   "execution_count": 32,
   "metadata": {},
   "outputs": [
    {
     "name": "stdout",
     "output_type": "stream",
     "text": [
      "<re.Match object; span=(41, 44), match='end'>\n"
     ]
    }
   ],
   "source": [
    "# example - 13\n",
    "pattern = re.compile(r\"end$\")\n",
    "matches = pattern.finditer(sentence)\n",
    "for match in matches:\n",
    "    print(match)"
   ]
  },
  {
   "cell_type": "code",
   "execution_count": 44,
   "metadata": {},
   "outputs": [
    {
     "data": {
      "text/plain": [
       "'end'"
      ]
     },
     "execution_count": 44,
     "metadata": {},
     "output_type": "execute_result"
    }
   ],
   "source": [
    "sentence[41:44]"
   ]
  },
  {
   "cell_type": "code",
   "execution_count": 47,
   "metadata": {
    "collapsed": true
   },
   "outputs": [
    {
     "name": "stdout",
     "output_type": "stream",
     "text": [
      "<re.Match object; span=(55, 58), match='123'>\n",
      "<re.Match object; span=(58, 61), match='456'>\n",
      "<re.Match object; span=(61, 64), match='789'>\n",
      "<re.Match object; span=(155, 158), match='321'>\n",
      "<re.Match object; span=(159, 162), match='555'>\n",
      "<re.Match object; span=(163, 166), match='432'>\n",
      "<re.Match object; span=(168, 171), match='123'>\n",
      "<re.Match object; span=(172, 175), match='555'>\n",
      "<re.Match object; span=(176, 179), match='123'>\n",
      "<re.Match object; span=(181, 184), match='123'>\n",
      "<re.Match object; span=(185, 188), match='555'>\n",
      "<re.Match object; span=(189, 192), match='123'>\n",
      "<re.Match object; span=(194, 197), match='800'>\n",
      "<re.Match object; span=(198, 201), match='555'>\n",
      "<re.Match object; span=(202, 205), match='123'>\n",
      "<re.Match object; span=(207, 210), match='900'>\n",
      "<re.Match object; span=(211, 214), match='555'>\n",
      "<re.Match object; span=(215, 218), match='123'>\n"
     ]
    }
   ],
   "source": [
    "# example - 14\n",
    "pattern = re.compile(r\"\\d\\d\\d\")\n",
    "matches = pattern.finditer(text_to_search)\n",
    "for match in matches:\n",
    "    print(match)"
   ]
  },
  {
   "cell_type": "code",
   "execution_count": 54,
   "metadata": {},
   "outputs": [
    {
     "name": "stdout",
     "output_type": "stream",
     "text": [
      "<re.Match object; span=(155, 167), match='321-555-4321'>\n",
      "<re.Match object; span=(168, 180), match='123.555.1234'>\n",
      "<re.Match object; span=(194, 206), match='800-555-1234'>\n",
      "<re.Match object; span=(207, 219), match='900-555-1234'>\n"
     ]
    }
   ],
   "source": [
    "# example - 15\n",
    "# pattern = re.compile(r\"\\d\\d\\d.\\d\\d\\d.\\d\\d\\d\\d\")\n",
    "# pattern = re.compile(r\"\\d{3}.\\d{3}.\\d{4}\")\n",
    "pattern = re.compile(r\"\\d{3}[-.]\\d{3}[-.]\\d{4}\")\n",
    "# pattern = re.compile(r\"\\d{3}[-*.]\\d{3}[-*.]\\d{4}\")\n",
    "\n",
    "matches = pattern.finditer(text_to_search)\n",
    "for match in matches:\n",
    "    print(match)"
   ]
  },
  {
   "cell_type": "code",
   "execution_count": 39,
   "metadata": {},
   "outputs": [
    {
     "data": {
      "text/plain": [
       "'321-555-4321'"
      ]
     },
     "execution_count": 39,
     "metadata": {},
     "output_type": "execute_result"
    }
   ],
   "source": [
    "text_to_search[155:167]"
   ]
  },
  {
   "cell_type": "code",
   "execution_count": 40,
   "metadata": {},
   "outputs": [
    {
     "data": {
      "text/plain": [
       "'123.555.1234'"
      ]
     },
     "execution_count": 40,
     "metadata": {},
     "output_type": "execute_result"
    }
   ],
   "source": [
    "text_to_search[168:180]"
   ]
  },
  {
   "cell_type": "code",
   "execution_count": 41,
   "metadata": {},
   "outputs": [
    {
     "data": {
      "text/plain": [
       "'123*555*1234'"
      ]
     },
     "execution_count": 41,
     "metadata": {},
     "output_type": "execute_result"
    }
   ],
   "source": [
    "text_to_search[181:193]"
   ]
  },
  {
   "cell_type": "code",
   "execution_count": 42,
   "metadata": {},
   "outputs": [
    {
     "data": {
      "text/plain": [
       "'800-555-1234'"
      ]
     },
     "execution_count": 42,
     "metadata": {},
     "output_type": "execute_result"
    }
   ],
   "source": [
    "text_to_search[194:206]"
   ]
  },
  {
   "cell_type": "code",
   "execution_count": 62,
   "metadata": {},
   "outputs": [
    {
     "data": {
      "text/plain": [
       "'900-555-1234'"
      ]
     },
     "execution_count": 62,
     "metadata": {},
     "output_type": "execute_result"
    }
   ],
   "source": [
    "text_to_search[207:219]"
   ]
  },
  {
   "cell_type": "code",
   "execution_count": 63,
   "metadata": {},
   "outputs": [
    {
     "name": "stdout",
     "output_type": "stream",
     "text": [
      "<re.Match object; span=(194, 206), match='800-555-1234'>\n",
      "<re.Match object; span=(207, 219), match='900-555-1234'>\n"
     ]
    }
   ],
   "source": [
    "# example - 16\n",
    "pattern = re.compile(r\"[89]00[-.]\\d{3}[-.]\\d{4}\")\n",
    "\n",
    "matches = pattern.finditer(text_to_search)\n",
    "for match in matches:\n",
    "    print(match)"
   ]
  },
  {
   "cell_type": "code",
   "execution_count": 64,
   "metadata": {
    "collapsed": true
   },
   "outputs": [
    {
     "name": "stdout",
     "output_type": "stream",
     "text": [
      "<re.Match object; span=(12, 24), match='615-555-7164'>\n",
      "<re.Match object; span=(102, 114), match='800-555-5669'>\n",
      "<re.Match object; span=(191, 203), match='560-555-5153'>\n",
      "<re.Match object; span=(281, 293), match='900-555-9340'>\n",
      "<re.Match object; span=(378, 390), match='714-555-7405'>\n",
      "<re.Match object; span=(467, 479), match='800-555-6771'>\n",
      "<re.Match object; span=(557, 569), match='783-555-4799'>\n",
      "<re.Match object; span=(647, 659), match='516-555-4615'>\n",
      "<re.Match object; span=(740, 752), match='127-555-1867'>\n",
      "<re.Match object; span=(829, 841), match='608-555-4938'>\n",
      "<re.Match object; span=(915, 927), match='568-555-6051'>\n",
      "<re.Match object; span=(1003, 1015), match='292-555-1875'>\n",
      "<re.Match object; span=(1091, 1103), match='900-555-3205'>\n",
      "<re.Match object; span=(1180, 1192), match='614-555-1166'>\n",
      "<re.Match object; span=(1269, 1281), match='530-555-2676'>\n",
      "<re.Match object; span=(1355, 1367), match='470-555-2750'>\n",
      "<re.Match object; span=(1439, 1451), match='800-555-6089'>\n",
      "<re.Match object; span=(1526, 1538), match='880-555-8319'>\n",
      "<re.Match object; span=(1614, 1626), match='777-555-8378'>\n",
      "<re.Match object; span=(1697, 1709), match='998-555-7385'>\n",
      "<re.Match object; span=(1790, 1802), match='800-555-7100'>\n",
      "<re.Match object; span=(1874, 1886), match='903-555-8277'>\n",
      "<re.Match object; span=(1962, 1974), match='196-555-5674'>\n",
      "<re.Match object; span=(2051, 2063), match='900-555-5118'>\n",
      "<re.Match object; span=(2135, 2147), match='905-555-1630'>\n",
      "<re.Match object; span=(2216, 2228), match='203-555-3475'>\n",
      "<re.Match object; span=(2300, 2312), match='884-555-8444'>\n",
      "<re.Match object; span=(2387, 2399), match='904-555-8559'>\n",
      "<re.Match object; span=(2475, 2487), match='889-555-7393'>\n",
      "<re.Match object; span=(2562, 2574), match='195-555-2405'>\n",
      "<re.Match object; span=(2647, 2659), match='321-555-9053'>\n",
      "<re.Match object; span=(2734, 2746), match='133-555-1711'>\n",
      "<re.Match object; span=(2826, 2838), match='900-555-5428'>\n",
      "<re.Match object; span=(2915, 2927), match='760-555-7147'>\n",
      "<re.Match object; span=(3012, 3024), match='391-555-6621'>\n",
      "<re.Match object; span=(3103, 3115), match='932-555-7724'>\n",
      "<re.Match object; span=(3192, 3204), match='609-555-7908'>\n",
      "<re.Match object; span=(3284, 3296), match='800-555-8810'>\n",
      "<re.Match object; span=(3372, 3384), match='149-555-7657'>\n",
      "<re.Match object; span=(3452, 3464), match='130-555-9709'>\n",
      "<re.Match object; span=(3535, 3547), match='143-555-9295'>\n",
      "<re.Match object; span=(3624, 3636), match='903-555-9878'>\n",
      "<re.Match object; span=(3714, 3726), match='574-555-3194'>\n",
      "<re.Match object; span=(3802, 3814), match='496-555-7533'>\n",
      "<re.Match object; span=(3887, 3899), match='210-555-3757'>\n",
      "<re.Match object; span=(3971, 3983), match='900-555-9598'>\n",
      "<re.Match object; span=(4056, 4068), match='866-555-9844'>\n",
      "<re.Match object; span=(4140, 4152), match='669-555-7159'>\n",
      "<re.Match object; span=(4225, 4237), match='152-555-7417'>\n",
      "<re.Match object; span=(4317, 4329), match='893-555-9832'>\n",
      "<re.Match object; span=(4407, 4419), match='217-555-7123'>\n",
      "<re.Match object; span=(4498, 4510), match='786-555-6544'>\n",
      "<re.Match object; span=(4588, 4600), match='780-555-2574'>\n",
      "<re.Match object; span=(4676, 4688), match='926-555-8735'>\n",
      "<re.Match object; span=(4762, 4774), match='895-555-3539'>\n",
      "<re.Match object; span=(4859, 4871), match='874-555-3949'>\n",
      "<re.Match object; span=(4945, 4957), match='800-555-2420'>\n",
      "<re.Match object; span=(5034, 5046), match='936-555-6340'>\n",
      "<re.Match object; span=(5123, 5135), match='372-555-9809'>\n",
      "<re.Match object; span=(5210, 5222), match='890-555-5618'>\n",
      "<re.Match object; span=(5292, 5304), match='670-555-3005'>\n",
      "<re.Match object; span=(5382, 5394), match='509-555-5997'>\n",
      "<re.Match object; span=(5475, 5487), match='721-555-5632'>\n",
      "<re.Match object; span=(5566, 5578), match='900-555-3567'>\n",
      "<re.Match object; span=(5656, 5668), match='147-555-6830'>\n",
      "<re.Match object; span=(5745, 5757), match='582-555-3426'>\n",
      "<re.Match object; span=(5830, 5842), match='400-555-1706'>\n",
      "<re.Match object; span=(5921, 5933), match='525-555-1793'>\n",
      "<re.Match object; span=(6011, 6023), match='317-555-6700'>\n",
      "<re.Match object; span=(6099, 6111), match='974-555-8301'>\n",
      "<re.Match object; span=(6189, 6201), match='800-555-3216'>\n",
      "<re.Match object; span=(6273, 6285), match='746-555-4094'>\n",
      "<re.Match object; span=(6360, 6372), match='922-555-1773'>\n",
      "<re.Match object; span=(6445, 6457), match='711-555-4427'>\n",
      "<re.Match object; span=(6530, 6542), match='355-555-1872'>\n",
      "<re.Match object; span=(6619, 6631), match='852-555-6521'>\n",
      "<re.Match object; span=(6711, 6723), match='691-555-5773'>\n",
      "<re.Match object; span=(6803, 6815), match='332-555-5441'>\n",
      "<re.Match object; span=(6889, 6901), match='900-555-7755'>\n",
      "<re.Match object; span=(6971, 6983), match='379-555-3685'>\n",
      "<re.Match object; span=(7061, 7073), match='127-555-9682'>\n",
      "<re.Match object; span=(7152, 7164), match='789-555-7032'>\n",
      "<re.Match object; span=(7243, 7255), match='783-555-5135'>\n",
      "<re.Match object; span=(7336, 7348), match='315-555-6507'>\n",
      "<re.Match object; span=(7427, 7439), match='481-555-5835'>\n",
      "<re.Match object; span=(7515, 7527), match='365-555-8287'>\n",
      "<re.Match object; span=(7607, 7619), match='911-555-7535'>\n",
      "<re.Match object; span=(7693, 7705), match='681-555-2460'>\n",
      "<re.Match object; span=(7779, 7791), match='274-555-9800'>\n",
      "<re.Match object; span=(7864, 7876), match='800-555-1372'>\n",
      "<re.Match object; span=(7953, 7965), match='300-555-7821'>\n",
      "<re.Match object; span=(8043, 8055), match='133-555-3889'>\n",
      "<re.Match object; span=(8129, 8141), match='705-555-6863'>\n",
      "<re.Match object; span=(8218, 8230), match='215-555-9449'>\n",
      "<re.Match object; span=(8309, 8321), match='988-555-6112'>\n",
      "<re.Match object; span=(8395, 8407), match='623-555-3006'>\n",
      "<re.Match object; span=(8479, 8491), match='192-555-4977'>\n",
      "<re.Match object; span=(8564, 8576), match='178-555-4899'>\n",
      "<re.Match object; span=(8648, 8660), match='952-555-3089'>\n",
      "<re.Match object; span=(8741, 8753), match='900-555-6426'>\n"
     ]
    }
   ],
   "source": [
    "# example - 17\n",
    "with open(\"Files/data.txt\", \"r\", encoding = \"utf-8\") as f:\n",
    "    contents = f.read()\n",
    "    \n",
    "    pattern = re.compile(r\"d{3}.\\d{3}.\\d{4}\")\n",
    "    matches = pattern.finditer(contents)\n",
    "    for match in matches:\n",
    "        print(match)\n",
    "    \n",
    "    f.close()"
   ]
  },
  {
   "cell_type": "code",
   "execution_count": 65,
   "metadata": {
    "collapsed": true
   },
   "outputs": [
    {
     "name": "stdout",
     "output_type": "stream",
     "text": [
      "<re.Match object; span=(102, 114), match='800-555-5669'>\n",
      "<re.Match object; span=(281, 293), match='900-555-9340'>\n",
      "<re.Match object; span=(467, 479), match='800-555-6771'>\n",
      "<re.Match object; span=(1091, 1103), match='900-555-3205'>\n",
      "<re.Match object; span=(1439, 1451), match='800-555-6089'>\n",
      "<re.Match object; span=(1790, 1802), match='800-555-7100'>\n",
      "<re.Match object; span=(2051, 2063), match='900-555-5118'>\n",
      "<re.Match object; span=(2826, 2838), match='900-555-5428'>\n",
      "<re.Match object; span=(3284, 3296), match='800-555-8810'>\n",
      "<re.Match object; span=(3971, 3983), match='900-555-9598'>\n",
      "<re.Match object; span=(4945, 4957), match='800-555-2420'>\n",
      "<re.Match object; span=(5566, 5578), match='900-555-3567'>\n",
      "<re.Match object; span=(6189, 6201), match='800-555-3216'>\n",
      "<re.Match object; span=(6889, 6901), match='900-555-7755'>\n",
      "<re.Match object; span=(7864, 7876), match='800-555-1372'>\n",
      "<re.Match object; span=(8741, 8753), match='900-555-6426'>\n"
     ]
    }
   ],
   "source": [
    "# example - 18\n",
    "with open(\"Files/data.txt\", \"r\", encoding = \"utf-8\") as f:\n",
    "    contents = f.read()\n",
    "    \n",
    "    pattern = re.compile(r\"[89]00[-.]\\d{3}[-.]\\d{4}\")\n",
    "    matches = pattern.finditer(contents)\n",
    "    for match in matches:\n",
    "        print(match)\n",
    "    \n",
    "    f.close()"
   ]
  },
  {
   "cell_type": "code",
   "execution_count": 66,
   "metadata": {
    "collapsed": true
   },
   "outputs": [
    {
     "name": "stdout",
     "output_type": "stream",
     "text": [
      "<re.Match object; span=(55, 56), match='1'>\n",
      "<re.Match object; span=(56, 57), match='2'>\n",
      "<re.Match object; span=(57, 58), match='3'>\n",
      "<re.Match object; span=(58, 59), match='4'>\n",
      "<re.Match object; span=(59, 60), match='5'>\n",
      "<re.Match object; span=(155, 156), match='3'>\n",
      "<re.Match object; span=(156, 157), match='2'>\n",
      "<re.Match object; span=(157, 158), match='1'>\n",
      "<re.Match object; span=(159, 160), match='5'>\n",
      "<re.Match object; span=(160, 161), match='5'>\n",
      "<re.Match object; span=(161, 162), match='5'>\n",
      "<re.Match object; span=(163, 164), match='4'>\n",
      "<re.Match object; span=(164, 165), match='3'>\n",
      "<re.Match object; span=(165, 166), match='2'>\n",
      "<re.Match object; span=(166, 167), match='1'>\n",
      "<re.Match object; span=(168, 169), match='1'>\n",
      "<re.Match object; span=(169, 170), match='2'>\n",
      "<re.Match object; span=(170, 171), match='3'>\n",
      "<re.Match object; span=(172, 173), match='5'>\n",
      "<re.Match object; span=(173, 174), match='5'>\n",
      "<re.Match object; span=(174, 175), match='5'>\n",
      "<re.Match object; span=(176, 177), match='1'>\n",
      "<re.Match object; span=(177, 178), match='2'>\n",
      "<re.Match object; span=(178, 179), match='3'>\n",
      "<re.Match object; span=(179, 180), match='4'>\n",
      "<re.Match object; span=(181, 182), match='1'>\n",
      "<re.Match object; span=(182, 183), match='2'>\n",
      "<re.Match object; span=(183, 184), match='3'>\n",
      "<re.Match object; span=(185, 186), match='5'>\n",
      "<re.Match object; span=(186, 187), match='5'>\n",
      "<re.Match object; span=(187, 188), match='5'>\n",
      "<re.Match object; span=(189, 190), match='1'>\n",
      "<re.Match object; span=(190, 191), match='2'>\n",
      "<re.Match object; span=(191, 192), match='3'>\n",
      "<re.Match object; span=(192, 193), match='4'>\n",
      "<re.Match object; span=(198, 199), match='5'>\n",
      "<re.Match object; span=(199, 200), match='5'>\n",
      "<re.Match object; span=(200, 201), match='5'>\n",
      "<re.Match object; span=(202, 203), match='1'>\n",
      "<re.Match object; span=(203, 204), match='2'>\n",
      "<re.Match object; span=(204, 205), match='3'>\n",
      "<re.Match object; span=(205, 206), match='4'>\n",
      "<re.Match object; span=(211, 212), match='5'>\n",
      "<re.Match object; span=(212, 213), match='5'>\n",
      "<re.Match object; span=(213, 214), match='5'>\n",
      "<re.Match object; span=(215, 216), match='1'>\n",
      "<re.Match object; span=(216, 217), match='2'>\n",
      "<re.Match object; span=(217, 218), match='3'>\n",
      "<re.Match object; span=(218, 219), match='4'>\n"
     ]
    }
   ],
   "source": [
    "# example - 19\n",
    "pattern = re.compile(r\"[1-5]\")\n",
    "\n",
    "matches = pattern.finditer(text_to_search)\n",
    "for match in matches:\n",
    "    print(match)"
   ]
  },
  {
   "cell_type": "code",
   "execution_count": 67,
   "metadata": {
    "collapsed": true
   },
   "outputs": [
    {
     "name": "stdout",
     "output_type": "stream",
     "text": [
      "<re.Match object; span=(1, 2), match='a'>\n",
      "<re.Match object; span=(2, 3), match='b'>\n",
      "<re.Match object; span=(3, 4), match='c'>\n",
      "<re.Match object; span=(4, 5), match='d'>\n",
      "<re.Match object; span=(5, 6), match='e'>\n",
      "<re.Match object; span=(6, 7), match='f'>\n",
      "<re.Match object; span=(7, 8), match='g'>\n",
      "<re.Match object; span=(8, 9), match='h'>\n",
      "<re.Match object; span=(9, 10), match='i'>\n",
      "<re.Match object; span=(10, 11), match='j'>\n",
      "<re.Match object; span=(11, 12), match='k'>\n",
      "<re.Match object; span=(12, 13), match='l'>\n",
      "<re.Match object; span=(13, 14), match='m'>\n",
      "<re.Match object; span=(14, 15), match='n'>\n",
      "<re.Match object; span=(15, 16), match='o'>\n",
      "<re.Match object; span=(16, 17), match='p'>\n",
      "<re.Match object; span=(17, 18), match='q'>\n",
      "<re.Match object; span=(18, 19), match='u'>\n",
      "<re.Match object; span=(19, 20), match='r'>\n",
      "<re.Match object; span=(20, 21), match='t'>\n",
      "<re.Match object; span=(21, 22), match='u'>\n",
      "<re.Match object; span=(22, 23), match='v'>\n",
      "<re.Match object; span=(23, 24), match='w'>\n",
      "<re.Match object; span=(24, 25), match='x'>\n",
      "<re.Match object; span=(25, 26), match='y'>\n",
      "<re.Match object; span=(26, 27), match='z'>\n",
      "<re.Match object; span=(68, 69), match='a'>\n",
      "<re.Match object; span=(71, 72), match='a'>\n",
      "<re.Match object; span=(73, 74), match='a'>\n",
      "<re.Match object; span=(77, 78), match='e'>\n",
      "<re.Match object; span=(78, 79), match='t'>\n",
      "<re.Match object; span=(79, 80), match='a'>\n",
      "<re.Match object; span=(81, 82), match='h'>\n",
      "<re.Match object; span=(82, 83), match='a'>\n",
      "<re.Match object; span=(83, 84), match='r'>\n",
      "<re.Match object; span=(84, 85), match='a'>\n",
      "<re.Match object; span=(85, 86), match='c'>\n",
      "<re.Match object; span=(86, 87), match='t'>\n",
      "<re.Match object; span=(87, 88), match='e'>\n",
      "<re.Match object; span=(88, 89), match='r'>\n",
      "<re.Match object; span=(89, 90), match='s'>\n",
      "<re.Match object; span=(93, 94), match='e'>\n",
      "<re.Match object; span=(94, 95), match='e'>\n",
      "<re.Match object; span=(95, 96), match='d'>\n",
      "<re.Match object; span=(97, 98), match='t'>\n",
      "<re.Match object; span=(98, 99), match='o'>\n",
      "<re.Match object; span=(100, 101), match='b'>\n",
      "<re.Match object; span=(101, 102), match='e'>\n",
      "<re.Match object; span=(103, 104), match='e'>\n",
      "<re.Match object; span=(104, 105), match='s'>\n",
      "<re.Match object; span=(105, 106), match='c'>\n",
      "<re.Match object; span=(106, 107), match='a'>\n",
      "<re.Match object; span=(107, 108), match='p'>\n",
      "<re.Match object; span=(108, 109), match='e'>\n",
      "<re.Match object; span=(109, 110), match='d'>\n",
      "<re.Match object; span=(142, 143), match='c'>\n",
      "<re.Match object; span=(143, 144), match='o'>\n",
      "<re.Match object; span=(144, 145), match='r'>\n",
      "<re.Match object; span=(145, 146), match='e'>\n",
      "<re.Match object; span=(146, 147), match='y'>\n",
      "<re.Match object; span=(147, 148), match='m'>\n",
      "<re.Match object; span=(148, 149), match='s'>\n",
      "<re.Match object; span=(150, 151), match='c'>\n",
      "<re.Match object; span=(151, 152), match='o'>\n",
      "<re.Match object; span=(152, 153), match='m'>\n",
      "<re.Match object; span=(222, 223), match='r'>\n",
      "<re.Match object; span=(226, 227), match='c'>\n",
      "<re.Match object; span=(227, 228), match='h'>\n",
      "<re.Match object; span=(228, 229), match='a'>\n",
      "<re.Match object; span=(229, 230), match='f'>\n",
      "<re.Match object; span=(230, 231), match='e'>\n",
      "<re.Match object; span=(231, 232), match='r'>\n",
      "<re.Match object; span=(234, 235), match='r'>\n",
      "<re.Match object; span=(237, 238), match='m'>\n",
      "<re.Match object; span=(238, 239), match='i'>\n",
      "<re.Match object; span=(239, 240), match='t'>\n",
      "<re.Match object; span=(240, 241), match='h'>\n",
      "<re.Match object; span=(243, 244), match='s'>\n",
      "<re.Match object; span=(246, 247), match='a'>\n",
      "<re.Match object; span=(247, 248), match='v'>\n",
      "<re.Match object; span=(248, 249), match='i'>\n",
      "<re.Match object; span=(249, 250), match='s'>\n",
      "<re.Match object; span=(252, 253), match='r'>\n",
      "<re.Match object; span=(253, 254), match='s'>\n",
      "<re.Match object; span=(257, 258), match='o'>\n",
      "<re.Match object; span=(258, 259), match='b'>\n",
      "<re.Match object; span=(259, 260), match='i'>\n",
      "<re.Match object; span=(260, 261), match='n'>\n",
      "<re.Match object; span=(261, 262), match='s'>\n",
      "<re.Match object; span=(262, 263), match='o'>\n",
      "<re.Match object; span=(263, 264), match='n'>\n",
      "<re.Match object; span=(266, 267), match='r'>\n"
     ]
    }
   ],
   "source": [
    "# example - 20\n",
    "pattern = re.compile(r\"[a-z]\")\n",
    "\n",
    "matches = pattern.finditer(text_to_search)\n",
    "for match in matches:\n",
    "    print(match)"
   ]
  },
  {
   "cell_type": "code",
   "execution_count": 68,
   "metadata": {
    "collapsed": true
   },
   "outputs": [
    {
     "name": "stdout",
     "output_type": "stream",
     "text": [
      "<re.Match object; span=(1, 2), match='a'>\n",
      "<re.Match object; span=(2, 3), match='b'>\n",
      "<re.Match object; span=(3, 4), match='c'>\n",
      "<re.Match object; span=(4, 5), match='d'>\n",
      "<re.Match object; span=(5, 6), match='e'>\n",
      "<re.Match object; span=(6, 7), match='f'>\n",
      "<re.Match object; span=(7, 8), match='g'>\n",
      "<re.Match object; span=(8, 9), match='h'>\n",
      "<re.Match object; span=(9, 10), match='i'>\n",
      "<re.Match object; span=(10, 11), match='j'>\n",
      "<re.Match object; span=(11, 12), match='k'>\n",
      "<re.Match object; span=(12, 13), match='l'>\n",
      "<re.Match object; span=(13, 14), match='m'>\n",
      "<re.Match object; span=(14, 15), match='n'>\n",
      "<re.Match object; span=(15, 16), match='o'>\n",
      "<re.Match object; span=(16, 17), match='p'>\n",
      "<re.Match object; span=(17, 18), match='q'>\n",
      "<re.Match object; span=(18, 19), match='u'>\n",
      "<re.Match object; span=(19, 20), match='r'>\n",
      "<re.Match object; span=(20, 21), match='t'>\n",
      "<re.Match object; span=(21, 22), match='u'>\n",
      "<re.Match object; span=(22, 23), match='v'>\n",
      "<re.Match object; span=(23, 24), match='w'>\n",
      "<re.Match object; span=(24, 25), match='x'>\n",
      "<re.Match object; span=(25, 26), match='y'>\n",
      "<re.Match object; span=(26, 27), match='z'>\n",
      "<re.Match object; span=(28, 29), match='A'>\n",
      "<re.Match object; span=(29, 30), match='B'>\n",
      "<re.Match object; span=(30, 31), match='C'>\n",
      "<re.Match object; span=(31, 32), match='D'>\n",
      "<re.Match object; span=(32, 33), match='E'>\n",
      "<re.Match object; span=(33, 34), match='F'>\n",
      "<re.Match object; span=(34, 35), match='G'>\n",
      "<re.Match object; span=(35, 36), match='H'>\n",
      "<re.Match object; span=(36, 37), match='I'>\n",
      "<re.Match object; span=(37, 38), match='J'>\n",
      "<re.Match object; span=(38, 39), match='K'>\n",
      "<re.Match object; span=(39, 40), match='L'>\n",
      "<re.Match object; span=(40, 41), match='M'>\n",
      "<re.Match object; span=(41, 42), match='N'>\n",
      "<re.Match object; span=(42, 43), match='O'>\n",
      "<re.Match object; span=(43, 44), match='P'>\n",
      "<re.Match object; span=(44, 45), match='Q'>\n",
      "<re.Match object; span=(45, 46), match='R'>\n",
      "<re.Match object; span=(46, 47), match='S'>\n",
      "<re.Match object; span=(47, 48), match='T'>\n",
      "<re.Match object; span=(48, 49), match='U'>\n",
      "<re.Match object; span=(49, 50), match='V'>\n",
      "<re.Match object; span=(50, 51), match='W'>\n",
      "<re.Match object; span=(51, 52), match='X'>\n",
      "<re.Match object; span=(52, 53), match='Y'>\n",
      "<re.Match object; span=(53, 54), match='Z'>\n",
      "<re.Match object; span=(67, 68), match='H'>\n",
      "<re.Match object; span=(68, 69), match='a'>\n",
      "<re.Match object; span=(70, 71), match='H'>\n",
      "<re.Match object; span=(71, 72), match='a'>\n",
      "<re.Match object; span=(72, 73), match='H'>\n",
      "<re.Match object; span=(73, 74), match='a'>\n",
      "<re.Match object; span=(76, 77), match='M'>\n",
      "<re.Match object; span=(77, 78), match='e'>\n",
      "<re.Match object; span=(78, 79), match='t'>\n",
      "<re.Match object; span=(79, 80), match='a'>\n",
      "<re.Match object; span=(80, 81), match='C'>\n",
      "<re.Match object; span=(81, 82), match='h'>\n",
      "<re.Match object; span=(82, 83), match='a'>\n",
      "<re.Match object; span=(83, 84), match='r'>\n",
      "<re.Match object; span=(84, 85), match='a'>\n",
      "<re.Match object; span=(85, 86), match='c'>\n",
      "<re.Match object; span=(86, 87), match='t'>\n",
      "<re.Match object; span=(87, 88), match='e'>\n",
      "<re.Match object; span=(88, 89), match='r'>\n",
      "<re.Match object; span=(89, 90), match='s'>\n",
      "<re.Match object; span=(92, 93), match='N'>\n",
      "<re.Match object; span=(93, 94), match='e'>\n",
      "<re.Match object; span=(94, 95), match='e'>\n",
      "<re.Match object; span=(95, 96), match='d'>\n",
      "<re.Match object; span=(97, 98), match='t'>\n",
      "<re.Match object; span=(98, 99), match='o'>\n",
      "<re.Match object; span=(100, 101), match='b'>\n",
      "<re.Match object; span=(101, 102), match='e'>\n",
      "<re.Match object; span=(103, 104), match='e'>\n",
      "<re.Match object; span=(104, 105), match='s'>\n",
      "<re.Match object; span=(105, 106), match='c'>\n",
      "<re.Match object; span=(106, 107), match='a'>\n",
      "<re.Match object; span=(107, 108), match='p'>\n",
      "<re.Match object; span=(108, 109), match='e'>\n",
      "<re.Match object; span=(109, 110), match='d'>\n",
      "<re.Match object; span=(115, 116), match='^'>\n",
      "<re.Match object; span=(129, 130), match='['>\n",
      "<re.Match object; span=(131, 132), match=']'>\n",
      "<re.Match object; span=(133, 134), match='\\\\'>\n",
      "<re.Match object; span=(142, 143), match='c'>\n",
      "<re.Match object; span=(143, 144), match='o'>\n",
      "<re.Match object; span=(144, 145), match='r'>\n",
      "<re.Match object; span=(145, 146), match='e'>\n",
      "<re.Match object; span=(146, 147), match='y'>\n",
      "<re.Match object; span=(147, 148), match='m'>\n",
      "<re.Match object; span=(148, 149), match='s'>\n",
      "<re.Match object; span=(150, 151), match='c'>\n",
      "<re.Match object; span=(151, 152), match='o'>\n",
      "<re.Match object; span=(152, 153), match='m'>\n",
      "<re.Match object; span=(221, 222), match='M'>\n",
      "<re.Match object; span=(222, 223), match='r'>\n",
      "<re.Match object; span=(225, 226), match='S'>\n",
      "<re.Match object; span=(226, 227), match='c'>\n",
      "<re.Match object; span=(227, 228), match='h'>\n",
      "<re.Match object; span=(228, 229), match='a'>\n",
      "<re.Match object; span=(229, 230), match='f'>\n",
      "<re.Match object; span=(230, 231), match='e'>\n",
      "<re.Match object; span=(231, 232), match='r'>\n",
      "<re.Match object; span=(233, 234), match='M'>\n",
      "<re.Match object; span=(234, 235), match='r'>\n",
      "<re.Match object; span=(236, 237), match='S'>\n",
      "<re.Match object; span=(237, 238), match='m'>\n",
      "<re.Match object; span=(238, 239), match='i'>\n",
      "<re.Match object; span=(239, 240), match='t'>\n",
      "<re.Match object; span=(240, 241), match='h'>\n",
      "<re.Match object; span=(242, 243), match='M'>\n",
      "<re.Match object; span=(243, 244), match='s'>\n",
      "<re.Match object; span=(245, 246), match='D'>\n",
      "<re.Match object; span=(246, 247), match='a'>\n",
      "<re.Match object; span=(247, 248), match='v'>\n",
      "<re.Match object; span=(248, 249), match='i'>\n",
      "<re.Match object; span=(249, 250), match='s'>\n",
      "<re.Match object; span=(251, 252), match='M'>\n",
      "<re.Match object; span=(252, 253), match='r'>\n",
      "<re.Match object; span=(253, 254), match='s'>\n",
      "<re.Match object; span=(256, 257), match='R'>\n",
      "<re.Match object; span=(257, 258), match='o'>\n",
      "<re.Match object; span=(258, 259), match='b'>\n",
      "<re.Match object; span=(259, 260), match='i'>\n",
      "<re.Match object; span=(260, 261), match='n'>\n",
      "<re.Match object; span=(261, 262), match='s'>\n",
      "<re.Match object; span=(262, 263), match='o'>\n",
      "<re.Match object; span=(263, 264), match='n'>\n",
      "<re.Match object; span=(265, 266), match='M'>\n",
      "<re.Match object; span=(266, 267), match='r'>\n",
      "<re.Match object; span=(269, 270), match='T'>\n"
     ]
    }
   ],
   "source": [
    "# example - 21\n",
    "pattern = re.compile(r\"[a-zA-z]\")\n",
    "\n",
    "matches = pattern.finditer(text_to_search)\n",
    "for match in matches:\n",
    "    print(match)"
   ]
  },
  {
   "cell_type": "code",
   "execution_count": 69,
   "metadata": {
    "collapsed": true
   },
   "outputs": [
    {
     "name": "stdout",
     "output_type": "stream",
     "text": [
      "<re.Match object; span=(1, 2), match='a'>\n",
      "<re.Match object; span=(2, 3), match='b'>\n",
      "<re.Match object; span=(3, 4), match='c'>\n",
      "<re.Match object; span=(4, 5), match='d'>\n",
      "<re.Match object; span=(5, 6), match='e'>\n",
      "<re.Match object; span=(6, 7), match='f'>\n",
      "<re.Match object; span=(7, 8), match='g'>\n",
      "<re.Match object; span=(8, 9), match='h'>\n",
      "<re.Match object; span=(9, 10), match='i'>\n",
      "<re.Match object; span=(10, 11), match='j'>\n",
      "<re.Match object; span=(11, 12), match='k'>\n",
      "<re.Match object; span=(12, 13), match='l'>\n",
      "<re.Match object; span=(13, 14), match='m'>\n",
      "<re.Match object; span=(14, 15), match='n'>\n",
      "<re.Match object; span=(15, 16), match='o'>\n",
      "<re.Match object; span=(16, 17), match='p'>\n",
      "<re.Match object; span=(17, 18), match='q'>\n",
      "<re.Match object; span=(18, 19), match='u'>\n",
      "<re.Match object; span=(19, 20), match='r'>\n",
      "<re.Match object; span=(20, 21), match='t'>\n",
      "<re.Match object; span=(21, 22), match='u'>\n",
      "<re.Match object; span=(22, 23), match='v'>\n",
      "<re.Match object; span=(23, 24), match='w'>\n",
      "<re.Match object; span=(24, 25), match='x'>\n",
      "<re.Match object; span=(25, 26), match='y'>\n",
      "<re.Match object; span=(26, 27), match='z'>\n",
      "<re.Match object; span=(28, 29), match='A'>\n",
      "<re.Match object; span=(29, 30), match='B'>\n",
      "<re.Match object; span=(30, 31), match='C'>\n",
      "<re.Match object; span=(31, 32), match='D'>\n",
      "<re.Match object; span=(32, 33), match='E'>\n",
      "<re.Match object; span=(33, 34), match='F'>\n",
      "<re.Match object; span=(34, 35), match='G'>\n",
      "<re.Match object; span=(35, 36), match='H'>\n",
      "<re.Match object; span=(36, 37), match='I'>\n",
      "<re.Match object; span=(37, 38), match='J'>\n",
      "<re.Match object; span=(38, 39), match='K'>\n",
      "<re.Match object; span=(39, 40), match='L'>\n",
      "<re.Match object; span=(40, 41), match='M'>\n",
      "<re.Match object; span=(41, 42), match='N'>\n",
      "<re.Match object; span=(42, 43), match='O'>\n",
      "<re.Match object; span=(43, 44), match='P'>\n",
      "<re.Match object; span=(44, 45), match='Q'>\n",
      "<re.Match object; span=(45, 46), match='R'>\n",
      "<re.Match object; span=(46, 47), match='S'>\n",
      "<re.Match object; span=(47, 48), match='T'>\n",
      "<re.Match object; span=(48, 49), match='U'>\n",
      "<re.Match object; span=(49, 50), match='V'>\n",
      "<re.Match object; span=(50, 51), match='W'>\n",
      "<re.Match object; span=(51, 52), match='X'>\n",
      "<re.Match object; span=(52, 53), match='Y'>\n",
      "<re.Match object; span=(53, 54), match='Z'>\n",
      "<re.Match object; span=(55, 56), match='1'>\n",
      "<re.Match object; span=(56, 57), match='2'>\n",
      "<re.Match object; span=(57, 58), match='3'>\n",
      "<re.Match object; span=(58, 59), match='4'>\n",
      "<re.Match object; span=(59, 60), match='5'>\n",
      "<re.Match object; span=(60, 61), match='6'>\n",
      "<re.Match object; span=(61, 62), match='7'>\n",
      "<re.Match object; span=(62, 63), match='8'>\n",
      "<re.Match object; span=(63, 64), match='9'>\n",
      "<re.Match object; span=(64, 65), match='0'>\n",
      "<re.Match object; span=(67, 68), match='H'>\n",
      "<re.Match object; span=(68, 69), match='a'>\n",
      "<re.Match object; span=(70, 71), match='H'>\n",
      "<re.Match object; span=(71, 72), match='a'>\n",
      "<re.Match object; span=(72, 73), match='H'>\n",
      "<re.Match object; span=(73, 74), match='a'>\n",
      "<re.Match object; span=(76, 77), match='M'>\n",
      "<re.Match object; span=(77, 78), match='e'>\n",
      "<re.Match object; span=(78, 79), match='t'>\n",
      "<re.Match object; span=(79, 80), match='a'>\n",
      "<re.Match object; span=(80, 81), match='C'>\n",
      "<re.Match object; span=(81, 82), match='h'>\n",
      "<re.Match object; span=(82, 83), match='a'>\n",
      "<re.Match object; span=(83, 84), match='r'>\n",
      "<re.Match object; span=(84, 85), match='a'>\n",
      "<re.Match object; span=(85, 86), match='c'>\n",
      "<re.Match object; span=(86, 87), match='t'>\n",
      "<re.Match object; span=(87, 88), match='e'>\n",
      "<re.Match object; span=(88, 89), match='r'>\n",
      "<re.Match object; span=(89, 90), match='s'>\n",
      "<re.Match object; span=(92, 93), match='N'>\n",
      "<re.Match object; span=(93, 94), match='e'>\n",
      "<re.Match object; span=(94, 95), match='e'>\n",
      "<re.Match object; span=(95, 96), match='d'>\n",
      "<re.Match object; span=(97, 98), match='t'>\n",
      "<re.Match object; span=(98, 99), match='o'>\n",
      "<re.Match object; span=(100, 101), match='b'>\n",
      "<re.Match object; span=(101, 102), match='e'>\n",
      "<re.Match object; span=(103, 104), match='e'>\n",
      "<re.Match object; span=(104, 105), match='s'>\n",
      "<re.Match object; span=(105, 106), match='c'>\n",
      "<re.Match object; span=(106, 107), match='a'>\n",
      "<re.Match object; span=(107, 108), match='p'>\n",
      "<re.Match object; span=(108, 109), match='e'>\n",
      "<re.Match object; span=(109, 110), match='d'>\n",
      "<re.Match object; span=(115, 116), match='^'>\n",
      "<re.Match object; span=(129, 130), match='['>\n",
      "<re.Match object; span=(131, 132), match=']'>\n",
      "<re.Match object; span=(133, 134), match='\\\\'>\n",
      "<re.Match object; span=(142, 143), match='c'>\n",
      "<re.Match object; span=(143, 144), match='o'>\n",
      "<re.Match object; span=(144, 145), match='r'>\n",
      "<re.Match object; span=(145, 146), match='e'>\n",
      "<re.Match object; span=(146, 147), match='y'>\n",
      "<re.Match object; span=(147, 148), match='m'>\n",
      "<re.Match object; span=(148, 149), match='s'>\n",
      "<re.Match object; span=(150, 151), match='c'>\n",
      "<re.Match object; span=(151, 152), match='o'>\n",
      "<re.Match object; span=(152, 153), match='m'>\n",
      "<re.Match object; span=(155, 156), match='3'>\n",
      "<re.Match object; span=(156, 157), match='2'>\n",
      "<re.Match object; span=(157, 158), match='1'>\n",
      "<re.Match object; span=(159, 160), match='5'>\n",
      "<re.Match object; span=(160, 161), match='5'>\n",
      "<re.Match object; span=(161, 162), match='5'>\n",
      "<re.Match object; span=(163, 164), match='4'>\n",
      "<re.Match object; span=(164, 165), match='3'>\n",
      "<re.Match object; span=(165, 166), match='2'>\n",
      "<re.Match object; span=(166, 167), match='1'>\n",
      "<re.Match object; span=(168, 169), match='1'>\n",
      "<re.Match object; span=(169, 170), match='2'>\n",
      "<re.Match object; span=(170, 171), match='3'>\n",
      "<re.Match object; span=(172, 173), match='5'>\n",
      "<re.Match object; span=(173, 174), match='5'>\n",
      "<re.Match object; span=(174, 175), match='5'>\n",
      "<re.Match object; span=(176, 177), match='1'>\n",
      "<re.Match object; span=(177, 178), match='2'>\n",
      "<re.Match object; span=(178, 179), match='3'>\n",
      "<re.Match object; span=(179, 180), match='4'>\n",
      "<re.Match object; span=(181, 182), match='1'>\n",
      "<re.Match object; span=(182, 183), match='2'>\n",
      "<re.Match object; span=(183, 184), match='3'>\n",
      "<re.Match object; span=(185, 186), match='5'>\n",
      "<re.Match object; span=(186, 187), match='5'>\n",
      "<re.Match object; span=(187, 188), match='5'>\n",
      "<re.Match object; span=(189, 190), match='1'>\n",
      "<re.Match object; span=(190, 191), match='2'>\n",
      "<re.Match object; span=(191, 192), match='3'>\n",
      "<re.Match object; span=(192, 193), match='4'>\n",
      "<re.Match object; span=(194, 195), match='8'>\n",
      "<re.Match object; span=(195, 196), match='0'>\n",
      "<re.Match object; span=(196, 197), match='0'>\n",
      "<re.Match object; span=(198, 199), match='5'>\n",
      "<re.Match object; span=(199, 200), match='5'>\n",
      "<re.Match object; span=(200, 201), match='5'>\n",
      "<re.Match object; span=(202, 203), match='1'>\n",
      "<re.Match object; span=(203, 204), match='2'>\n",
      "<re.Match object; span=(204, 205), match='3'>\n",
      "<re.Match object; span=(205, 206), match='4'>\n",
      "<re.Match object; span=(207, 208), match='9'>\n",
      "<re.Match object; span=(208, 209), match='0'>\n",
      "<re.Match object; span=(209, 210), match='0'>\n",
      "<re.Match object; span=(211, 212), match='5'>\n",
      "<re.Match object; span=(212, 213), match='5'>\n",
      "<re.Match object; span=(213, 214), match='5'>\n",
      "<re.Match object; span=(215, 216), match='1'>\n",
      "<re.Match object; span=(216, 217), match='2'>\n",
      "<re.Match object; span=(217, 218), match='3'>\n",
      "<re.Match object; span=(218, 219), match='4'>\n",
      "<re.Match object; span=(221, 222), match='M'>\n",
      "<re.Match object; span=(222, 223), match='r'>\n",
      "<re.Match object; span=(225, 226), match='S'>\n",
      "<re.Match object; span=(226, 227), match='c'>\n",
      "<re.Match object; span=(227, 228), match='h'>\n",
      "<re.Match object; span=(228, 229), match='a'>\n",
      "<re.Match object; span=(229, 230), match='f'>\n",
      "<re.Match object; span=(230, 231), match='e'>\n",
      "<re.Match object; span=(231, 232), match='r'>\n",
      "<re.Match object; span=(233, 234), match='M'>\n",
      "<re.Match object; span=(234, 235), match='r'>\n",
      "<re.Match object; span=(236, 237), match='S'>\n",
      "<re.Match object; span=(237, 238), match='m'>\n",
      "<re.Match object; span=(238, 239), match='i'>\n",
      "<re.Match object; span=(239, 240), match='t'>\n",
      "<re.Match object; span=(240, 241), match='h'>\n",
      "<re.Match object; span=(242, 243), match='M'>\n",
      "<re.Match object; span=(243, 244), match='s'>\n",
      "<re.Match object; span=(245, 246), match='D'>\n",
      "<re.Match object; span=(246, 247), match='a'>\n",
      "<re.Match object; span=(247, 248), match='v'>\n",
      "<re.Match object; span=(248, 249), match='i'>\n",
      "<re.Match object; span=(249, 250), match='s'>\n",
      "<re.Match object; span=(251, 252), match='M'>\n",
      "<re.Match object; span=(252, 253), match='r'>\n",
      "<re.Match object; span=(253, 254), match='s'>\n",
      "<re.Match object; span=(256, 257), match='R'>\n",
      "<re.Match object; span=(257, 258), match='o'>\n",
      "<re.Match object; span=(258, 259), match='b'>\n",
      "<re.Match object; span=(259, 260), match='i'>\n",
      "<re.Match object; span=(260, 261), match='n'>\n",
      "<re.Match object; span=(261, 262), match='s'>\n",
      "<re.Match object; span=(262, 263), match='o'>\n",
      "<re.Match object; span=(263, 264), match='n'>\n",
      "<re.Match object; span=(265, 266), match='M'>\n",
      "<re.Match object; span=(266, 267), match='r'>\n",
      "<re.Match object; span=(269, 270), match='T'>\n"
     ]
    }
   ],
   "source": [
    "# example - 22\n",
    "pattern = re.compile(r\"[a-zA-z0-9]\")\n",
    "\n",
    "matches = pattern.finditer(text_to_search)\n",
    "for match in matches:\n",
    "    print(match)"
   ]
  },
  {
   "cell_type": "code",
   "execution_count": 70,
   "metadata": {
    "collapsed": true
   },
   "outputs": [
    {
     "name": "stdout",
     "output_type": "stream",
     "text": [
      "<re.Match object; span=(0, 1), match='\\n'>\n",
      "<re.Match object; span=(27, 28), match='\\n'>\n",
      "<re.Match object; span=(54, 55), match='\\n'>\n",
      "<re.Match object; span=(55, 56), match='1'>\n",
      "<re.Match object; span=(56, 57), match='2'>\n",
      "<re.Match object; span=(57, 58), match='3'>\n",
      "<re.Match object; span=(58, 59), match='4'>\n",
      "<re.Match object; span=(59, 60), match='5'>\n",
      "<re.Match object; span=(60, 61), match='6'>\n",
      "<re.Match object; span=(61, 62), match='7'>\n",
      "<re.Match object; span=(62, 63), match='8'>\n",
      "<re.Match object; span=(63, 64), match='9'>\n",
      "<re.Match object; span=(64, 65), match='0'>\n",
      "<re.Match object; span=(65, 66), match='\\n'>\n",
      "<re.Match object; span=(66, 67), match='\\n'>\n",
      "<re.Match object; span=(69, 70), match=' '>\n",
      "<re.Match object; span=(74, 75), match='\\n'>\n",
      "<re.Match object; span=(75, 76), match='\\n'>\n",
      "<re.Match object; span=(90, 91), match=' '>\n",
      "<re.Match object; span=(91, 92), match='('>\n",
      "<re.Match object; span=(96, 97), match=' '>\n",
      "<re.Match object; span=(99, 100), match=' '>\n",
      "<re.Match object; span=(102, 103), match=' '>\n",
      "<re.Match object; span=(110, 111), match=')'>\n",
      "<re.Match object; span=(111, 112), match=':'>\n",
      "<re.Match object; span=(112, 113), match='\\n'>\n",
      "<re.Match object; span=(113, 114), match='.'>\n",
      "<re.Match object; span=(114, 115), match=' '>\n",
      "<re.Match object; span=(116, 117), match=' '>\n",
      "<re.Match object; span=(117, 118), match='$'>\n",
      "<re.Match object; span=(118, 119), match=' '>\n",
      "<re.Match object; span=(119, 120), match='*'>\n",
      "<re.Match object; span=(120, 121), match=' '>\n",
      "<re.Match object; span=(121, 122), match='+'>\n",
      "<re.Match object; span=(122, 123), match=' '>\n",
      "<re.Match object; span=(123, 124), match='?'>\n",
      "<re.Match object; span=(124, 125), match=' '>\n",
      "<re.Match object; span=(125, 126), match='{'>\n",
      "<re.Match object; span=(126, 127), match=' '>\n",
      "<re.Match object; span=(127, 128), match='}'>\n",
      "<re.Match object; span=(128, 129), match=' '>\n",
      "<re.Match object; span=(130, 131), match=' '>\n",
      "<re.Match object; span=(132, 133), match=' '>\n",
      "<re.Match object; span=(134, 135), match=' '>\n",
      "<re.Match object; span=(135, 136), match='|'>\n",
      "<re.Match object; span=(136, 137), match=' '>\n",
      "<re.Match object; span=(137, 138), match='('>\n",
      "<re.Match object; span=(138, 139), match=' '>\n",
      "<re.Match object; span=(139, 140), match=')'>\n",
      "<re.Match object; span=(140, 141), match='\\n'>\n",
      "<re.Match object; span=(141, 142), match='\\n'>\n",
      "<re.Match object; span=(149, 150), match='.'>\n",
      "<re.Match object; span=(153, 154), match='\\n'>\n",
      "<re.Match object; span=(154, 155), match='\\n'>\n",
      "<re.Match object; span=(155, 156), match='3'>\n",
      "<re.Match object; span=(156, 157), match='2'>\n",
      "<re.Match object; span=(157, 158), match='1'>\n",
      "<re.Match object; span=(158, 159), match='-'>\n",
      "<re.Match object; span=(159, 160), match='5'>\n",
      "<re.Match object; span=(160, 161), match='5'>\n",
      "<re.Match object; span=(161, 162), match='5'>\n",
      "<re.Match object; span=(162, 163), match='-'>\n",
      "<re.Match object; span=(163, 164), match='4'>\n",
      "<re.Match object; span=(164, 165), match='3'>\n",
      "<re.Match object; span=(165, 166), match='2'>\n",
      "<re.Match object; span=(166, 167), match='1'>\n",
      "<re.Match object; span=(167, 168), match='\\n'>\n",
      "<re.Match object; span=(168, 169), match='1'>\n",
      "<re.Match object; span=(169, 170), match='2'>\n",
      "<re.Match object; span=(170, 171), match='3'>\n",
      "<re.Match object; span=(171, 172), match='.'>\n",
      "<re.Match object; span=(172, 173), match='5'>\n",
      "<re.Match object; span=(173, 174), match='5'>\n",
      "<re.Match object; span=(174, 175), match='5'>\n",
      "<re.Match object; span=(175, 176), match='.'>\n",
      "<re.Match object; span=(176, 177), match='1'>\n",
      "<re.Match object; span=(177, 178), match='2'>\n",
      "<re.Match object; span=(178, 179), match='3'>\n",
      "<re.Match object; span=(179, 180), match='4'>\n",
      "<re.Match object; span=(180, 181), match='\\n'>\n",
      "<re.Match object; span=(181, 182), match='1'>\n",
      "<re.Match object; span=(182, 183), match='2'>\n",
      "<re.Match object; span=(183, 184), match='3'>\n",
      "<re.Match object; span=(184, 185), match='*'>\n",
      "<re.Match object; span=(185, 186), match='5'>\n",
      "<re.Match object; span=(186, 187), match='5'>\n",
      "<re.Match object; span=(187, 188), match='5'>\n",
      "<re.Match object; span=(188, 189), match='*'>\n",
      "<re.Match object; span=(189, 190), match='1'>\n",
      "<re.Match object; span=(190, 191), match='2'>\n",
      "<re.Match object; span=(191, 192), match='3'>\n",
      "<re.Match object; span=(192, 193), match='4'>\n",
      "<re.Match object; span=(193, 194), match='\\n'>\n",
      "<re.Match object; span=(194, 195), match='8'>\n",
      "<re.Match object; span=(195, 196), match='0'>\n",
      "<re.Match object; span=(196, 197), match='0'>\n",
      "<re.Match object; span=(197, 198), match='-'>\n",
      "<re.Match object; span=(198, 199), match='5'>\n",
      "<re.Match object; span=(199, 200), match='5'>\n",
      "<re.Match object; span=(200, 201), match='5'>\n",
      "<re.Match object; span=(201, 202), match='-'>\n",
      "<re.Match object; span=(202, 203), match='1'>\n",
      "<re.Match object; span=(203, 204), match='2'>\n",
      "<re.Match object; span=(204, 205), match='3'>\n",
      "<re.Match object; span=(205, 206), match='4'>\n",
      "<re.Match object; span=(206, 207), match='\\n'>\n",
      "<re.Match object; span=(207, 208), match='9'>\n",
      "<re.Match object; span=(208, 209), match='0'>\n",
      "<re.Match object; span=(209, 210), match='0'>\n",
      "<re.Match object; span=(210, 211), match='-'>\n",
      "<re.Match object; span=(211, 212), match='5'>\n",
      "<re.Match object; span=(212, 213), match='5'>\n",
      "<re.Match object; span=(213, 214), match='5'>\n",
      "<re.Match object; span=(214, 215), match='-'>\n",
      "<re.Match object; span=(215, 216), match='1'>\n",
      "<re.Match object; span=(216, 217), match='2'>\n",
      "<re.Match object; span=(217, 218), match='3'>\n",
      "<re.Match object; span=(218, 219), match='4'>\n",
      "<re.Match object; span=(219, 220), match='\\n'>\n",
      "<re.Match object; span=(220, 221), match='\\n'>\n",
      "<re.Match object; span=(223, 224), match='.'>\n",
      "<re.Match object; span=(224, 225), match=' '>\n",
      "<re.Match object; span=(232, 233), match='\\n'>\n",
      "<re.Match object; span=(235, 236), match=' '>\n",
      "<re.Match object; span=(241, 242), match='\\n'>\n",
      "<re.Match object; span=(244, 245), match=' '>\n",
      "<re.Match object; span=(250, 251), match='\\n'>\n",
      "<re.Match object; span=(254, 255), match='.'>\n",
      "<re.Match object; span=(255, 256), match=' '>\n",
      "<re.Match object; span=(264, 265), match='\\n'>\n",
      "<re.Match object; span=(267, 268), match='.'>\n",
      "<re.Match object; span=(268, 269), match=' '>\n",
      "<re.Match object; span=(270, 271), match='\\n'>\n"
     ]
    }
   ],
   "source": [
    "# example - 23\n",
    "pattern = re.compile(r\"[^a-zA-z]\")\n",
    "\n",
    "matches = pattern.finditer(text_to_search)\n",
    "for match in matches:\n",
    "    print(match)"
   ]
  },
  {
   "cell_type": "code",
   "execution_count": null,
   "metadata": {},
   "outputs": [],
   "source": [
    "# example - 23\n",
    "pattern = re.compile(r\"[^a-zA-z]\")\n",
    "\n",
    "matches = pattern.finditer(text_to_search)\n",
    "for match in matches:\n",
    "    print(match)"
   ]
  },
  {
   "cell_type": "code",
   "execution_count": 74,
   "metadata": {},
   "outputs": [
    {
     "name": "stdout",
     "output_type": "stream",
     "text": [
      "<re.Match object; span=(272, 275), match='cat'>\n",
      "<re.Match object; span=(276, 279), match='mat'>\n",
      "<re.Match object; span=(280, 283), match='pat'>\n",
      "<re.Match object; span=(288, 291), match='rat'>\n"
     ]
    }
   ],
   "source": [
    "# example - 24\n",
    "# match all 3 char words that end with 'at' except 'bat'\n",
    "pattern = re.compile(r\"[^b]at\")\n",
    "\n",
    "matches = pattern.finditer(text_to_search)\n",
    "for match in matches:\n",
    "    print(match)"
   ]
  },
  {
   "cell_type": "code",
   "execution_count": 77,
   "metadata": {},
   "outputs": [
    {
     "name": "stdout",
     "output_type": "stream",
     "text": [
      "<re.Match object; span=(155, 167), match='321-555-4321'>\n",
      "<re.Match object; span=(168, 180), match='123.555.1234'>\n",
      "<re.Match object; span=(181, 193), match='123*555*1234'>\n",
      "<re.Match object; span=(194, 206), match='800-555-1234'>\n",
      "<re.Match object; span=(207, 219), match='900-555-1234'>\n"
     ]
    }
   ],
   "source": [
    "# example - 25\n",
    "# match all 3 char words that end with 'at' except 'bat'\n",
    "pattern = re.compile(r\"\\d{3}.\\d{3}.\\d{4}\")\n",
    "\n",
    "matches = pattern.finditer(text_to_search)\n",
    "for match in matches:\n",
    "    print(match)"
   ]
  },
  {
   "cell_type": "code",
   "execution_count": 84,
   "metadata": {},
   "outputs": [
    {
     "name": "stdout",
     "output_type": "stream",
     "text": [
      "<re.Match object; span=(221, 232), match='Mr. Schafer'>\n",
      "<re.Match object; span=(233, 241), match='Mr Smith'>\n",
      "<re.Match object; span=(265, 270), match='Mr. T'>\n"
     ]
    }
   ],
   "source": [
    "# example - 25\n",
    "# pattern = re.compile(r\"Mr\\.\")\n",
    "# pattern = re.compile(r\"Mr[.]*\")\n",
    "# pattern = re.compile(r\"Mr\\.?\")\n",
    "# pattern = re.compile(r\"Mr\\.?\\s[A-Z]\")\n",
    "# pattern = re.compile(r\"Mr\\.?\\s[A-Z]\\w+\")\n",
    "pattern = re.compile(r\"Mr\\.?\\s[A-Z]\\w*\")\n",
    "\n",
    "matches = pattern.finditer(text_to_search)\n",
    "for match in matches:\n",
    "    print(match)"
   ]
  },
  {
   "cell_type": "code",
   "execution_count": 88,
   "metadata": {},
   "outputs": [
    {
     "name": "stdout",
     "output_type": "stream",
     "text": [
      "<re.Match object; span=(221, 232), match='Mr. Schafer'>\n",
      "<re.Match object; span=(233, 241), match='Mr Smith'>\n",
      "<re.Match object; span=(242, 250), match='Ms Davis'>\n",
      "<re.Match object; span=(251, 264), match='Mrs. Robinson'>\n",
      "<re.Match object; span=(265, 270), match='Mr. T'>\n"
     ]
    }
   ],
   "source": [
    "# example - 26\n",
    "# pattern = re.compile(r\"M(r|s|rs)\\.?\\s[A-Z]\\w*\")\n",
    "pattern = re.compile(r\"(Mr|Ms|Mrs)\\.?\\s[A-Z]\\w*\")\n",
    "\n",
    "matches = pattern.finditer(text_to_search)\n",
    "for match in matches:\n",
    "    print(match)"
   ]
  },
  {
   "cell_type": "code",
   "execution_count": 89,
   "metadata": {},
   "outputs": [],
   "source": [
    "# email searching examples\n",
    "# emails.py\n",
    "import re\n",
    "\n",
    "emails = '''\n",
    "CoreyMSchafer@gmail.com\n",
    "corey.schafer@university.edu\n",
    "corey-321-schafer@my-work.net\n",
    "'''"
   ]
  },
  {
   "cell_type": "code",
   "execution_count": 90,
   "metadata": {},
   "outputs": [
    {
     "name": "stdout",
     "output_type": "stream",
     "text": [
      "<re.Match object; span=(1, 24), match='CoreyMSchafer@gmail.com'>\n"
     ]
    }
   ],
   "source": [
    "# exaqmple - 27\n",
    "pattern = re.compile(r\"[a-zA-Z]+@[a-zA-Z]+\\.com\")\n",
    "matches = pattern.finditer(emails)\n",
    "\n",
    "for match in matches:\n",
    "    print(match)"
   ]
  },
  {
   "cell_type": "code",
   "execution_count": 92,
   "metadata": {},
   "outputs": [
    {
     "name": "stdout",
     "output_type": "stream",
     "text": [
      "<re.Match object; span=(1, 24), match='CoreyMSchafer@gmail.com'>\n",
      "<re.Match object; span=(25, 53), match='corey.schafer@university.edu'>\n"
     ]
    }
   ],
   "source": [
    "# exaqmple - 28\n",
    "pattern = re.compile(r\"[a-zA-Z.]+@[a-zA-Z]+\\.(com|edu)\")\n",
    "matches = pattern.finditer(emails)\n",
    "\n",
    "for match in matches:\n",
    "    print(match)"
   ]
  },
  {
   "cell_type": "code",
   "execution_count": 93,
   "metadata": {},
   "outputs": [
    {
     "name": "stdout",
     "output_type": "stream",
     "text": [
      "<re.Match object; span=(1, 24), match='CoreyMSchafer@gmail.com'>\n",
      "<re.Match object; span=(25, 53), match='corey.schafer@university.edu'>\n",
      "<re.Match object; span=(54, 83), match='corey-321-schafer@my-work.net'>\n"
     ]
    }
   ],
   "source": [
    "# exaqmple - 29\n",
    "pattern = re.compile(r\"[a-zA-Z0-9.-]+@[a-zA-Z-]+\\.(com|edu|net)\")\n",
    "matches = pattern.finditer(emails)\n",
    "\n",
    "for match in matches:\n",
    "    print(match)"
   ]
  },
  {
   "cell_type": "code",
   "execution_count": 95,
   "metadata": {},
   "outputs": [
    {
     "name": "stdout",
     "output_type": "stream",
     "text": [
      "<re.Match object; span=(1, 24), match='CoreyMSchafer@gmail.com'>\n",
      "<re.Match object; span=(25, 53), match='corey.schafer@university.edu'>\n",
      "<re.Match object; span=(54, 83), match='corey-321-schafer@my-work.net'>\n"
     ]
    }
   ],
   "source": [
    "# exaqmple - 30\n",
    "# example to match email\n",
    "# source..net\n",
    "pattern = re.compile(r'[a-zA-Z0-9_.+-]+@[a-zA-Z0-9-]+\\.[a-zA-Z0-9-.]+')\n",
    "matches = pattern.finditer(emails)\n",
    "\n",
    "for match in matches:\n",
    "    print(match)"
   ]
  },
  {
   "cell_type": "code",
   "execution_count": 96,
   "metadata": {},
   "outputs": [],
   "source": [
    "# url parsing with regex\n",
    "# url examples\n",
    "import re\n",
    "\n",
    "urls = '''\n",
    "https://www.google.com\n",
    "http://coreyms.com\n",
    "https://youtube.com\n",
    "https://www.nasa.gov\n",
    "'''"
   ]
  },
  {
   "cell_type": "code",
   "execution_count": 100,
   "metadata": {},
   "outputs": [
    {
     "name": "stdout",
     "output_type": "stream",
     "text": [
      "<re.Match object; span=(1, 23), match='https://www.google.com'>\n",
      "<re.Match object; span=(24, 42), match='http://coreyms.com'>\n",
      "<re.Match object; span=(43, 62), match='https://youtube.com'>\n",
      "<re.Match object; span=(63, 83), match='https://www.nasa.gov'>\n"
     ]
    }
   ],
   "source": [
    "# example - 31\n",
    "# pattern = re.compile(r\"https?://(www\\.)?\\w+\\.(com|gov)\")\n",
    "pattern = re.compile(r\"https?://(www\\.)?\\w+\\.\\w+\")\n",
    "\n",
    "matches = pattern.finditer(urls)\n",
    "\n",
    "for match in matches:\n",
    "    print(match)"
   ]
  },
  {
   "cell_type": "code",
   "execution_count": 105,
   "metadata": {},
   "outputs": [
    {
     "name": "stdout",
     "output_type": "stream",
     "text": [
      ".com\n",
      ".com\n",
      ".com\n",
      ".gov\n"
     ]
    }
   ],
   "source": [
    "# example - 31\n",
    "# finding top level domain\n",
    "pattern = re.compile(r\"https?://(www\\.)?(\\w+)(\\.\\w+)\")\n",
    "\n",
    "matches = pattern.finditer(urls)\n",
    "\n",
    "for match in matches:\n",
    "#     print(match)\n",
    "#     print(match.group(0))\n",
    "#     print(match.group(1))\n",
    "#     print(match.group(2))\n",
    "    print(match.group(3))"
   ]
  },
  {
   "cell_type": "code",
   "execution_count": 106,
   "metadata": {},
   "outputs": [
    {
     "name": "stdout",
     "output_type": "stream",
     "text": [
      "\n",
      "google.com\n",
      "coreyms.com\n",
      "youtube.com\n",
      "nasa.gov\n",
      "\n"
     ]
    }
   ],
   "source": [
    "# example - 32\n",
    "# backreference\n",
    "\n",
    "pattern = re.compile(r\"https?://(www\\.)?(\\w+)(\\.\\w+)\")\n",
    "\n",
    "subbed_urls = pattern.sub(r\"\\2\\3\", urls)\n",
    "print(subbed_urls)"
   ]
  },
  {
   "cell_type": "code",
   "execution_count": 109,
   "metadata": {},
   "outputs": [
    {
     "name": "stdout",
     "output_type": "stream",
     "text": [
      "Mr\n",
      "Mr\n",
      "Ms\n",
      "Mrs\n",
      "Mr\n"
     ]
    }
   ],
   "source": [
    "# example - 33\n",
    "# findall() method\n",
    "pattern = re.compile(r\"(Mr|Ms|Mrs)\\.?\\s[A-Z]\\w*\")\n",
    "\n",
    "matches = pattern.findall(text_to_search)\n",
    "\n",
    "for match in matches:\n",
    "    print(match)"
   ]
  },
  {
   "cell_type": "code",
   "execution_count": 110,
   "metadata": {},
   "outputs": [
    {
     "name": "stdout",
     "output_type": "stream",
     "text": [
      "321-555-4321\n",
      "123.555.1234\n",
      "123*555*1234\n",
      "800-555-1234\n",
      "900-555-1234\n"
     ]
    }
   ],
   "source": [
    "# example - 34\n",
    "# findall() method\n",
    "pattern = re.compile(r\"\\d{3}.\\d{3}.\\d{4}\")\n",
    "\n",
    "matches = pattern.findall(text_to_search)\n",
    "\n",
    "for match in matches:\n",
    "    print(match)"
   ]
  },
  {
   "cell_type": "code",
   "execution_count": 115,
   "metadata": {},
   "outputs": [
    {
     "name": "stdout",
     "output_type": "stream",
     "text": [
      "<re.Match object; span=(0, 5), match='Start'>\n"
     ]
    }
   ],
   "source": [
    "# example - 35\n",
    "# match() method\n",
    "pattern = re.compile(r\"Start\")\n",
    "\n",
    "matches = pattern.match(sentence)\n",
    "print(matches)"
   ]
  },
  {
   "cell_type": "code",
   "execution_count": 116,
   "metadata": {},
   "outputs": [
    {
     "data": {
      "text/plain": [
       "'Start'"
      ]
     },
     "execution_count": 116,
     "metadata": {},
     "output_type": "execute_result"
    }
   ],
   "source": [
    "matches.group()"
   ]
  },
  {
   "cell_type": "code",
   "execution_count": 117,
   "metadata": {},
   "outputs": [
    {
     "name": "stdout",
     "output_type": "stream",
     "text": [
      "<re.Match object; span=(0, 5), match='Start'>\n"
     ]
    }
   ],
   "source": [
    "# example - 36\n",
    "# search() method\n",
    "pattern = re.compile(r\"Start\")\n",
    "\n",
    "matches = pattern.search(sentence)\n",
    "print(matches)"
   ]
  },
  {
   "cell_type": "code",
   "execution_count": 118,
   "metadata": {},
   "outputs": [
    {
     "name": "stdout",
     "output_type": "stream",
     "text": [
      "<re.Match object; span=(8, 16), match='sentence'>\n"
     ]
    }
   ],
   "source": [
    "# example - 37\n",
    "# search() method\n",
    "pattern = re.compile(r\"sentence\")\n",
    "\n",
    "matches = pattern.search(sentence)\n",
    "print(matches)"
   ]
  },
  {
   "cell_type": "code",
   "execution_count": 120,
   "metadata": {},
   "outputs": [
    {
     "name": "stdout",
     "output_type": "stream",
     "text": [
      "<re.Match object; span=(0, 5), match='Start'>\n"
     ]
    }
   ],
   "source": [
    "# flags\n",
    "# example - 38\n",
    "# search() method\n",
    "# pattern = re.compile(r\"start\",re.IGNORECASE)\n",
    "pattern = re.compile(r\"start\",re.I)\n",
    "\n",
    "matches = pattern.search(sentence)\n",
    "print(matches)\n"
   ]
  },
  {
   "cell_type": "code",
   "execution_count": null,
   "metadata": {},
   "outputs": [],
   "source": [
    "# flags\n",
    "# example - 39"
   ]
  },
  {
   "cell_type": "code",
   "execution_count": 3,
   "metadata": {},
   "outputs": [],
   "source": [
    "=========================== ENDS ============================="
   ]
  },
  {
   "cell_type": "code",
   "execution_count": 4,
   "metadata": {},
   "outputs": [],
   "source": [
    "# #  REGULAR EXPRESSION FROM AUTOMATE BORING STUFF WITH PYTHON\n",
    "# # BY A.I. SWEIGART"
   ]
  },
  {
   "cell_type": "code",
   "execution_count": 7,
   "metadata": {},
   "outputs": [],
   "source": [
    "# example - 01\n",
    "# page - 148\n",
    "# is phone number\n",
    "# using string methods plus user defined functions\n",
    "\n",
    "def isPhoneNumber(text):\n",
    "    if len(text)!=12:\n",
    "        return False\n",
    "    for i in range(0,3):\n",
    "        if not text[i].isdecimal():\n",
    "            return False\n",
    "    if text[3]!='-':\n",
    "        return False\n",
    "    for i in range(4,7):\n",
    "        if not text[i].isdecimal():\n",
    "            return False\n",
    "    if text[7]!='-':\n",
    "        return False\n",
    "    for i in range(8,12):\n",
    "        if not text[i].isdecimal():\n",
    "            return False\n",
    "    return True"
   ]
  },
  {
   "cell_type": "code",
   "execution_count": 8,
   "metadata": {},
   "outputs": [
    {
     "name": "stdout",
     "output_type": "stream",
     "text": [
      "415-555-4242 is a phone number\n"
     ]
    },
    {
     "data": {
      "text/plain": [
       "True"
      ]
     },
     "execution_count": 8,
     "metadata": {},
     "output_type": "execute_result"
    }
   ],
   "source": [
    "print(\"415-555-4242 is a phone number\")\n",
    "isPhoneNumber('415-555-4242')"
   ]
  },
  {
   "cell_type": "code",
   "execution_count": 9,
   "metadata": {},
   "outputs": [
    {
     "name": "stdout",
     "output_type": "stream",
     "text": [
      "Moshi moshi is a phonen number\n"
     ]
    },
    {
     "data": {
      "text/plain": [
       "False"
      ]
     },
     "execution_count": 9,
     "metadata": {},
     "output_type": "execute_result"
    }
   ],
   "source": [
    "print(\"Moshi moshi is a phonen number\")\n",
    "isPhoneNumber(\"Moshi moshi\")"
   ]
  },
  {
   "cell_type": "code",
   "execution_count": 15,
   "metadata": {},
   "outputs": [
    {
     "name": "stdout",
     "output_type": "stream",
     "text": [
      "Phone Number Found: 415-555-1011\n",
      "Phone Number Found: 415-555-9999\n",
      "Phone Number Found: 415-555-2122\n",
      "Done\n"
     ]
    }
   ],
   "source": [
    "message = \"\"\"Call me at 415-555-1011 tomorrow.\n",
    "415-555-9999 is my office. 415-555-2122 is my home\"\"\"\n",
    "\n",
    "for i in range(len(message)):\n",
    "    chunk = message[i:i+12]\n",
    "    if isPhoneNumber(chunk):\n",
    "        print(f\"Phone Number Found: {chunk}\")\n",
    "print(\"Done\")"
   ]
  },
  {
   "cell_type": "code",
   "execution_count": 20,
   "metadata": {
    "collapsed": true
   },
   "outputs": [
    {
     "name": "stdout",
     "output_type": "stream",
     "text": [
      "Phone Number 1: 615-555-7164\n",
      "Phone Number 2: 800-555-5669\n",
      "Phone Number 3: 560-555-5153\n",
      "Phone Number 4: 900-555-9340\n",
      "Phone Number 5: 714-555-7405\n",
      "Phone Number 6: 800-555-6771\n",
      "Phone Number 7: 783-555-4799\n",
      "Phone Number 8: 516-555-4615\n",
      "Phone Number 9: 127-555-1867\n",
      "Phone Number 10: 608-555-4938\n",
      "Phone Number 11: 568-555-6051\n",
      "Phone Number 12: 292-555-1875\n",
      "Phone Number 13: 900-555-3205\n",
      "Phone Number 14: 614-555-1166\n",
      "Phone Number 15: 530-555-2676\n",
      "Phone Number 16: 470-555-2750\n",
      "Phone Number 17: 800-555-6089\n",
      "Phone Number 18: 880-555-8319\n",
      "Phone Number 19: 777-555-8378\n",
      "Phone Number 20: 998-555-7385\n",
      "Phone Number 21: 800-555-7100\n",
      "Phone Number 22: 903-555-8277\n",
      "Phone Number 23: 196-555-5674\n",
      "Phone Number 24: 900-555-5118\n",
      "Phone Number 25: 905-555-1630\n",
      "Phone Number 26: 203-555-3475\n",
      "Phone Number 27: 884-555-8444\n",
      "Phone Number 28: 904-555-8559\n",
      "Phone Number 29: 889-555-7393\n",
      "Phone Number 30: 195-555-2405\n",
      "Phone Number 31: 321-555-9053\n",
      "Phone Number 32: 133-555-1711\n",
      "Phone Number 33: 900-555-5428\n",
      "Phone Number 34: 760-555-7147\n",
      "Phone Number 35: 391-555-6621\n",
      "Phone Number 36: 932-555-7724\n",
      "Phone Number 37: 609-555-7908\n",
      "Phone Number 38: 800-555-8810\n",
      "Phone Number 39: 149-555-7657\n",
      "Phone Number 40: 130-555-9709\n",
      "Phone Number 41: 143-555-9295\n",
      "Phone Number 42: 903-555-9878\n",
      "Phone Number 43: 574-555-3194\n",
      "Phone Number 44: 496-555-7533\n",
      "Phone Number 45: 210-555-3757\n",
      "Phone Number 46: 900-555-9598\n",
      "Phone Number 47: 866-555-9844\n",
      "Phone Number 48: 669-555-7159\n",
      "Phone Number 49: 152-555-7417\n",
      "Phone Number 50: 893-555-9832\n",
      "Phone Number 51: 217-555-7123\n",
      "Phone Number 52: 786-555-6544\n",
      "Phone Number 53: 780-555-2574\n",
      "Phone Number 54: 926-555-8735\n",
      "Phone Number 55: 895-555-3539\n",
      "Phone Number 56: 874-555-3949\n",
      "Phone Number 57: 800-555-2420\n",
      "Phone Number 58: 936-555-6340\n",
      "Phone Number 59: 372-555-9809\n",
      "Phone Number 60: 890-555-5618\n",
      "Phone Number 61: 670-555-3005\n",
      "Phone Number 62: 509-555-5997\n",
      "Phone Number 63: 721-555-5632\n",
      "Phone Number 64: 900-555-3567\n",
      "Phone Number 65: 147-555-6830\n",
      "Phone Number 66: 582-555-3426\n",
      "Phone Number 67: 400-555-1706\n",
      "Phone Number 68: 525-555-1793\n",
      "Phone Number 69: 317-555-6700\n",
      "Phone Number 70: 974-555-8301\n",
      "Phone Number 71: 800-555-3216\n",
      "Phone Number 72: 746-555-4094\n",
      "Phone Number 73: 922-555-1773\n",
      "Phone Number 74: 711-555-4427\n",
      "Phone Number 75: 355-555-1872\n",
      "Phone Number 76: 852-555-6521\n",
      "Phone Number 77: 691-555-5773\n",
      "Phone Number 78: 332-555-5441\n",
      "Phone Number 79: 900-555-7755\n",
      "Phone Number 80: 379-555-3685\n",
      "Phone Number 81: 127-555-9682\n",
      "Phone Number 82: 789-555-7032\n",
      "Phone Number 83: 783-555-5135\n",
      "Phone Number 84: 315-555-6507\n",
      "Phone Number 85: 481-555-5835\n",
      "Phone Number 86: 365-555-8287\n",
      "Phone Number 87: 911-555-7535\n",
      "Phone Number 88: 681-555-2460\n",
      "Phone Number 89: 274-555-9800\n",
      "Phone Number 90: 800-555-1372\n",
      "Phone Number 91: 300-555-7821\n",
      "Phone Number 92: 133-555-3889\n",
      "Phone Number 93: 705-555-6863\n",
      "Phone Number 94: 215-555-9449\n",
      "Phone Number 95: 988-555-6112\n",
      "Phone Number 96: 623-555-3006\n",
      "Phone Number 97: 192-555-4977\n",
      "Phone Number 98: 178-555-4899\n",
      "Phone Number 99: 952-555-3089\n",
      "Phone Number 100: 900-555-6426\n",
      "Done\n"
     ]
    }
   ],
   "source": [
    "# example - 2 with above function\n",
    "\n",
    "with open(\"C:\\\\Users\\\\Jewel81\\\\Desktop\\\\Regex\\\\data.txt\", \"r\") as f:\n",
    "    file_string = f.read()\n",
    "    \n",
    "    count = 0\n",
    "    for i in range(len(file_string)):\n",
    "        chunk = file_string[i:i+12]\n",
    "        if isPhoneNumber(chunk):\n",
    "            count += 1\n",
    "            print(f\"Phone Number {count}: {chunk}\")\n",
    "    print(\"Done\")\n",
    "    f.close()"
   ]
  },
  {
   "cell_type": "code",
   "execution_count": 23,
   "metadata": {},
   "outputs": [
    {
     "name": "stdout",
     "output_type": "stream",
     "text": [
      "Phone number found: 415-555-4242\n"
     ]
    }
   ],
   "source": [
    "# example - 3\n",
    "# phone number parsing with regex\n",
    "import re\n",
    "\n",
    "# using search() method\n",
    "phoneNumberRegex = re.compile(r\"\\d{3}-\\d{3}-\\d{4}\")\n",
    "mo = phoneNumberRegex.search(\"My number is 415-555-4242\")\n",
    "\n",
    "print(f\"Phone number found: {mo.group()}\")"
   ]
  },
  {
   "cell_type": "code",
   "execution_count": 26,
   "metadata": {},
   "outputs": [
    {
     "name": "stdout",
     "output_type": "stream",
     "text": [
      "Phone number found: 415-555-1011\n"
     ]
    }
   ],
   "source": [
    "message = \"\"\"Call me at 415-555-1011 tomorrow.\n",
    "415-555-9999 is my office. 415-555-2122 is my home\"\"\"\n",
    "\n",
    "# using search() method\n",
    "mo = phoneNumberRegex.search(message)\n",
    "print(f\"Phone number found: {mo.group()}\")"
   ]
  },
  {
   "cell_type": "code",
   "execution_count": 27,
   "metadata": {},
   "outputs": [
    {
     "name": "stdout",
     "output_type": "stream",
     "text": [
      "Phone number found: ['415-555-1011', '415-555-9999', '415-555-2122']\n"
     ]
    }
   ],
   "source": [
    "# using findall() method\n",
    "ml = phoneNumberRegex.findall(message)\n",
    "\n",
    "print(f\"Phone number found: {ml}\")"
   ]
  },
  {
   "cell_type": "code",
   "execution_count": 31,
   "metadata": {},
   "outputs": [
    {
     "name": "stdout",
     "output_type": "stream",
     "text": [
      "Phone number found:\n",
      "415-555-1011\n",
      "415-555-9999\n",
      "415-555-2122\n"
     ]
    }
   ],
   "source": [
    "# using finditer() method\n",
    "mi = phoneNumberRegex.finditer(message)\n",
    "\n",
    "print(\"Phone number found:\")\n",
    "for match in mi:\n",
    "    print(match.group())"
   ]
  },
  {
   "cell_type": "code",
   "execution_count": null,
   "metadata": {},
   "outputs": [],
   "source": [
    "# # steps to using regular expressions in python\n",
    "# STEP-1: import re\n",
    "# STEP-2: create Regex object with re.compile() method..\n",
    "# ..remember to use a rawstring\n",
    "# STEP-3: pass the string you want to search into..\n",
    "# ..the Regex objects search()/findall()/finditer() method\n",
    "# STEP-4: call the match object's group() method fo search()..\n",
    "# ..or iterate if a iterable is returned by finiter()"
   ]
  },
  {
   "cell_type": "code",
   "execution_count": null,
   "metadata": {},
   "outputs": [],
   "source": [
    "# # web reference - regexpal.com"
   ]
  },
  {
   "cell_type": "code",
   "execution_count": 32,
   "metadata": {},
   "outputs": [
    {
     "data": {
      "text/plain": [
       "'415'"
      ]
     },
     "execution_count": 32,
     "metadata": {},
     "output_type": "execute_result"
    }
   ],
   "source": [
    "# example - 3\n",
    "# phone number parsing with regex\n",
    "# group matching\n",
    "phoneNumberRegex = re.compile(r\"(\\d\\d\\d)-(\\d\\d\\d)-(\\d\\d\\d\\d)\")\n",
    "mo = phoneNumberRegex.search(\"My phone number is 415-555-4242\")\n",
    "mo.group(1)"
   ]
  },
  {
   "cell_type": "code",
   "execution_count": 33,
   "metadata": {},
   "outputs": [
    {
     "data": {
      "text/plain": [
       "'555'"
      ]
     },
     "execution_count": 33,
     "metadata": {},
     "output_type": "execute_result"
    }
   ],
   "source": [
    "mo.group(2)"
   ]
  },
  {
   "cell_type": "code",
   "execution_count": 34,
   "metadata": {},
   "outputs": [
    {
     "data": {
      "text/plain": [
       "'4242'"
      ]
     },
     "execution_count": 34,
     "metadata": {},
     "output_type": "execute_result"
    }
   ],
   "source": [
    "mo.group(3)"
   ]
  },
  {
   "cell_type": "code",
   "execution_count": 35,
   "metadata": {},
   "outputs": [
    {
     "data": {
      "text/plain": [
       "'415-555-4242'"
      ]
     },
     "execution_count": 35,
     "metadata": {},
     "output_type": "execute_result"
    }
   ],
   "source": [
    "mo.group(0)"
   ]
  },
  {
   "cell_type": "code",
   "execution_count": 36,
   "metadata": {},
   "outputs": [
    {
     "data": {
      "text/plain": [
       "('415', '555', '4242')"
      ]
     },
     "execution_count": 36,
     "metadata": {},
     "output_type": "execute_result"
    }
   ],
   "source": [
    "mo.groups()"
   ]
  },
  {
   "cell_type": "code",
   "execution_count": 38,
   "metadata": {},
   "outputs": [
    {
     "data": {
      "text/plain": [
       "('415', '555-4242')"
      ]
     },
     "execution_count": 38,
     "metadata": {},
     "output_type": "execute_result"
    }
   ],
   "source": [
    "# example - 4\n",
    "# phone number parsing with regex\n",
    "# group matching\n",
    "phoneNumberRegex = re.compile(r\"(\\d{3})-(\\d{3}-\\d{4})\")\n",
    "mo = phoneNumberRegex.search(\"My phone number is 415-555-4242\")\n",
    "mo.groups() # returns tuple of all the groups"
   ]
  },
  {
   "cell_type": "code",
   "execution_count": 40,
   "metadata": {},
   "outputs": [
    {
     "data": {
      "text/plain": [
       "'415'"
      ]
     },
     "execution_count": 40,
     "metadata": {},
     "output_type": "execute_result"
    }
   ],
   "source": [
    "area_code, main_number = mo.groups()\n",
    "area_code"
   ]
  },
  {
   "cell_type": "code",
   "execution_count": 41,
   "metadata": {},
   "outputs": [
    {
     "data": {
      "text/plain": [
       "'555-4242'"
      ]
     },
     "execution_count": 41,
     "metadata": {},
     "output_type": "execute_result"
    }
   ],
   "source": [
    "main_number"
   ]
  },
  {
   "cell_type": "code",
   "execution_count": null,
   "metadata": {},
   "outputs": [],
   "source": [
    "# example - 5\n",
    "# phone number parsing with regex\n",
    "# group matching\n",
    "# parentheses complexity"
   ]
  },
  {
   "cell_type": "code",
   "execution_count": 43,
   "metadata": {},
   "outputs": [
    {
     "data": {
      "text/plain": [
       "'(415)'"
      ]
     },
     "execution_count": 43,
     "metadata": {},
     "output_type": "execute_result"
    }
   ],
   "source": [
    "phoneNumberRegex = re.compile(r\"(\\(\\d{3}\\))-(\\d{3}-\\d{4})\")\n",
    "mo = phoneNumberRegex.search(\"My phone number is (415)-555-4242\")\n",
    "\n",
    "mo.group(1)"
   ]
  },
  {
   "cell_type": "code",
   "execution_count": 44,
   "metadata": {},
   "outputs": [
    {
     "data": {
      "text/plain": [
       "'555-4242'"
      ]
     },
     "execution_count": 44,
     "metadata": {},
     "output_type": "execute_result"
    }
   ],
   "source": [
    "mo.group(2)"
   ]
  },
  {
   "cell_type": "code",
   "execution_count": 50,
   "metadata": {},
   "outputs": [
    {
     "data": {
      "text/plain": [
       "'Batman'"
      ]
     },
     "execution_count": 50,
     "metadata": {},
     "output_type": "execute_result"
    }
   ],
   "source": [
    "# example - 6\n",
    "# matching multiple groups with pipe\n",
    "import re\n",
    "\n",
    "heroRegex = re.compile(r\"Batman|Tina Fey\")\n",
    "# search()\n",
    "mo = heroRegex.search(\"Batman and Tina Fey\")\n",
    "mo.group()"
   ]
  },
  {
   "cell_type": "code",
   "execution_count": 52,
   "metadata": {},
   "outputs": [
    {
     "data": {
      "text/plain": [
       "'Tina Fey'"
      ]
     },
     "execution_count": 52,
     "metadata": {},
     "output_type": "execute_result"
    }
   ],
   "source": [
    "# search()\n",
    "mo = heroRegex.search(\"Tina Fey|Batman\")\n",
    "mo.group()"
   ]
  },
  {
   "cell_type": "code",
   "execution_count": 47,
   "metadata": {},
   "outputs": [
    {
     "data": {
      "text/plain": [
       "['Batman', 'Tina Fey']"
      ]
     },
     "execution_count": 47,
     "metadata": {},
     "output_type": "execute_result"
    }
   ],
   "source": [
    "# findall()\n",
    "mo = heroRegex.findall(\"Batman and Tina Fey\")\n",
    "mo"
   ]
  },
  {
   "cell_type": "code",
   "execution_count": 49,
   "metadata": {},
   "outputs": [
    {
     "name": "stdout",
     "output_type": "stream",
     "text": [
      "Batman\n",
      "Tina Fey\n"
     ]
    }
   ],
   "source": [
    "# finditer()\n",
    "mo = heroRegex.finditer(\"Batman and Tina Fey\")\n",
    "for match in mo:\n",
    "    print(match.group())"
   ]
  },
  {
   "cell_type": "code",
   "execution_count": 54,
   "metadata": {},
   "outputs": [
    {
     "data": {
      "text/plain": [
       "'Batmobile'"
      ]
     },
     "execution_count": 54,
     "metadata": {},
     "output_type": "execute_result"
    }
   ],
   "source": [
    "# example - 6\n",
    "# matching multiple patterns at once with pipe\n",
    "import re\n",
    "\n",
    "batRegex = re.compile(r\"Bat(man|mobile|copter|bat)\")\n",
    "mo = batRegex.search(\"Batmobile lost a wheel\")\n",
    "mo.group()"
   ]
  },
  {
   "cell_type": "code",
   "execution_count": 55,
   "metadata": {},
   "outputs": [
    {
     "data": {
      "text/plain": [
       "'mobile'"
      ]
     },
     "execution_count": 55,
     "metadata": {},
     "output_type": "execute_result"
    }
   ],
   "source": [
    "mo.group(1)"
   ]
  },
  {
   "cell_type": "code",
   "execution_count": null,
   "metadata": {},
   "outputs": [],
   "source": []
  },
  {
   "cell_type": "code",
   "execution_count": 57,
   "metadata": {},
   "outputs": [
    {
     "data": {
      "text/plain": [
       "'Batman'"
      ]
     },
     "execution_count": 57,
     "metadata": {},
     "output_type": "execute_result"
    }
   ],
   "source": [
    "# example - 7\n",
    "# option matching with question mark(?)\n",
    "import re\n",
    "\n",
    "batRegex = re.compile(r\"Bat(wo)?man\")\n",
    "mo = batRegex.search(\"The Adventures of Batman\")\n",
    "mo.group()"
   ]
  },
  {
   "cell_type": "code",
   "execution_count": 58,
   "metadata": {},
   "outputs": [
    {
     "data": {
      "text/plain": [
       "'Batwoman'"
      ]
     },
     "execution_count": 58,
     "metadata": {},
     "output_type": "execute_result"
    }
   ],
   "source": [
    "mo = batRegex.search(\"The Adventures of Batwoman\")\n",
    "mo.group()"
   ]
  },
  {
   "cell_type": "code",
   "execution_count": 61,
   "metadata": {},
   "outputs": [
    {
     "data": {
      "text/plain": [
       "'415-555-4242'"
      ]
     },
     "execution_count": 61,
     "metadata": {},
     "output_type": "execute_result"
    }
   ],
   "source": [
    "# example - 8\n",
    "# phone regex improved\n",
    "import re\n",
    "\n",
    "phoneRegex = re.compile(r\"(\\d{3}-)?\\d{3}-\\d{4}\")\n",
    "mo = phoneRegex.search(\"My number is 415-555-4242\")\n",
    "mo.group()"
   ]
  },
  {
   "cell_type": "code",
   "execution_count": 63,
   "metadata": {},
   "outputs": [
    {
     "data": {
      "text/plain": [
       "'555-4242'"
      ]
     },
     "execution_count": 63,
     "metadata": {},
     "output_type": "execute_result"
    }
   ],
   "source": [
    "mo = phoneRegex.search(\"My number is 555-4242\")\n",
    "mo.group()"
   ]
  },
  {
   "cell_type": "code",
   "execution_count": 64,
   "metadata": {},
   "outputs": [
    {
     "data": {
      "text/plain": [
       "'Batman'"
      ]
     },
     "execution_count": 64,
     "metadata": {},
     "output_type": "execute_result"
    }
   ],
   "source": [
    "# example - 9 \n",
    "# matching zero or more with star\n",
    "import re\n",
    "\n",
    "batRegex = re.compile(r\"Bat(wo)*man\")\n",
    "mo = batRegex.search(\"The Adventures of Batman\")\n",
    "mo.group()"
   ]
  },
  {
   "cell_type": "code",
   "execution_count": 65,
   "metadata": {},
   "outputs": [
    {
     "data": {
      "text/plain": [
       "'Batwoman'"
      ]
     },
     "execution_count": 65,
     "metadata": {},
     "output_type": "execute_result"
    }
   ],
   "source": [
    "mo = batRegex.search(\"The Adventures of Batwoman\")\n",
    "mo.group()"
   ]
  },
  {
   "cell_type": "code",
   "execution_count": 66,
   "metadata": {},
   "outputs": [
    {
     "data": {
      "text/plain": [
       "'Batwowowowoman'"
      ]
     },
     "execution_count": 66,
     "metadata": {},
     "output_type": "execute_result"
    }
   ],
   "source": [
    "mo = batRegex.search(\"The Adventure of Batwowowowoman\")\n",
    "mo.group()"
   ]
  },
  {
   "cell_type": "code",
   "execution_count": 67,
   "metadata": {},
   "outputs": [
    {
     "data": {
      "text/plain": [
       "'Batwoman'"
      ]
     },
     "execution_count": 67,
     "metadata": {},
     "output_type": "execute_result"
    }
   ],
   "source": [
    "# example - 10\n",
    "# matching one or more with the plus\n",
    "batRegex = re.compile(r\"Bat(wo)+man\")\n",
    "mo = batRegex.search(\"The Adventure of Batwoman\")\n",
    "mo.group()"
   ]
  },
  {
   "cell_type": "code",
   "execution_count": 68,
   "metadata": {},
   "outputs": [
    {
     "data": {
      "text/plain": [
       "'Batwowowowoman'"
      ]
     },
     "execution_count": 68,
     "metadata": {},
     "output_type": "execute_result"
    }
   ],
   "source": [
    "mo = batRegex.search(\"The Adventure of Batwowowowoman\")\n",
    "mo.group()"
   ]
  },
  {
   "cell_type": "code",
   "execution_count": 73,
   "metadata": {},
   "outputs": [
    {
     "name": "stdout",
     "output_type": "stream",
     "text": [
      "True\n"
     ]
    }
   ],
   "source": [
    "mo = batRegex.search(\"The Adventures of Batman\")\n",
    "# print(mo)\n",
    "print(mo == None)"
   ]
  },
  {
   "cell_type": "code",
   "execution_count": 74,
   "metadata": {},
   "outputs": [
    {
     "data": {
      "text/plain": [
       "'HaHaHa'"
      ]
     },
     "execution_count": 74,
     "metadata": {},
     "output_type": "execute_result"
    }
   ],
   "source": [
    "# example - 11, page - 156\n",
    "# matching specific repetitions with curly braces\n",
    "import re\n",
    "\n",
    "haRegex = re.compile(r\"(Ha){3}\")\n",
    "mo = haRegex.search(\"HaHaHa\")\n",
    "mo.group()"
   ]
  },
  {
   "cell_type": "code",
   "execution_count": 76,
   "metadata": {},
   "outputs": [
    {
     "name": "stdout",
     "output_type": "stream",
     "text": [
      "None\n"
     ]
    }
   ],
   "source": [
    "mo = haRegex.search(\"Ha\")\n",
    "if mo is not None:\n",
    "    print(mo.group())\n",
    "else:\n",
    "    print(mo)"
   ]
  },
  {
   "cell_type": "code",
   "execution_count": 77,
   "metadata": {},
   "outputs": [
    {
     "data": {
      "text/plain": [
       "'HaHaHaHaHa'"
      ]
     },
     "execution_count": 77,
     "metadata": {},
     "output_type": "execute_result"
    }
   ],
   "source": [
    "# example - 11, page 157\n",
    "# greedy vs non-greedy regular expressions\n",
    "import re\n",
    "#greedy\n",
    "greedyHaRegex = re.compile(r\"(Ha){3,5}\")\n",
    "mo = greedyHaRegex.search(\"HaHaHaHaHa\")\n",
    "mo.group()"
   ]
  },
  {
   "cell_type": "code",
   "execution_count": 80,
   "metadata": {},
   "outputs": [
    {
     "data": {
      "text/plain": [
       "'HaHaHa'"
      ]
     },
     "execution_count": 80,
     "metadata": {},
     "output_type": "execute_result"
    }
   ],
   "source": [
    "#non-greedy\n",
    "greedyHaRegex = re.compile(r\"(Ha){3,5}?\")\n",
    "mo = greedyHaRegex.search(\"HaHaHaHaHa\")\n",
    "mo.group()"
   ]
  },
  {
   "cell_type": "code",
   "execution_count": 82,
   "metadata": {},
   "outputs": [
    {
     "data": {
      "text/plain": [
       "'415-555-9999'"
      ]
     },
     "execution_count": 82,
     "metadata": {},
     "output_type": "execute_result"
    }
   ],
   "source": [
    "# example - 12, page - 157\n",
    "# the findall() method\n",
    "import re\n",
    "\n",
    "# using search() just returns first match\n",
    "phoneRegex = re.compile(r\"\\d{3}-\\d{3}-\\d{4}\")\n",
    "mo = phoneRegex.search(\"Cell: 415-555-9999 Work: 212-555-0000\")\n",
    "mo.group()"
   ]
  },
  {
   "cell_type": "code",
   "execution_count": 85,
   "metadata": {},
   "outputs": [
    {
     "data": {
      "text/plain": [
       "['415-555-9999', '212-555-0000']"
      ]
     },
     "execution_count": 85,
     "metadata": {},
     "output_type": "execute_result"
    }
   ],
   "source": [
    "# using findall() just returns all matches in a list\n",
    "phoneRegex = re.compile(r\"\\d{3}-\\d{3}-\\d{4}\")\n",
    "ml = phoneRegex.findall(\"Cell: 415-555-9999 Work: 212-555-0000\")\n",
    "ml"
   ]
  },
  {
   "cell_type": "code",
   "execution_count": 84,
   "metadata": {},
   "outputs": [
    {
     "data": {
      "text/plain": [
       "[('415', '555', '9999'), ('212', '555', '0000')]"
      ]
     },
     "execution_count": 84,
     "metadata": {},
     "output_type": "execute_result"
    }
   ],
   "source": [
    "# example - 13, page - 158\n",
    "import re\n",
    "\n",
    "phoneNumRegex = re.compile(r\"(\\d{3})-(\\d{3})-(\\d{4})\")\n",
    "matched_list = phoneNumRegex.findall(\"Cell: 415-555-9999 work: 212-555-0000\")\n",
    "matched_list"
   ]
  },
  {
   "cell_type": "code",
   "execution_count": null,
   "metadata": {},
   "outputs": [],
   "source": [
    "======================== PENDING ======================================="
   ]
  },
  {
   "cell_type": "code",
   "execution_count": 2,
   "metadata": {},
   "outputs": [
    {
     "data": {
      "text/plain": [
       "['12 drummers',\n",
       " '11 pipers',\n",
       " '10 lords',\n",
       " '9 ladies',\n",
       " '8 maids',\n",
       " '7 swans',\n",
       " '6 geese',\n",
       " '5 rings',\n",
       " '4 birds',\n",
       " '3 hends',\n",
       " '2 doves',\n",
       " '1 partdodge']"
      ]
     },
     "execution_count": 2,
     "metadata": {},
     "output_type": "execute_result"
    }
   ],
   "source": [
    "# example - 14, page - 158\n",
    "import re\n",
    "\n",
    "para = \"\"\"12 drummers, 11 pipers, 10 lords, 9 ladies, 8 maids, 7 swans,\n",
    "6 geese, 5 rings, 4 birds, 3 hends, 2 doves, 1 partdodge\"\"\"\n",
    "\n",
    "xmasRegex = re.compile(r\"\\d+\\s\\w+\")\n",
    "ml = xmasRegex.findall(para)\n",
    "ml"
   ]
  },
  {
   "cell_type": "code",
   "execution_count": 3,
   "metadata": {},
   "outputs": [
    {
     "data": {
      "text/plain": [
       "['o', 'o', 'o', 'e', 'a', 'a', 'o', 'o', 'A', 'O', 'O']"
      ]
     },
     "execution_count": 3,
     "metadata": {},
     "output_type": "execute_result"
    }
   ],
   "source": [
    "# example - 15, page - 159\n",
    "# making own character clas\n",
    "import re\n",
    "\n",
    "vowelRegex = re.compile(r\"[aeiouAEIOU]\")\n",
    "vowelRegex.findall(\"RoboCop eats bay food. BABY FOOD.\")"
   ]
  },
  {
   "cell_type": "code",
   "execution_count": 4,
   "metadata": {},
   "outputs": [
    {
     "data": {
      "text/plain": [
       "['R',\n",
       " 'b',\n",
       " 'C',\n",
       " 'p',\n",
       " ' ',\n",
       " 't',\n",
       " 's',\n",
       " ' ',\n",
       " 'b',\n",
       " 'y',\n",
       " ' ',\n",
       " 'f',\n",
       " 'd',\n",
       " '.',\n",
       " ' ',\n",
       " 'B',\n",
       " 'B',\n",
       " 'Y',\n",
       " ' ',\n",
       " 'F',\n",
       " 'D',\n",
       " '.']"
      ]
     },
     "execution_count": 4,
     "metadata": {},
     "output_type": "execute_result"
    }
   ],
   "source": [
    "# example - 15, page - 159\n",
    "# negative character class\n",
    "import re\n",
    "\n",
    "vowelRegex = re.compile(r\"[^aeiouAEIOU]\")\n",
    "vowelRegex.findall(\"RoboCop eats bay food. BABY FOOD.\")"
   ]
  },
  {
   "cell_type": "code",
   "execution_count": 5,
   "metadata": {},
   "outputs": [
    {
     "data": {
      "text/plain": [
       "<re.Match object; span=(0, 5), match='Hello'>"
      ]
     },
     "execution_count": 5,
     "metadata": {},
     "output_type": "execute_result"
    }
   ],
   "source": [
    "# the caret(^) and dollar($) sign character\n",
    "# example - 16, page - 161\n",
    "\n",
    "import re\n",
    "beginsWithHello = re.compile(r\"^Hello\")\n",
    "beginsWithHello.search(\"Hello world!\")"
   ]
  },
  {
   "cell_type": "code",
   "execution_count": 7,
   "metadata": {},
   "outputs": [
    {
     "data": {
      "text/plain": [
       "True"
      ]
     },
     "execution_count": 7,
     "metadata": {},
     "output_type": "execute_result"
    }
   ],
   "source": [
    "beginsWithHello.search(\"He said hello.\") == None"
   ]
  },
  {
   "cell_type": "code",
   "execution_count": 8,
   "metadata": {},
   "outputs": [
    {
     "data": {
      "text/plain": [
       "<re.Match object; span=(16, 17), match='2'>"
      ]
     },
     "execution_count": 8,
     "metadata": {},
     "output_type": "execute_result"
    }
   ],
   "source": [
    "# example - 17, page - 160\n",
    "# ends with sign($)\n",
    "endsWithNumber = re.compile(r\"\\d$\")\n",
    "endsWithNumber.search(\"Your number is 42\")"
   ]
  },
  {
   "cell_type": "code",
   "execution_count": 9,
   "metadata": {},
   "outputs": [
    {
     "data": {
      "text/plain": [
       "True"
      ]
     },
     "execution_count": 9,
     "metadata": {},
     "output_type": "execute_result"
    }
   ],
   "source": [
    "endsWithNumber.search(\"Your number is forty two.\") == None"
   ]
  },
  {
   "cell_type": "code",
   "execution_count": 12,
   "metadata": {},
   "outputs": [
    {
     "data": {
      "text/plain": [
       "<re.Match object; span=(0, 10), match='1234567890'>"
      ]
     },
     "execution_count": 12,
     "metadata": {},
     "output_type": "execute_result"
    }
   ],
   "source": [
    "# example - 18, page - 160\n",
    "import re\n",
    "\n",
    "wholeStringNum = re.compile(r\"^\\d+$\")\n",
    "wholeStringNum.search(\"1234567890\")"
   ]
  },
  {
   "cell_type": "code",
   "execution_count": 14,
   "metadata": {},
   "outputs": [
    {
     "data": {
      "text/plain": [
       "True"
      ]
     },
     "execution_count": 14,
     "metadata": {},
     "output_type": "execute_result"
    }
   ],
   "source": [
    "wholeStringNum.search(\"12345xyz67890\") == None"
   ]
  },
  {
   "cell_type": "code",
   "execution_count": 15,
   "metadata": {},
   "outputs": [
    {
     "data": {
      "text/plain": [
       "True"
      ]
     },
     "execution_count": 15,
     "metadata": {},
     "output_type": "execute_result"
    }
   ],
   "source": [
    "wholeStringNum.search(\"12  34567890\") == None"
   ]
  },
  {
   "cell_type": "code",
   "execution_count": 16,
   "metadata": {},
   "outputs": [
    {
     "data": {
      "text/plain": [
       "['cat', 'hat', 'sat', 'lat', 'mat']"
      ]
     },
     "execution_count": 16,
     "metadata": {},
     "output_type": "execute_result"
    }
   ],
   "source": [
    "# the wildchard character(.)\n",
    "# example - 19, page - 160\n",
    "import re\n",
    "\n",
    "atRegex = re.compile(r\".at\")\n",
    "atRegex.findall(\"The cat int he hat sat on the flat mat.\")\n"
   ]
  },
  {
   "cell_type": "code",
   "execution_count": 21,
   "metadata": {},
   "outputs": [
    {
     "data": {
      "text/plain": [
       "'First Name: Al Last Name: Sweigart'"
      ]
     },
     "execution_count": 21,
     "metadata": {},
     "output_type": "execute_result"
    }
   ],
   "source": [
    "# matching everything with dot-stat(.*)\n",
    "# example - 20, page - 161\n",
    "import re\n",
    "\n",
    "nameRegex = re.compile(r\"First Name: (.*)Last Name: (.*)\")\n",
    "mo = nameRegex.search(\"First Name: Al Last Name: Sweigart\")\n",
    "mo.group()"
   ]
  },
  {
   "cell_type": "code",
   "execution_count": 22,
   "metadata": {},
   "outputs": [
    {
     "data": {
      "text/plain": [
       "'Al '"
      ]
     },
     "execution_count": 22,
     "metadata": {},
     "output_type": "execute_result"
    }
   ],
   "source": [
    "mo.group(1)"
   ]
  },
  {
   "cell_type": "code",
   "execution_count": 23,
   "metadata": {},
   "outputs": [
    {
     "data": {
      "text/plain": [
       "'Sweigart'"
      ]
     },
     "execution_count": 23,
     "metadata": {},
     "output_type": "execute_result"
    }
   ],
   "source": [
    "mo.group(2)"
   ]
  },
  {
   "cell_type": "code",
   "execution_count": 26,
   "metadata": {},
   "outputs": [
    {
     "data": {
      "text/plain": [
       "'<To serve man>'"
      ]
     },
     "execution_count": 26,
     "metadata": {},
     "output_type": "execute_result"
    }
   ],
   "source": [
    "# non greedy regex(?)\n",
    "# example - 21, page - 161\n",
    "import re\n",
    "# nongreedy\n",
    "nongreedyRegex = re.compile(r\"<.*?>\")\n",
    "mo = nongreedyRegex.search(\"<To serve man> for dinner.>\")\n",
    "mo.group()"
   ]
  },
  {
   "cell_type": "code",
   "execution_count": 28,
   "metadata": {},
   "outputs": [
    {
     "data": {
      "text/plain": [
       "'<To serve man> for dinner.>'"
      ]
     },
     "execution_count": 28,
     "metadata": {},
     "output_type": "execute_result"
    }
   ],
   "source": [
    "# greedy\n",
    "nongreedyRegex = re.compile(r\"<.*>\")\n",
    "mo = nongreedyRegex.search(\"<To serve man> for dinner.>\")\n",
    "mo.group()"
   ]
  },
  {
   "cell_type": "code",
   "execution_count": 2,
   "metadata": {},
   "outputs": [
    {
     "data": {
      "text/plain": [
       "'Serve the public trust.'"
      ]
     },
     "execution_count": 2,
     "metadata": {},
     "output_type": "execute_result"
    }
   ],
   "source": [
    "# matching newline with dot character\n",
    "# example - 22, page - 162\n",
    "import re\n",
    "\n",
    "noNewlineRegex = re.compile(r\".*\")\n",
    "noNewlineRegex.search(\"Serve the public trust.\\nProtect the innocent.\\nUpholad the law.\").group()"
   ]
  },
  {
   "cell_type": "code",
   "execution_count": 4,
   "metadata": {},
   "outputs": [
    {
     "data": {
      "text/plain": [
       "'Serve the public trust.\\nProtect the innocent.\\nUpholad the law.'"
      ]
     },
     "execution_count": 4,
     "metadata": {},
     "output_type": "execute_result"
    }
   ],
   "source": [
    "newlineRegex = re.compile(r\".*\",re.DOTALL)\n",
    "newlineRegex.search(\"Serve the public trust.\\nProtect the innocent.\\nUpholad the law.\").group()"
   ]
  },
  {
   "cell_type": "code",
   "execution_count": 5,
   "metadata": {},
   "outputs": [
    {
     "data": {
      "text/plain": [
       "'RoboCop'"
      ]
     },
     "execution_count": 5,
     "metadata": {},
     "output_type": "execute_result"
    }
   ],
   "source": [
    "# case-insensitive matching\n",
    "# example - 23, page - 163\n",
    "import re\n",
    "\n",
    "robocop = re.compile(r\"robocop\",re.I)\n",
    "robocop.search(\"RoboCop is part man, part machine, all cop.\").group()"
   ]
  },
  {
   "cell_type": "code",
   "execution_count": 6,
   "metadata": {},
   "outputs": [
    {
     "data": {
      "text/plain": [
       "'ROBOCOP'"
      ]
     },
     "execution_count": 6,
     "metadata": {},
     "output_type": "execute_result"
    }
   ],
   "source": [
    "robocop.search(\"ROBOCOP protects the innocent.\").group()"
   ]
  },
  {
   "cell_type": "code",
   "execution_count": 7,
   "metadata": {},
   "outputs": [
    {
     "data": {
      "text/plain": [
       "'robocop'"
      ]
     },
     "execution_count": 7,
     "metadata": {},
     "output_type": "execute_result"
    }
   ],
   "source": [
    "robocop.search(\"Al, why does your programming book talk about robocop so much?\").group()"
   ]
  },
  {
   "cell_type": "code",
   "execution_count": 8,
   "metadata": {},
   "outputs": [
    {
     "data": {
      "text/plain": [
       "'CENSORED gave the serect documents to CENSORED.'"
      ]
     },
     "execution_count": 8,
     "metadata": {},
     "output_type": "execute_result"
    }
   ],
   "source": [
    "# substituting strings with sub() method\n",
    "# example - 24, page - 163\n",
    "import re\n",
    "\n",
    "namesRegex = re.compile(r\"Agent \\w+\")\n",
    "namesRegex.sub(\"CENSORED\", \"Agent Alice gave the serect documents to Agent Bob.\")"
   ]
  },
  {
   "cell_type": "code",
   "execution_count": 9,
   "metadata": {},
   "outputs": [
    {
     "data": {
      "text/plain": [
       "'A**** told C**** that E**** knew B**** was a double Agent'"
      ]
     },
     "execution_count": 9,
     "metadata": {},
     "output_type": "execute_result"
    }
   ],
   "source": [
    "# example - 25, page - 164\n",
    "agentNamesRegex = re.compile(r\"Agent (\\w)\\w*\")\n",
    "agentNamesRegex.sub(r\"\\1****\", \"Agent Alice told Agent Carol that Agent Eve knew Agent Bob was a double Agent\")"
   ]
  },
  {
   "cell_type": "code",
   "execution_count": null,
   "metadata": {},
   "outputs": [],
   "source": [
    "# managing complex regex\n",
    "# example - 25, page - 164\n",
    "phoneRegex = re.compile(r\"\"\"(\n",
    "    (\\d{3}|\\(\\d{3})\\)            # area code\n",
    "    (\\s|-|\\.)?                   # separator\n",
    "    \\d{3}                        # first 3 digits\n",
    "    (\\s|-|\\.)                    # separator\n",
    "    \\d{4}                        # last 4 digits\n",
    "    (\\s*(ext|ext.|x)\\s*\\d{2,5})? # extension\n",
    ")\"\"\",re.VERBOSE)"
   ]
  },
  {
   "cell_type": "code",
   "execution_count": null,
   "metadata": {},
   "outputs": [],
   "source": []
  },
  {
   "cell_type": "code",
   "execution_count": null,
   "metadata": {},
   "outputs": [],
   "source": []
  },
  {
   "cell_type": "code",
   "execution_count": null,
   "metadata": {},
   "outputs": [],
   "source": []
  },
  {
   "cell_type": "code",
   "execution_count": null,
   "metadata": {},
   "outputs": [],
   "source": []
  },
  {
   "cell_type": "code",
   "execution_count": null,
   "metadata": {},
   "outputs": [],
   "source": []
  },
  {
   "cell_type": "code",
   "execution_count": null,
   "metadata": {},
   "outputs": [],
   "source": []
  },
  {
   "cell_type": "code",
   "execution_count": null,
   "metadata": {},
   "outputs": [],
   "source": []
  },
  {
   "cell_type": "code",
   "execution_count": null,
   "metadata": {},
   "outputs": [],
   "source": []
  },
  {
   "cell_type": "code",
   "execution_count": null,
   "metadata": {},
   "outputs": [],
   "source": []
  },
  {
   "cell_type": "code",
   "execution_count": null,
   "metadata": {},
   "outputs": [],
   "source": []
  },
  {
   "cell_type": "code",
   "execution_count": null,
   "metadata": {},
   "outputs": [],
   "source": []
  }
 ],
 "metadata": {
  "kernelspec": {
   "display_name": "Python 3",
   "language": "python",
   "name": "python3"
  },
  "language_info": {
   "codemirror_mode": {
    "name": "ipython",
    "version": 3
   },
   "file_extension": ".py",
   "mimetype": "text/x-python",
   "name": "python",
   "nbconvert_exporter": "python",
   "pygments_lexer": "ipython3",
   "version": "3.8.5"
  }
 },
 "nbformat": 4,
 "nbformat_minor": 2
}
